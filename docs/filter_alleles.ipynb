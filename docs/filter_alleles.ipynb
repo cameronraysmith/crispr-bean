{
 "cells": [
  {
   "cell_type": "code",
   "execution_count": 1,
   "metadata": {},
   "outputs": [],
   "source": [
    "import os\n",
    "import sys\n",
    "import argparse\n",
    "import logging\n",
    "import bean as be\n",
    "from bean.plotting.allele_stats import plot_n_alleles_per_guide, plot_n_guides_per_edit\n",
    "import matplotlib.pyplot as plt\n",
    "\n",
    "plt.style.use(\"default\")"
   ]
  },
  {
   "cell_type": "code",
   "execution_count": 18,
   "metadata": {},
   "outputs": [],
   "source": [
    "bdata_path = \"/PHShome/jr1025//projects/ANBE/anbe_manuscript/workflow/results/filtered_annotated/LDLRCDS/bean_count_LDLRCDS_masked.h5ad\"\n",
    "out_bdata_path = bdata_path = \"/PHShome/jr1025//projects/ANBE/anbe_manuscript/workflow/results/filtered_annotated/LDLRCDS/bean_count_LDLRCDS_alleleFiltered.h5ad\"\n",
    "plasmid_path = \"/PHShome/jr1025//projects/ANBE/anbe_manuscript/workflow/results/mapped/LDLRCDS/bean_count_LDLRCDS_plasmid.h5ad\"\n",
    "edit_start_pos = 2\n",
    "edit_end_pos = 7\n",
    "filter_allele_proportion = 0.05\n",
    "filter_sample_proportion = 0.2\n",
    "jaccard_threshold = 0.5\n",
    "output_prefix=bdata_path.rsplit(\".h5ad\", 1)[0] + \"_alleleFiltered\""
   ]
  },
  {
   "cell_type": "code",
   "execution_count": 3,
   "metadata": {},
   "outputs": [],
   "source": [
    "bdata = be.read_h5ad(bdata_path)"
   ]
  },
  {
   "cell_type": "code",
   "execution_count": 4,
   "metadata": {},
   "outputs": [
    {
     "name": "stdout",
     "output_type": "stream",
     "text": [
      "Starting from .uns['allele_counts'] with 987700 alleles.\n"
     ]
    }
   ],
   "source": [
    "print(\n",
    "    f\"Starting from .uns['allele_counts'] with {len(bdata.uns['allele_counts'])} alleles.\"\n",
    ")"
   ]
  },
  {
   "cell_type": "code",
   "execution_count": 5,
   "metadata": {},
   "outputs": [],
   "source": [
    "allele_df_keys = [\"allele_counts\"]"
   ]
  },
  {
   "cell_type": "code",
   "execution_count": 6,
   "metadata": {},
   "outputs": [
    {
     "name": "stdout",
     "output_type": "stream",
     "text": [
      "Running Fisher's exact test to get significant edits compared to control...\n",
      "Done calculating significance.\n",
      "\n",
      "\n",
      "Filtering alleles for those containing significant edits (q < 0.05)...\n",
      "Running 30 parallel processes to filter alleles...\n",
      "Done filtering alleles, merging the result...\n"
     ]
    },
    {
     "data": {
      "application/json": {
       "ascii": false,
       "bar_format": "{l_bar}{bar}{r_bar}",
       "colour": null,
       "elapsed": 0.016897201538085938,
       "initial": 0,
       "n": 0,
       "ncols": null,
       "nrows": null,
       "postfix": null,
       "prefix": "Mapping alleles to closest filtered alleles",
       "rate": null,
       "total": 7469,
       "unit": "it",
       "unit_divisor": 1000,
       "unit_scale": false
      },
      "application/vnd.jupyter.widget-view+json": {
       "model_id": "38d1de311abf44cd829ce4c3109c0a65",
       "version_major": 2,
       "version_minor": 0
      },
      "text/plain": [
       "Mapping alleles to closest filtered alleles:   0%|          | 0/7469 [00:00<?, ?it/s]"
      ]
     },
     "metadata": {},
     "output_type": "display_data"
    },
    {
     "name": "stdout",
     "output_type": "stream",
     "text": [
      "Done!\n",
      "Filtered down to 164593 alleles.\n"
     ]
    }
   ],
   "source": [
    "plasmid_adata = be.read_h5ad(plasmid_path)\n",
    "plasmid_adata.uns[allele_df_keys[-1]] = plasmid_adata.uns[\n",
    "    allele_df_keys[-1]\n",
    "].loc[plasmid_adata.uns[allele_df_keys[-1]].allele.map(str) != \"\", :]\n",
    "\n",
    "(q_val_each, sig_allele_df,) = be.an.filter_alleles.filter_alleles(\n",
    "    bdata, plasmid_adata, filter_each_sample=True, run_parallel=True\n",
    ")\n",
    "bdata.uns[\"sig_allele_counts\"] = sig_allele_df.reset_index(drop=True)\n",
    "allele_df_keys.append(\"sig_allele_counts\")\n",
    "print(f\"Filtered down to {len(bdata.uns['sig_allele_counts'])} alleles.\")"
   ]
  },
  {
   "cell_type": "markdown",
   "metadata": {},
   "source": [
    "## Filter based on relative position within spcaer sequence"
   ]
  },
  {
   "cell_type": "code",
   "execution_count": 7,
   "metadata": {},
   "outputs": [
    {
     "name": "stdout",
     "output_type": "stream",
     "text": [
      "160103 edits filtered from 164593 alleles.\n",
      "mapping filtered alleles ...\n"
     ]
    },
    {
     "data": {
      "application/json": {
       "ascii": false,
       "bar_format": "{l_bar}{bar}{r_bar}",
       "colour": null,
       "elapsed": 0.013208389282226562,
       "initial": 0,
       "n": 0,
       "ncols": null,
       "nrows": null,
       "postfix": null,
       "prefix": "Mapping alleles to closest filtered alleles",
       "rate": null,
       "total": 7257,
       "unit": "it",
       "unit_divisor": 1000,
       "unit_scale": false
      },
      "application/vnd.jupyter.widget-view+json": {
       "model_id": "1d1ee41488c441989a84fe4e6f85a870",
       "version_major": 2,
       "version_minor": 0
      },
      "text/plain": [
       "Mapping alleles to closest filtered alleles:   0%|          | 0/7257 [00:00<?, ?it/s]"
      ]
     },
     "metadata": {},
     "output_type": "display_data"
    },
    {
     "name": "stdout",
     "output_type": "stream",
     "text": [
      "Filtered down to 65568 alleles.\n"
     ]
    }
   ],
   "source": [
    "bdata.uns[f\"{allele_df_keys[-1]}_spacer\"] = bdata.filter_allele_counts_by_pos(\n",
    "    rel_pos_start=0,\n",
    "    rel_pos_end=20,\n",
    "    rel_pos_is_reporter=False,\n",
    "    map_to_filtered=True,\n",
    "    allele_uns_key=allele_df_keys[-1],\n",
    "    jaccard_threshold= jaccard_threshold,\n",
    ").reset_index(drop=True)\n",
    "print(\n",
    "    f\"Filtered down to {len(bdata.uns[f'{allele_df_keys[-1]}_spacer'])} alleles.\"\n",
    ")\n",
    "allele_df_keys.append(f\"{allele_df_keys[-1]}_spacer\")"
   ]
  },
  {
   "cell_type": "code",
   "execution_count": 8,
   "metadata": {},
   "outputs": [
    {
     "name": "stdout",
     "output_type": "stream",
     "text": [
      "Filtering out edits based on relatvie position in spacer: 0-based [2,7)...\n",
      "86580 edits filtered from 65568 alleles.\n",
      "mapping filtered alleles ...\n"
     ]
    },
    {
     "data": {
      "application/json": {
       "ascii": false,
       "bar_format": "{l_bar}{bar}{r_bar}",
       "colour": null,
       "elapsed": 0.013557195663452148,
       "initial": 0,
       "n": 0,
       "ncols": null,
       "nrows": null,
       "postfix": null,
       "prefix": "Mapping alleles to closest filtered alleles",
       "rate": null,
       "total": 7126,
       "unit": "it",
       "unit_divisor": 1000,
       "unit_scale": false
      },
      "application/vnd.jupyter.widget-view+json": {
       "model_id": "dffcdb79f967444e8620fbe2a89711ad",
       "version_major": 2,
       "version_minor": 0
      },
      "text/plain": [
       "Mapping alleles to closest filtered alleles:   0%|          | 0/7126 [00:00<?, ?it/s]"
      ]
     },
     "metadata": {},
     "output_type": "display_data"
    },
    {
     "name": "stdout",
     "output_type": "stream",
     "text": [
      "Filtered down to 10783 alleles.\n"
     ]
    }
   ],
   "source": [
    "print(\n",
    "    f\"Filtering out edits based on relatvie position in spacer: 0-based [{edit_start_pos},{edit_end_pos})...\"\n",
    ")\n",
    "filtered_key = (\n",
    "    f\"{allele_df_keys[-1]}_{ edit_start_pos}_{ edit_end_pos}\"\n",
    ")\n",
    "bdata.uns[filtered_key] = bdata.filter_allele_counts_by_pos(\n",
    "    rel_pos_start= edit_start_pos,\n",
    "    rel_pos_end= edit_end_pos,\n",
    "    rel_pos_is_reporter=False,\n",
    "    map_to_filtered=True,\n",
    "    allele_uns_key=allele_df_keys[-1],\n",
    "    jaccard_threshold= jaccard_threshold,\n",
    ").reset_index(drop=True)\n",
    "allele_df_keys.append(filtered_key)\n",
    "print(f\"Filtered down to {len(bdata.uns[filtered_key])} alleles.\")"
   ]
  },
  {
   "cell_type": "markdown",
   "metadata": {},
   "source": [
    "## Translate alleles"
   ]
  },
  {
   "cell_type": "code",
   "execution_count": 9,
   "metadata": {
    "scrolled": true
   },
   "outputs": [
    {
     "name": "stdout",
     "output_type": "stream",
     "text": [
      "Translating alleles...\n",
      "ref:T at pos 1417, got edit 11224270:11:+:A>G\n",
      "ref:C at pos 1415, got edit 11224268:9:+:A>G\n",
      "ref:C at pos 1415, got edit 11224268:9:+:A>G\n",
      "Cannot translate codon due to ambiguity: GG-\n",
      "reached the end of CDS, frameshift.\n",
      "reached the end of CDS, frameshift.\n",
      "ref:T at pos 1958, got edit 11230881:11:+:C>G\n",
      "ref:C at pos 1973, got edit 11230896:10:-:A>G\n",
      "ref:C at pos 1973, got edit 11230896:11:-:A>G\n",
      "Cannot translate codon due to ambiguity: T-C\n",
      "ref:A at pos 2231, got edit 11233941:10:-:C>T\n",
      "ref:A at pos 2231, got edit 11233941:10:-:C>T\n",
      "ref:C at pos 2248, got edit 11233958:9:-:A>G\n",
      "reached the end of CDS, frameshift.\n",
      "reached the end of CDS, frameshift.\n",
      "reached the end of CDS, frameshift.\n",
      "reached the end of CDS, frameshift.\n",
      "reached the end of CDS, frameshift.\n",
      "reached the end of CDS, frameshift.\n",
      "reached the end of CDS, frameshift.\n",
      "reached the end of CDS, frameshift.\n",
      "reached the end of CDS, frameshift.\n",
      "reached the end of CDS, frameshift.\n",
      "reached the end of CDS, frameshift.\n",
      "reached the end of CDS, frameshift.\n",
      "reached the end of CDS, frameshift.\n",
      "reached the end of CDS, frameshift.\n",
      "reached the end of CDS, frameshift.\n",
      "reached the end of CDS, frameshift.\n",
      "reached the end of CDS, frameshift.\n",
      "reached the end of CDS, frameshift.\n",
      "reached the end of CDS, frameshift.\n",
      "reached the end of CDS, frameshift.\n",
      "reached the end of CDS, frameshift.\n",
      "reached the end of CDS, frameshift.\n",
      "reached the end of CDS, frameshift.\n",
      "reached the end of CDS, frameshift.\n",
      "reached the end of CDS, frameshift.\n",
      "reached the end of CDS, frameshift.\n",
      "reached the end of CDS, frameshift.\n",
      "reached the end of CDS, frameshift.\n",
      "reached the end of CDS, frameshift.\n",
      "reached the end of CDS, frameshift.\n",
      "reached the end of CDS, frameshift.\n",
      "reached the end of CDS, frameshift.\n",
      "reached the end of CDS, frameshift.\n",
      "reached the end of CDS, frameshift.\n",
      "Filtered down to 10278 alleles.\n"
     ]
    }
   ],
   "source": [
    "print(\n",
    "    \"Translating alleles...\"\n",
    ")  # TODO: Check & document custom fasta file for translation\n",
    "filtered_key = f\"{allele_df_keys[-1]}_translated\"\n",
    "bdata.uns[filtered_key] = be.translate_allele_df(\n",
    "    bdata.uns[allele_df_keys[-1]], \n",
    ").rename(columns={\"allele\": \"aa_allele\"})\n",
    "allele_df_keys.append(filtered_key)\n",
    "print(f\"Filtered down to {len(bdata.uns[filtered_key])} alleles.\")"
   ]
  },
  {
   "cell_type": "markdown",
   "metadata": {},
   "source": [
    "## Filter by allele proportion"
   ]
  },
  {
   "cell_type": "code",
   "execution_count": 10,
   "metadata": {},
   "outputs": [
    {
     "name": "stdout",
     "output_type": "stream",
     "text": [
      "Filtering alleles for those have allele fraction 0.05 in at least 20.0% of samples...\n"
     ]
    },
    {
     "data": {
      "application/json": {
       "ascii": false,
       "bar_format": "{l_bar}{bar}{r_bar}",
       "colour": null,
       "elapsed": 0.01263427734375,
       "initial": 0,
       "n": 0,
       "ncols": null,
       "nrows": null,
       "postfix": null,
       "prefix": "",
       "rate": null,
       "total": 5169,
       "unit": "it",
       "unit_divisor": 1000,
       "unit_scale": false
      },
      "application/vnd.jupyter.widget-view+json": {
       "model_id": "",
       "version_major": 2,
       "version_minor": 0
      },
      "text/plain": [
       "  0%|          | 0/5169 [00:00<?, ?it/s]"
      ]
     },
     "metadata": {},
     "output_type": "display_data"
    },
    {
     "name": "stdout",
     "output_type": "stream",
     "text": [
      "Mapping filtered alleles...\n"
     ]
    },
    {
     "data": {
      "application/json": {
       "ascii": false,
       "bar_format": "{l_bar}{bar}{r_bar}",
       "colour": null,
       "elapsed": 0.013303041458129883,
       "initial": 0,
       "n": 0,
       "ncols": null,
       "nrows": null,
       "postfix": null,
       "prefix": "Mapping alleles to closest filtered alleles",
       "rate": null,
       "total": 5169,
       "unit": "it",
       "unit_divisor": 1000,
       "unit_scale": false
      },
      "application/vnd.jupyter.widget-view+json": {
       "model_id": "",
       "version_major": 2,
       "version_minor": 0
      },
      "text/plain": [
       "Mapping alleles to closest filtered alleles:   0%|          | 0/5169 [00:00<?, ?it/s]"
      ]
     },
     "metadata": {},
     "output_type": "display_data"
    },
    {
     "name": "stdout",
     "output_type": "stream",
     "text": [
      "Filtered down to 6657 alleles.\n"
     ]
    }
   ],
   "source": [
    "print(\n",
    "    f\"Filtering alleles for those have allele fraction {filter_allele_proportion} in at least {filter_sample_proportion*100}% of samples...\"\n",
    ")\n",
    "filtered_key = f\"{allele_df_keys[-1]}_prop{filter_allele_proportion}_{filter_sample_proportion}\"\n",
    "bdata.uns[filtered_key] = be.an.filter_alleles.filter_allele_prop(\n",
    "    bdata,\n",
    "    allele_df_keys[-1],\n",
    "    allele_prop_thres=filter_allele_proportion,\n",
    "    sample_prop_thres=filter_sample_proportion,\n",
    "    map_to_filtered=True,\n",
    "    retain_max=True,\n",
    "    allele_col=bdata.uns[allele_df_keys[-1]].columns[1],\n",
    "    distribute=True,\n",
    "    jaccard_threshold=jaccard_threshold,\n",
    ")\n",
    "allele_df_keys.append(filtered_key)\n",
    "print(f\"Filtered down to {len(bdata.uns[filtered_key])} alleles.\")"
   ]
  },
  {
   "cell_type": "code",
   "execution_count": 14,
   "metadata": {},
   "outputs": [
    {
     "data": {
      "text/plain": [
       "['allele_counts',\n",
       " 'sig_allele_counts',\n",
       " 'sig_allele_counts_spacer',\n",
       " 'sig_allele_counts_spacer_2_7',\n",
       " 'sig_allele_counts_spacer_2_7_translated',\n",
       " 'sig_allele_counts_spacer_2_7_translated_prop0.05_0.2']"
      ]
     },
     "execution_count": 14,
     "metadata": {},
     "output_type": "execute_result"
    }
   ],
   "source": [
    "allele_df_keys"
   ]
  },
  {
   "cell_type": "code",
   "execution_count": 13,
   "metadata": {},
   "outputs": [],
   "source": [
    "filter_sample_proportion  = 0.1"
   ]
  },
  {
   "cell_type": "code",
   "execution_count": 15,
   "metadata": {},
   "outputs": [
    {
     "name": "stdout",
     "output_type": "stream",
     "text": [
      "Filtering alleles for those have allele fraction 0.05 in at least 10.0% of samples...\n"
     ]
    },
    {
     "data": {
      "application/json": {
       "ascii": false,
       "bar_format": "{l_bar}{bar}{r_bar}",
       "colour": null,
       "elapsed": 0.012611627578735352,
       "initial": 0,
       "n": 0,
       "ncols": null,
       "nrows": null,
       "postfix": null,
       "prefix": "",
       "rate": null,
       "total": 5169,
       "unit": "it",
       "unit_divisor": 1000,
       "unit_scale": false
      },
      "application/vnd.jupyter.widget-view+json": {
       "model_id": "a849a21bc64a41e7a2aa2d1c05461cfa",
       "version_major": 2,
       "version_minor": 0
      },
      "text/plain": [
       "  0%|          | 0/5169 [00:00<?, ?it/s]"
      ]
     },
     "metadata": {},
     "output_type": "display_data"
    },
    {
     "name": "stdout",
     "output_type": "stream",
     "text": [
      "Mapping filtered alleles...\n"
     ]
    },
    {
     "data": {
      "application/json": {
       "ascii": false,
       "bar_format": "{l_bar}{bar}{r_bar}",
       "colour": null,
       "elapsed": 0.012696027755737305,
       "initial": 0,
       "n": 0,
       "ncols": null,
       "nrows": null,
       "postfix": null,
       "prefix": "Mapping alleles to closest filtered alleles",
       "rate": null,
       "total": 5169,
       "unit": "it",
       "unit_divisor": 1000,
       "unit_scale": false
      },
      "application/vnd.jupyter.widget-view+json": {
       "model_id": "093abd7781aa4c37b5ae61473c046112",
       "version_major": 2,
       "version_minor": 0
      },
      "text/plain": [
       "Mapping alleles to closest filtered alleles:   0%|          | 0/5169 [00:00<?, ?it/s]"
      ]
     },
     "metadata": {},
     "output_type": "display_data"
    },
    {
     "name": "stdout",
     "output_type": "stream",
     "text": [
      "Filtered down to 7340 alleles.\n"
     ]
    }
   ],
   "source": [
    "print(\n",
    "    f\"Filtering alleles for those have allele fraction {filter_allele_proportion} in at least {filter_sample_proportion*100}% of samples...\"\n",
    ")\n",
    "filtered_key = f\"{allele_df_keys[-2]}_prop{filter_allele_proportion}_{filter_sample_proportion}\"\n",
    "bdata.uns[filtered_key] = be.an.filter_alleles.filter_allele_prop(\n",
    "    bdata,\n",
    "    allele_df_keys[-2],\n",
    "    allele_prop_thres=filter_allele_proportion,\n",
    "    sample_prop_thres=filter_sample_proportion,\n",
    "    map_to_filtered=True,\n",
    "    retain_max=True,\n",
    "    allele_col=bdata.uns[allele_df_keys[-2]].columns[1],\n",
    "    distribute=True,\n",
    "    jaccard_threshold=jaccard_threshold,\n",
    ")\n",
    "allele_df_keys.append(filtered_key)\n",
    "print(f\"Filtered down to {len(bdata.uns[filtered_key])} alleles.\")"
   ]
  },
  {
   "cell_type": "markdown",
   "metadata": {},
   "source": [
    "# Plot filtering steps"
   ]
  },
  {
   "cell_type": "code",
   "execution_count": 16,
   "metadata": {},
   "outputs": [
    {
     "name": "stdout",
     "output_type": "stream",
     "text": [
      "Saving plotting result and log at /PHShome/jr1025//projects/ANBE/anbe_manuscript/workflow/results/filtered_annotated/LDLRCDS/bean_count_LDLRCDS_masked_alleleFiltered.[filtered_allele_stats.pdf, filter_log.txt].\n"
     ]
    },
    {
     "data": {
      "image/png": "[encoded data removed]",
      "text/plain": [
       "<Figure size 432x1512 with 14 Axes>"
      ]
     },
     "metadata": {
      "needs_background": "light"
     },
     "output_type": "display_data"
    }
   ],
   "source": [
    "fig, ax = plt.subplots(len(allele_df_keys), 2, figsize=(6, 3 * len(allele_df_keys)))\n",
    "for i, key in enumerate(allele_df_keys):\n",
    "    plot_n_alleles_per_guide(bdata, key, bdata.uns[key].columns[1], ax[i, 0])\n",
    "    plot_n_guides_per_edit(bdata, key, bdata.uns[key].columns[1], ax[i, 1])\n",
    "plt.tight_layout()\n",
    "plt.savefig(f\"{ output_prefix}.filtered_allele_stats.pdf\", bbox_inches=\"tight\")\n",
    "print(\n",
    "    f\"Saving plotting result and log at { output_prefix}.[filtered_allele_stats.pdf, filter_log.txt].\"\n",
    ")"
   ]
  },
  {
   "cell_type": "markdown",
   "metadata": {},
   "source": [
    "# Write log"
   ]
  },
  {
   "cell_type": "code",
   "execution_count": 17,
   "metadata": {},
   "outputs": [],
   "source": [
    "with open(f\"{output_prefix}.filter_log.txt\", \"w\") as out_log:\n",
    "    for key in allele_df_keys:\n",
    "        out_log.write(f\"{key}\\t{len(bdata.uns[key])}\\n\")"
   ]
  },
  {
   "cell_type": "markdown",
   "metadata": {},
   "source": [
    "## Save result"
   ]
  },
  {
   "cell_type": "code",
   "execution_count": 19,
   "metadata": {},
   "outputs": [],
   "source": [
    "bdata.write(out_bdata_path)"
   ]
  },
  {
   "cell_type": "code",
   "execution_count": 20,
   "metadata": {},
   "outputs": [
    {
     "data": {
      "text/html": [
       "<div>\n",
       "<style scoped>\n",
       "    .dataframe tbody tr th:only-of-type {\n",
       "        vertical-align: middle;\n",
       "    }\n",
       "\n",
       "    .dataframe tbody tr th {\n",
       "        vertical-align: top;\n",
       "    }\n",
       "\n",
       "    .dataframe thead th {\n",
       "        text-align: right;\n",
       "    }\n",
       "</style>\n",
       "<table border=\"1\" class=\"dataframe\">\n",
       "  <thead>\n",
       "    <tr style=\"text-align: right;\">\n",
       "      <th></th>\n",
       "      <th>Region</th>\n",
       "      <th>pos</th>\n",
       "      <th>strand</th>\n",
       "      <th>sequence</th>\n",
       "      <th>Reporter</th>\n",
       "      <th>barcode</th>\n",
       "      <th>5-nt PAM</th>\n",
       "      <th>targetPos</th>\n",
       "      <th>pos_seq</th>\n",
       "      <th>guide_len</th>\n",
       "      <th>start_pos</th>\n",
       "      <th>target_start</th>\n",
       "      <th>masked_sequence</th>\n",
       "      <th>masked_barcode</th>\n",
       "      <th>Group</th>\n",
       "      <th>edit_rate</th>\n",
       "    </tr>\n",
       "    <tr>\n",
       "      <th>name</th>\n",
       "      <th></th>\n",
       "      <th></th>\n",
       "      <th></th>\n",
       "      <th></th>\n",
       "      <th></th>\n",
       "      <th></th>\n",
       "      <th></th>\n",
       "      <th></th>\n",
       "      <th></th>\n",
       "      <th></th>\n",
       "      <th></th>\n",
       "      <th></th>\n",
       "      <th></th>\n",
       "      <th></th>\n",
       "      <th></th>\n",
       "      <th></th>\n",
       "    </tr>\n",
       "  </thead>\n",
       "  <tbody>\n",
       "    <tr>\n",
       "      <th>5' UTR+pro_28_neg</th>\n",
       "      <td>5' UTR+pro</td>\n",
       "      <td>28</td>\n",
       "      <td>neg</td>\n",
       "      <td>TCCTTCGAAAGTGTCGCCAG</td>\n",
       "      <td>CTCCAGTCCTTCGAAAGTGTCGCCAGGGCAGG</td>\n",
       "      <td>CCTC</td>\n",
       "      <td>GGCAG</td>\n",
       "      <td>11199966.0</td>\n",
       "      <td>CTGGCGACACTTTCGAAGGA</td>\n",
       "      <td>20</td>\n",
       "      <td>11199952</td>\n",
       "      <td>5.0</td>\n",
       "      <td>TCCTTCGGGGGTGTCGCCGG</td>\n",
       "      <td>CCTC</td>\n",
       "      <td>5' UTR+pro</td>\n",
       "      <td>NaN</td>\n",
       "    </tr>\n",
       "    <tr>\n",
       "      <th>5' UTR+pro_28_pos</th>\n",
       "      <td>5' UTR+pro</td>\n",
       "      <td>28</td>\n",
       "      <td>pos</td>\n",
       "      <td>CTTTCGAAGGACTGGAGTGG</td>\n",
       "      <td>GCGACACTTTCGAAGGACTGGAGTGGGAATCA</td>\n",
       "      <td>CAAA</td>\n",
       "      <td>GAATC</td>\n",
       "      <td>11199966.0</td>\n",
       "      <td>CTTTCGAAGGACTGGAGTGG</td>\n",
       "      <td>20</td>\n",
       "      <td>11199961</td>\n",
       "      <td>5.0</td>\n",
       "      <td>CTTTCGGGGGGCTGGGGTGG</td>\n",
       "      <td>CGGG</td>\n",
       "      <td>5' UTR+pro</td>\n",
       "      <td>0.323475</td>\n",
       "    </tr>\n",
       "    <tr>\n",
       "      <th>5' UTR+pro_31_neg</th>\n",
       "      <td>5' UTR+pro</td>\n",
       "      <td>31</td>\n",
       "      <td>neg</td>\n",
       "      <td>CAGTCCTTCGAAAGTGTCGC</td>\n",
       "      <td>CCACTCCAGTCCTTCGAAAGTGTCGCCAGGGC</td>\n",
       "      <td>CCTA</td>\n",
       "      <td>CAGGG</td>\n",
       "      <td>11199969.0</td>\n",
       "      <td>GCGACACTTTCGAAGGACTG</td>\n",
       "      <td>20</td>\n",
       "      <td>11199955</td>\n",
       "      <td>5.0</td>\n",
       "      <td>CGGTCCTTCGGGGGTGTCGC</td>\n",
       "      <td>CCTG</td>\n",
       "      <td>5' UTR+pro</td>\n",
       "      <td>NaN</td>\n",
       "    </tr>\n",
       "    <tr>\n",
       "      <th>5' UTR+pro_31_pos</th>\n",
       "      <td>5' UTR+pro</td>\n",
       "      <td>31</td>\n",
       "      <td>pos</td>\n",
       "      <td>TCGAAGGACTGGAGTGGGAA</td>\n",
       "      <td>ACACTTTCGAAGGACTGGAGTGGGAATCAGAG</td>\n",
       "      <td>TGCC</td>\n",
       "      <td>TCAGA</td>\n",
       "      <td>11199969.0</td>\n",
       "      <td>TCGAAGGACTGGAGTGGGAA</td>\n",
       "      <td>20</td>\n",
       "      <td>11199964</td>\n",
       "      <td>5.0</td>\n",
       "      <td>TCGGGGGGCTGGGGTGGGGG</td>\n",
       "      <td>TGCC</td>\n",
       "      <td>5' UTR+pro</td>\n",
       "      <td>0.026911</td>\n",
       "    </tr>\n",
       "    <tr>\n",
       "      <th>5' UTR+pro_34_neg</th>\n",
       "      <td>5' UTR+pro</td>\n",
       "      <td>34</td>\n",
       "      <td>neg</td>\n",
       "      <td>CTCCAGTCCTTCGAAAGTGT</td>\n",
       "      <td>TTCCCACTCCAGTCCTTCGAAAGTGTCGCCAG</td>\n",
       "      <td>CTGA</td>\n",
       "      <td>CGCCA</td>\n",
       "      <td>11199972.0</td>\n",
       "      <td>ACACTTTCGAAGGACTGGAG</td>\n",
       "      <td>20</td>\n",
       "      <td>11199958</td>\n",
       "      <td>5.0</td>\n",
       "      <td>CTCCGGTCCTTCGGGGGTGT</td>\n",
       "      <td>CTGG</td>\n",
       "      <td>5' UTR+pro</td>\n",
       "      <td>0.340677</td>\n",
       "    </tr>\n",
       "    <tr>\n",
       "      <th>...</th>\n",
       "      <td>...</td>\n",
       "      <td>...</td>\n",
       "      <td>...</td>\n",
       "      <td>...</td>\n",
       "      <td>...</td>\n",
       "      <td>...</td>\n",
       "      <td>...</td>\n",
       "      <td>...</td>\n",
       "      <td>...</td>\n",
       "      <td>...</td>\n",
       "      <td>...</td>\n",
       "      <td>...</td>\n",
       "      <td>...</td>\n",
       "      <td>...</td>\n",
       "      <td>...</td>\n",
       "      <td>...</td>\n",
       "    </tr>\n",
       "    <tr>\n",
       "      <th>CBE_CONTROL_40_pos</th>\n",
       "      <td>CBE control</td>\n",
       "      <td>40</td>\n",
       "      <td>NaN</td>\n",
       "      <td>TATCGCGCTTGGGTTATACG</td>\n",
       "      <td>GAAAAATATCGCGCTTGGGTTATACGCTCCAA</td>\n",
       "      <td>TACC</td>\n",
       "      <td>CTCCA</td>\n",
       "      <td>NaN</td>\n",
       "      <td>TATCGCGCTTGGGTTATACG</td>\n",
       "      <td>20</td>\n",
       "      <td>-1</td>\n",
       "      <td>NaN</td>\n",
       "      <td>TGTCGCGCTTGGGTTGTGCG</td>\n",
       "      <td>TGCC</td>\n",
       "      <td>CBE control</td>\n",
       "      <td>NaN</td>\n",
       "    </tr>\n",
       "    <tr>\n",
       "      <th>CBE_CONTROL_96_pos</th>\n",
       "      <td>CBE control</td>\n",
       "      <td>96</td>\n",
       "      <td>NaN</td>\n",
       "      <td>ATTAGCCGTTGCCATATCAA</td>\n",
       "      <td>TCCGTTATTAGCCGTTGCCATATCAAATGAGA</td>\n",
       "      <td>GCTC</td>\n",
       "      <td>ATGAG</td>\n",
       "      <td>NaN</td>\n",
       "      <td>ATTAGCCGTTGCCATATCAA</td>\n",
       "      <td>20</td>\n",
       "      <td>-1</td>\n",
       "      <td>NaN</td>\n",
       "      <td>GTTGGCCGTTGCCGTGTCGG</td>\n",
       "      <td>GCTC</td>\n",
       "      <td>CBE control</td>\n",
       "      <td>0.772672</td>\n",
       "    </tr>\n",
       "    <tr>\n",
       "      <th>CBE_CONTROL_97_pos</th>\n",
       "      <td>CBE control</td>\n",
       "      <td>97</td>\n",
       "      <td>NaN</td>\n",
       "      <td>GTCCCTCAGGGTGCAACTT</td>\n",
       "      <td>TCTAAGGGTCCCTCAGGGTGCAACTTTGGTAC</td>\n",
       "      <td>AGAA</td>\n",
       "      <td>TGGTA</td>\n",
       "      <td>NaN</td>\n",
       "      <td>GTCCCTCAGGGTGCAACTT</td>\n",
       "      <td>19</td>\n",
       "      <td>-1</td>\n",
       "      <td>NaN</td>\n",
       "      <td>GTCCCTCGGGGTGCGGCTT</td>\n",
       "      <td>GGGG</td>\n",
       "      <td>CBE control</td>\n",
       "      <td>NaN</td>\n",
       "    </tr>\n",
       "    <tr>\n",
       "      <th>CBE_CONTROL_98_pos</th>\n",
       "      <td>CBE control</td>\n",
       "      <td>98</td>\n",
       "      <td>NaN</td>\n",
       "      <td>TCCTCATCCGGTCAGGCTG</td>\n",
       "      <td>GTGAAAGTCCTCATCCGGTCAGGCTGGTGTTA</td>\n",
       "      <td>GAGC</td>\n",
       "      <td>GTGTT</td>\n",
       "      <td>NaN</td>\n",
       "      <td>TCCTCATCCGGTCAGGCTG</td>\n",
       "      <td>19</td>\n",
       "      <td>-1</td>\n",
       "      <td>NaN</td>\n",
       "      <td>TCCTCGTCCGGTCGGGCTG</td>\n",
       "      <td>GGGC</td>\n",
       "      <td>CBE control</td>\n",
       "      <td>0.573492</td>\n",
       "    </tr>\n",
       "    <tr>\n",
       "      <th>CBE_CONTROL_99_pos</th>\n",
       "      <td>CBE control</td>\n",
       "      <td>99</td>\n",
       "      <td>NaN</td>\n",
       "      <td>TAACGCGCATATCTGAACAC</td>\n",
       "      <td>CTAAGGTAACGCGCATATCTGAACACTGCAAT</td>\n",
       "      <td>AAGA</td>\n",
       "      <td>TGCAA</td>\n",
       "      <td>NaN</td>\n",
       "      <td>TAACGCGCATATCTGAACAC</td>\n",
       "      <td>20</td>\n",
       "      <td>-1</td>\n",
       "      <td>NaN</td>\n",
       "      <td>TGGCGCGCGTGTCTGGGCGC</td>\n",
       "      <td>GGGG</td>\n",
       "      <td>CBE control</td>\n",
       "      <td>0.004608</td>\n",
       "    </tr>\n",
       "  </tbody>\n",
       "</table>\n",
       "<p>7500 rows × 16 columns</p>\n",
       "</div>"
      ],
      "text/plain": [
       "                         Region pos strand              sequence  \\\n",
       "name                                                               \n",
       "5' UTR+pro_28_neg    5' UTR+pro  28    neg  TCCTTCGAAAGTGTCGCCAG   \n",
       "5' UTR+pro_28_pos    5' UTR+pro  28    pos  CTTTCGAAGGACTGGAGTGG   \n",
       "5' UTR+pro_31_neg    5' UTR+pro  31    neg  CAGTCCTTCGAAAGTGTCGC   \n",
       "5' UTR+pro_31_pos    5' UTR+pro  31    pos  TCGAAGGACTGGAGTGGGAA   \n",
       "5' UTR+pro_34_neg    5' UTR+pro  34    neg  CTCCAGTCCTTCGAAAGTGT   \n",
       "...                         ...  ..    ...                   ...   \n",
       "CBE_CONTROL_40_pos  CBE control  40    NaN  TATCGCGCTTGGGTTATACG   \n",
       "CBE_CONTROL_96_pos  CBE control  96    NaN  ATTAGCCGTTGCCATATCAA   \n",
       "CBE_CONTROL_97_pos  CBE control  97    NaN   GTCCCTCAGGGTGCAACTT   \n",
       "CBE_CONTROL_98_pos  CBE control  98    NaN   TCCTCATCCGGTCAGGCTG   \n",
       "CBE_CONTROL_99_pos  CBE control  99    NaN  TAACGCGCATATCTGAACAC   \n",
       "\n",
       "                                            Reporter barcode 5-nt PAM  \\\n",
       "name                                                                    \n",
       "5' UTR+pro_28_neg   CTCCAGTCCTTCGAAAGTGTCGCCAGGGCAGG    CCTC    GGCAG   \n",
       "5' UTR+pro_28_pos   GCGACACTTTCGAAGGACTGGAGTGGGAATCA    CAAA    GAATC   \n",
       "5' UTR+pro_31_neg   CCACTCCAGTCCTTCGAAAGTGTCGCCAGGGC    CCTA    CAGGG   \n",
       "5' UTR+pro_31_pos   ACACTTTCGAAGGACTGGAGTGGGAATCAGAG    TGCC    TCAGA   \n",
       "5' UTR+pro_34_neg   TTCCCACTCCAGTCCTTCGAAAGTGTCGCCAG    CTGA    CGCCA   \n",
       "...                                              ...     ...      ...   \n",
       "CBE_CONTROL_40_pos  GAAAAATATCGCGCTTGGGTTATACGCTCCAA    TACC    CTCCA   \n",
       "CBE_CONTROL_96_pos  TCCGTTATTAGCCGTTGCCATATCAAATGAGA    GCTC    ATGAG   \n",
       "CBE_CONTROL_97_pos  TCTAAGGGTCCCTCAGGGTGCAACTTTGGTAC    AGAA    TGGTA   \n",
       "CBE_CONTROL_98_pos  GTGAAAGTCCTCATCCGGTCAGGCTGGTGTTA    GAGC    GTGTT   \n",
       "CBE_CONTROL_99_pos  CTAAGGTAACGCGCATATCTGAACACTGCAAT    AAGA    TGCAA   \n",
       "\n",
       "                     targetPos               pos_seq  guide_len  start_pos  \\\n",
       "name                                                                         \n",
       "5' UTR+pro_28_neg   11199966.0  CTGGCGACACTTTCGAAGGA         20   11199952   \n",
       "5' UTR+pro_28_pos   11199966.0  CTTTCGAAGGACTGGAGTGG         20   11199961   \n",
       "5' UTR+pro_31_neg   11199969.0  GCGACACTTTCGAAGGACTG         20   11199955   \n",
       "5' UTR+pro_31_pos   11199969.0  TCGAAGGACTGGAGTGGGAA         20   11199964   \n",
       "5' UTR+pro_34_neg   11199972.0  ACACTTTCGAAGGACTGGAG         20   11199958   \n",
       "...                        ...                   ...        ...        ...   \n",
       "CBE_CONTROL_40_pos         NaN  TATCGCGCTTGGGTTATACG         20         -1   \n",
       "CBE_CONTROL_96_pos         NaN  ATTAGCCGTTGCCATATCAA         20         -1   \n",
       "CBE_CONTROL_97_pos         NaN   GTCCCTCAGGGTGCAACTT         19         -1   \n",
       "CBE_CONTROL_98_pos         NaN   TCCTCATCCGGTCAGGCTG         19         -1   \n",
       "CBE_CONTROL_99_pos         NaN  TAACGCGCATATCTGAACAC         20         -1   \n",
       "\n",
       "                    target_start       masked_sequence masked_barcode  \\\n",
       "name                                                                    \n",
       "5' UTR+pro_28_neg            5.0  TCCTTCGGGGGTGTCGCCGG           CCTC   \n",
       "5' UTR+pro_28_pos            5.0  CTTTCGGGGGGCTGGGGTGG           CGGG   \n",
       "5' UTR+pro_31_neg            5.0  CGGTCCTTCGGGGGTGTCGC           CCTG   \n",
       "5' UTR+pro_31_pos            5.0  TCGGGGGGCTGGGGTGGGGG           TGCC   \n",
       "5' UTR+pro_34_neg            5.0  CTCCGGTCCTTCGGGGGTGT           CTGG   \n",
       "...                          ...                   ...            ...   \n",
       "CBE_CONTROL_40_pos           NaN  TGTCGCGCTTGGGTTGTGCG           TGCC   \n",
       "CBE_CONTROL_96_pos           NaN  GTTGGCCGTTGCCGTGTCGG           GCTC   \n",
       "CBE_CONTROL_97_pos           NaN   GTCCCTCGGGGTGCGGCTT           GGGG   \n",
       "CBE_CONTROL_98_pos           NaN   TCCTCGTCCGGTCGGGCTG           GGGC   \n",
       "CBE_CONTROL_99_pos           NaN  TGGCGCGCGTGTCTGGGCGC           GGGG   \n",
       "\n",
       "                          Group  edit_rate  \n",
       "name                                        \n",
       "5' UTR+pro_28_neg    5' UTR+pro        NaN  \n",
       "5' UTR+pro_28_pos    5' UTR+pro   0.323475  \n",
       "5' UTR+pro_31_neg    5' UTR+pro        NaN  \n",
       "5' UTR+pro_31_pos    5' UTR+pro   0.026911  \n",
       "5' UTR+pro_34_neg    5' UTR+pro   0.340677  \n",
       "...                         ...        ...  \n",
       "CBE_CONTROL_40_pos  CBE control        NaN  \n",
       "CBE_CONTROL_96_pos  CBE control   0.772672  \n",
       "CBE_CONTROL_97_pos  CBE control        NaN  \n",
       "CBE_CONTROL_98_pos  CBE control   0.573492  \n",
       "CBE_CONTROL_99_pos  CBE control   0.004608  \n",
       "\n",
       "[7500 rows x 16 columns]"
      ]
     },
     "execution_count": 20,
     "metadata": {},
     "output_type": "execute_result"
    }
   ],
   "source": [
    "bdata.guides"
   ]
  },
  {
   "cell_type": "code",
   "execution_count": null,
   "metadata": {},
   "outputs": [],
   "source": [
    "# Plot"
   ]
  }
 ],
 "metadata": {
  "kernelspec": {
   "display_name": "Python (anbe_py38)",
   "language": "python",
   "name": "myenv"
  },
  "language_info": {
   "codemirror_mode": {
    "name": "ipython",
    "version": 3
   },
   "file_extension": ".py",
   "mimetype": "text/x-python",
   "name": "python",
   "nbconvert_exporter": "python",
   "pygments_lexer": "ipython3",
   "version": "3.8.6"
  }
 },
 "nbformat": 4,
 "nbformat_minor": 2
}
