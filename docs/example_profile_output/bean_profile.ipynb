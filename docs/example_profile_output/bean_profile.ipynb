{
 "cells": [
  {
   "cell_type": "markdown",
   "id": "29b1022f",
   "metadata": {
    "papermill": {
     "duration": 0.007884,
     "end_time": "2024-06-07T19:38:25.477742",
     "exception": false,
     "start_time": "2024-06-07T19:38:25.469858",
     "status": "completed"
    },
    "tags": []
   },
   "source": [
    "# Profiling Editing Patterns"
   ]
  },
  {
   "cell_type": "code",
   "execution_count": 1,
   "id": "62514b63",
   "metadata": {
    "execution": {
     "iopub.execute_input": "2024-06-07T19:38:25.491562Z",
     "iopub.status.busy": "2024-06-07T19:38:25.491077Z",
     "iopub.status.idle": "2024-06-07T19:38:28.300849Z",
     "shell.execute_reply": "2024-06-07T19:38:28.300043Z"
    },
    "papermill": {
     "duration": 2.817985,
     "end_time": "2024-06-07T19:38:28.302192",
     "exception": false,
     "start_time": "2024-06-07T19:38:25.484207",
     "status": "completed"
    },
    "scrolled": true,
    "tags": []
   },
   "outputs": [
    {
     "name": "stderr",
     "output_type": "stream",
     "text": [
      "/data/pinello/SHARED_SOFTWARE/anaconda_latest/envs/jy_18loci/lib/python3.10/site-packages/tqdm/auto.py:21: TqdmWarning: IProgress not found. Please update jupyter and ipywidgets. See https://ipywidgets.readthedocs.io/en/stable/user_install.html\n",
      "  from .autonotebook import tqdm as notebook_tqdm\n"
     ]
    }
   ],
   "source": [
    "from copy import deepcopy\n",
    "\n",
    "import numpy as np\n",
    "import pandas as pd\n",
    "from tqdm.auto import tqdm\n",
    "import logging\n",
    "import matplotlib\n",
    "import matplotlib.pyplot as plt\n",
    "import matplotlib.patches as patches\n",
    "import seaborn as sns\n",
    "\n",
    "import bean as be\n",
    "from bean import Edit\n",
    "import bean.plotting.editing_patterns\n",
    "logging.getLogger(\"matplotlib.font_manager\").setLevel(logging.ERROR)"
   ]
  },
  {
   "cell_type": "code",
   "execution_count": 2,
   "id": "a6810064",
   "metadata": {
    "execution": {
     "iopub.execute_input": "2024-06-07T19:38:28.316899Z",
     "iopub.status.busy": "2024-06-07T19:38:28.316433Z",
     "iopub.status.idle": "2024-06-07T19:38:28.320168Z",
     "shell.execute_reply": "2024-06-07T19:38:28.319600Z"
    },
    "papermill": {
     "duration": 0.012243,
     "end_time": "2024-06-07T19:38:28.321176",
     "exception": false,
     "start_time": "2024-06-07T19:38:28.308933",
     "status": "completed"
    },
    "tags": [
     "parameters"
    ]
   },
   "outputs": [],
   "source": [
    "bdata_path = \"../../../bean_manuscript/workflow/results/mapped/LDLRCDS/bean_count_LDLRCDS_combined.h5ad\"\n",
    "replicate_col = \"replicate\"\n",
    "condition_col = \"condition\"\n",
    "control_condition = \"bulk\"\n",
    "output_prefix = \"editing pattern\"\n",
    "max_editing_window_length = 6\n",
    "pam_col=\"5-nt PAM\"\n",
    "save_fig=False\n",
    "reporter_length=32\n",
    "reporter_right_flank_length=6"
   ]
  },
  {
   "cell_type": "code",
   "execution_count": 3,
   "id": "dd66b0c5",
   "metadata": {
    "execution": {
     "iopub.execute_input": "2024-06-07T19:38:28.334409Z",
     "iopub.status.busy": "2024-06-07T19:38:28.334079Z",
     "iopub.status.idle": "2024-06-07T19:38:28.339740Z",
     "shell.execute_reply": "2024-06-07T19:38:28.339173Z"
    },
    "papermill": {
     "duration": 0.013093,
     "end_time": "2024-06-07T19:38:28.340746",
     "exception": false,
     "start_time": "2024-06-07T19:38:28.327653",
     "status": "completed"
    },
    "tags": [
     "injected-parameters"
    ]
   },
   "outputs": [],
   "source": [
    "# Parameters\n",
    "bdata_path = \"bean_count_LDLvar_combined.copy2.h5ad\"\n",
    "output_prefix = \"./bean_profile.bean_count_LDLvar_combined.copy2/bean_profile\"\n",
    "replicate_col = \"rep\"\n",
    "condition_col = \"bin\"\n",
    "control_condition = \"bulk\"\n",
    "max_editing_window_length = 6\n",
    "pam_col = None\n",
    "save_fig = False\n",
    "reporter_length = 32\n",
    "reporter_right_flank_length = 6\n"
   ]
  },
  {
   "cell_type": "markdown",
   "id": "5747f7fe",
   "metadata": {
    "papermill": {
     "duration": 0.005815,
     "end_time": "2024-06-07T19:38:28.378475",
     "exception": false,
     "start_time": "2024-06-07T19:38:28.372660",
     "status": "completed"
    },
    "tags": []
   },
   "source": [
    "# Load and prepare ReporterScreen\n"
   ]
  },
  {
   "cell_type": "markdown",
   "id": "5c1fc3c9",
   "metadata": {
    "papermill": {
     "duration": 0.005965,
     "end_time": "2024-06-07T19:38:28.390238",
     "exception": false,
     "start_time": "2024-06-07T19:38:28.384273",
     "status": "completed"
    },
    "tags": []
   },
   "source": [
    "## By position and context"
   ]
  },
  {
   "cell_type": "code",
   "execution_count": 4,
   "id": "b9457278",
   "metadata": {
    "execution": {
     "iopub.execute_input": "2024-06-07T19:38:28.403400Z",
     "iopub.status.busy": "2024-06-07T19:38:28.403134Z",
     "iopub.status.idle": "2024-06-07T19:38:47.676186Z",
     "shell.execute_reply": "2024-06-07T19:38:47.675159Z"
    },
    "papermill": {
     "duration": 19.281251,
     "end_time": "2024-06-07T19:38:47.678169",
     "exception": false,
     "start_time": "2024-06-07T19:38:28.396918",
     "status": "completed"
    },
    "tags": []
   },
   "outputs": [],
   "source": [
    "cdata = be.read_h5ad(bdata_path)"
   ]
  },
  {
   "cell_type": "code",
   "execution_count": 5,
   "id": "788e940d",
   "metadata": {
    "execution": {
     "iopub.execute_input": "2024-06-07T19:38:47.694269Z",
     "iopub.status.busy": "2024-06-07T19:38:47.693938Z",
     "iopub.status.idle": "2024-06-07T19:38:48.159078Z",
     "shell.execute_reply": "2024-06-07T19:38:48.158200Z"
    },
    "papermill": {
     "duration": 0.474333,
     "end_time": "2024-06-07T19:38:48.160581",
     "exception": false,
     "start_time": "2024-06-07T19:38:47.686248",
     "status": "completed"
    },
    "tags": []
   },
   "outputs": [
    {
     "name": "stderr",
     "output_type": "stream",
     "text": [
      "/data/pinello/SHARED_SOFTWARE/anaconda_latest/envs/jy_18loci/lib/python3.10/site-packages/anndata/_core/anndata.py:1113: FutureWarning: is_categorical_dtype is deprecated and will be removed in a future version. Use isinstance(dtype, CategoricalDtype) instead\n",
      "  if not is_categorical_dtype(df_full[k]):\n"
     ]
    }
   ],
   "source": [
    "cdata.samples[\"replicate\"] = cdata.samples[replicate_col]\n",
    "cdata_bulk = cdata[:,cdata.samples[condition_col] == control_condition]"
   ]
  },
  {
   "cell_type": "code",
   "execution_count": 6,
   "id": "d69c8867",
   "metadata": {
    "execution": {
     "iopub.execute_input": "2024-06-07T19:38:48.188460Z",
     "iopub.status.busy": "2024-06-07T19:38:48.188072Z",
     "iopub.status.idle": "2024-06-07T19:38:55.393972Z",
     "shell.execute_reply": "2024-06-07T19:38:55.392957Z"
    },
    "papermill": {
     "duration": 7.215497,
     "end_time": "2024-06-07T19:38:55.395843",
     "exception": false,
     "start_time": "2024-06-07T19:38:48.180346",
     "status": "completed"
    },
    "tags": []
   },
   "outputs": [],
   "source": [
    "cdata_bulk.get_edit_from_allele()"
   ]
  },
  {
   "cell_type": "code",
   "execution_count": 7,
   "id": "a41acee8",
   "metadata": {
    "execution": {
     "iopub.execute_input": "2024-06-07T19:38:55.410854Z",
     "iopub.status.busy": "2024-06-07T19:38:55.410511Z",
     "iopub.status.idle": "2024-06-07T19:40:12.947758Z",
     "shell.execute_reply": "2024-06-07T19:40:12.946861Z"
    },
    "papermill": {
     "duration": 77.546037,
     "end_time": "2024-06-07T19:40:12.949214",
     "exception": false,
     "start_time": "2024-06-07T19:38:55.403177",
     "status": "completed"
    },
    "tags": []
   },
   "outputs": [
    {
     "name": "stderr",
     "output_type": "stream",
     "text": [
      "\r",
      "Calibrating edits in editable positions...:   0%|     | 0/3350 [00:00<?, ?it/s]"
     ]
    },
    {
     "name": "stderr",
     "output_type": "stream",
     "text": [
      "\r",
      "Calibrating edits in editable positions...:   0%| | 6/3350 [00:00<00:56, 59.51i"
     ]
    },
    {
     "name": "stderr",
     "output_type": "stream",
     "text": [
      "\r",
      "Calibrating edits in editable positions...:   0%| | 13/3350 [00:00<00:54, 61.27"
     ]
    },
    {
     "name": "stderr",
     "output_type": "stream",
     "text": [
      "\r",
      "Calibrating edits in editable positions...:   1%| | 20/3350 [00:00<00:54, 61.56"
     ]
    },
    {
     "name": "stderr",
     "output_type": "stream",
     "text": [
      "\r",
      "Calibrating edits in editable positions...:   1%| | 27/3350 [00:00<00:54, 61.36"
     ]
    },
    {
     "name": "stderr",
     "output_type": "stream",
     "text": [
      "\r",
      "Calibrating edits in editable positions...:   1%| | 34/3350 [00:00<00:53, 61.69"
     ]
    },
    {
     "name": "stderr",
     "output_type": "stream",
     "text": [
      "\r",
      "Calibrating edits in editable positions...:   1%| | 41/3350 [00:00<00:53, 61.77"
     ]
    },
    {
     "name": "stderr",
     "output_type": "stream",
     "text": [
      "\r",
      "Calibrating edits in editable positions...:   1%| | 48/3350 [00:00<00:53, 62.24"
     ]
    },
    {
     "name": "stderr",
     "output_type": "stream",
     "text": [
      "\r",
      "Calibrating edits in editable positions...:   2%| | 55/3350 [00:00<00:52, 62.23"
     ]
    },
    {
     "name": "stderr",
     "output_type": "stream",
     "text": [
      "\r",
      "Calibrating edits in editable positions...:   2%| | 62/3350 [00:00<00:52, 62.66"
     ]
    },
    {
     "name": "stderr",
     "output_type": "stream",
     "text": [
      "\r",
      "Calibrating edits in editable positions...:   2%| | 69/3350 [00:01<00:52, 62.46"
     ]
    },
    {
     "name": "stderr",
     "output_type": "stream",
     "text": [
      "\r",
      "Calibrating edits in editable positions...:   2%| | 76/3350 [00:01<00:52, 62.00"
     ]
    },
    {
     "name": "stderr",
     "output_type": "stream",
     "text": [
      "\r",
      "Calibrating edits in editable positions...:   2%| | 83/3350 [00:01<00:52, 61.82"
     ]
    },
    {
     "name": "stderr",
     "output_type": "stream",
     "text": [
      "\r",
      "Calibrating edits in editable positions...:   3%| | 90/3350 [00:01<00:53, 61.44"
     ]
    },
    {
     "name": "stderr",
     "output_type": "stream",
     "text": [
      "\r",
      "Calibrating edits in editable positions...:   3%| | 97/3350 [00:01<00:52, 62.43"
     ]
    },
    {
     "name": "stderr",
     "output_type": "stream",
     "text": [
      "\r",
      "Calibrating edits in editable positions...:   3%| | 104/3350 [00:01<00:51, 62.7"
     ]
    },
    {
     "name": "stderr",
     "output_type": "stream",
     "text": [
      "\r",
      "Calibrating edits in editable positions...:   3%| | 111/3350 [00:01<00:52, 62.2"
     ]
    },
    {
     "name": "stderr",
     "output_type": "stream",
     "text": [
      "\r",
      "Calibrating edits in editable positions...:   4%| | 118/3350 [00:01<00:51, 62.2"
     ]
    },
    {
     "name": "stderr",
     "output_type": "stream",
     "text": [
      "\r",
      "Calibrating edits in editable positions...:   4%| | 125/3350 [00:02<00:52, 61.9"
     ]
    },
    {
     "name": "stderr",
     "output_type": "stream",
     "text": [
      "\r",
      "Calibrating edits in editable positions...:   4%| | 132/3350 [00:02<00:51, 62.1"
     ]
    },
    {
     "name": "stderr",
     "output_type": "stream",
     "text": [
      "\r",
      "Calibrating edits in editable positions...:   4%| | 139/3350 [00:02<00:51, 62.3"
     ]
    },
    {
     "name": "stderr",
     "output_type": "stream",
     "text": [
      "\r",
      "Calibrating edits in editable positions...:   4%| | 146/3350 [00:02<00:51, 62.7"
     ]
    },
    {
     "name": "stderr",
     "output_type": "stream",
     "text": [
      "\r",
      "Calibrating edits in editable positions...:   5%| | 153/3350 [00:02<00:51, 62.4"
     ]
    },
    {
     "name": "stderr",
     "output_type": "stream",
     "text": [
      "\r",
      "Calibrating edits in editable positions...:   5%| | 160/3350 [00:02<00:51, 62.4"
     ]
    },
    {
     "name": "stderr",
     "output_type": "stream",
     "text": [
      "\r",
      "Calibrating edits in editable positions...:   5%| | 167/3350 [00:02<00:50, 62.5"
     ]
    },
    {
     "name": "stderr",
     "output_type": "stream",
     "text": [
      "\r",
      "Calibrating edits in editable positions...:   5%| | 174/3350 [00:02<00:50, 63.2"
     ]
    },
    {
     "name": "stderr",
     "output_type": "stream",
     "text": [
      "\r",
      "Calibrating edits in editable positions...:   5%| | 181/3350 [00:02<00:50, 63.0"
     ]
    },
    {
     "name": "stderr",
     "output_type": "stream",
     "text": [
      "\r",
      "Calibrating edits in editable positions...:   6%| | 188/3350 [00:03<00:50, 62.8"
     ]
    },
    {
     "name": "stderr",
     "output_type": "stream",
     "text": [
      "\r",
      "Calibrating edits in editable positions...:   6%| | 195/3350 [00:03<00:51, 61.6"
     ]
    },
    {
     "name": "stderr",
     "output_type": "stream",
     "text": [
      "\r",
      "Calibrating edits in editable positions...:   6%| | 202/3350 [00:03<00:51, 61.6"
     ]
    },
    {
     "name": "stderr",
     "output_type": "stream",
     "text": [
      "\r",
      "Calibrating edits in editable positions...:   6%| | 209/3350 [00:03<00:50, 61.7"
     ]
    },
    {
     "name": "stderr",
     "output_type": "stream",
     "text": [
      "\r",
      "Calibrating edits in editable positions...:   6%| | 216/3350 [00:03<00:50, 61.5"
     ]
    },
    {
     "name": "stderr",
     "output_type": "stream",
     "text": [
      "\r",
      "Calibrating edits in editable positions...:   7%| | 223/3350 [00:03<00:50, 61.3"
     ]
    },
    {
     "name": "stderr",
     "output_type": "stream",
     "text": [
      "\r",
      "Calibrating edits in editable positions...:   7%| | 230/3350 [00:03<00:51, 60.9"
     ]
    },
    {
     "name": "stderr",
     "output_type": "stream",
     "text": [
      "\r",
      "Calibrating edits in editable positions...:   7%| | 237/3350 [00:03<00:50, 61.2"
     ]
    },
    {
     "name": "stderr",
     "output_type": "stream",
     "text": [
      "\r",
      "Calibrating edits in editable positions...:   7%| | 244/3350 [00:03<00:50, 61.3"
     ]
    },
    {
     "name": "stderr",
     "output_type": "stream",
     "text": [
      "\r",
      "Calibrating edits in editable positions...:   7%| | 251/3350 [00:04<00:50, 61.4"
     ]
    },
    {
     "name": "stderr",
     "output_type": "stream",
     "text": [
      "\r",
      "Calibrating edits in editable positions...:   8%| | 258/3350 [00:04<00:50, 61.2"
     ]
    },
    {
     "name": "stderr",
     "output_type": "stream",
     "text": [
      "\r",
      "Calibrating edits in editable positions...:   8%| | 265/3350 [00:04<00:50, 61.3"
     ]
    },
    {
     "name": "stderr",
     "output_type": "stream",
     "text": [
      "\r",
      "Calibrating edits in editable positions...:   8%| | 272/3350 [00:04<00:49, 61.5"
     ]
    },
    {
     "name": "stderr",
     "output_type": "stream",
     "text": [
      "\r",
      "Calibrating edits in editable positions...:   8%| | 279/3350 [00:04<00:49, 62.4"
     ]
    },
    {
     "name": "stderr",
     "output_type": "stream",
     "text": [
      "\r",
      "Calibrating edits in editable positions...:   9%| | 286/3350 [00:04<00:48, 63.2"
     ]
    },
    {
     "name": "stderr",
     "output_type": "stream",
     "text": [
      "\r",
      "Calibrating edits in editable positions...:   9%| | 293/3350 [00:04<00:48, 62.6"
     ]
    },
    {
     "name": "stderr",
     "output_type": "stream",
     "text": [
      "\r",
      "Calibrating edits in editable positions...:   9%| | 300/3350 [00:04<00:48, 62.9"
     ]
    },
    {
     "name": "stderr",
     "output_type": "stream",
     "text": [
      "\r",
      "Calibrating edits in editable positions...:   9%| | 307/3350 [00:04<00:48, 62.5"
     ]
    },
    {
     "name": "stderr",
     "output_type": "stream",
     "text": [
      "\r",
      "Calibrating edits in editable positions...:   9%| | 314/3350 [00:05<00:48, 62.0"
     ]
    },
    {
     "name": "stderr",
     "output_type": "stream",
     "text": [
      "\r",
      "Calibrating edits in editable positions...:  10%| | 321/3350 [00:05<00:49, 61.7"
     ]
    },
    {
     "name": "stderr",
     "output_type": "stream",
     "text": [
      "\r",
      "Calibrating edits in editable positions...:  10%| | 328/3350 [00:05<00:49, 61.4"
     ]
    },
    {
     "name": "stderr",
     "output_type": "stream",
     "text": [
      "\r",
      "Calibrating edits in editable positions...:  10%| | 335/3350 [00:05<00:49, 60.9"
     ]
    },
    {
     "name": "stderr",
     "output_type": "stream",
     "text": [
      "\r",
      "Calibrating edits in editable positions...:  10%| | 342/3350 [00:05<00:48, 61.7"
     ]
    },
    {
     "name": "stderr",
     "output_type": "stream",
     "text": [
      "\r",
      "Calibrating edits in editable positions...:  10%| | 349/3350 [00:05<00:48, 62.1"
     ]
    },
    {
     "name": "stderr",
     "output_type": "stream",
     "text": [
      "\r",
      "Calibrating edits in editable positions...:  11%| | 356/3350 [00:05<00:48, 62.0"
     ]
    },
    {
     "name": "stderr",
     "output_type": "stream",
     "text": [
      "\r",
      "Calibrating edits in editable positions...:  11%| | 363/3350 [00:05<00:47, 62.6"
     ]
    },
    {
     "name": "stderr",
     "output_type": "stream",
     "text": [
      "\r",
      "Calibrating edits in editable positions...:  11%| | 370/3350 [00:05<00:47, 62.8"
     ]
    },
    {
     "name": "stderr",
     "output_type": "stream",
     "text": [
      "\r",
      "Calibrating edits in editable positions...:  11%| | 377/3350 [00:06<00:46, 63.3"
     ]
    },
    {
     "name": "stderr",
     "output_type": "stream",
     "text": [
      "\r",
      "Calibrating edits in editable positions...:  11%| | 384/3350 [00:06<00:47, 63.1"
     ]
    },
    {
     "name": "stderr",
     "output_type": "stream",
     "text": [
      "\r",
      "Calibrating edits in editable positions...:  12%| | 391/3350 [00:06<00:47, 62.0"
     ]
    },
    {
     "name": "stderr",
     "output_type": "stream",
     "text": [
      "\r",
      "Calibrating edits in editable positions...:  12%| | 398/3350 [00:06<00:48, 61.2"
     ]
    },
    {
     "name": "stderr",
     "output_type": "stream",
     "text": [
      "\r",
      "Calibrating edits in editable positions...:  12%| | 405/3350 [00:06<00:48, 60.9"
     ]
    },
    {
     "name": "stderr",
     "output_type": "stream",
     "text": [
      "\r",
      "Calibrating edits in editable positions...:  12%| | 412/3350 [00:06<00:48, 60.9"
     ]
    },
    {
     "name": "stderr",
     "output_type": "stream",
     "text": [
      "\r",
      "Calibrating edits in editable positions...:  13%|▏| 419/3350 [00:06<00:47, 61.1"
     ]
    },
    {
     "name": "stderr",
     "output_type": "stream",
     "text": [
      "\r",
      "Calibrating edits in editable positions...:  13%|▏| 426/3350 [00:06<00:48, 60.9"
     ]
    },
    {
     "name": "stderr",
     "output_type": "stream",
     "text": [
      "\r",
      "Calibrating edits in editable positions...:  13%|▏| 433/3350 [00:06<00:47, 61.2"
     ]
    },
    {
     "name": "stderr",
     "output_type": "stream",
     "text": [
      "\r",
      "Calibrating edits in editable positions...:  13%|▏| 440/3350 [00:07<00:47, 61.3"
     ]
    },
    {
     "name": "stderr",
     "output_type": "stream",
     "text": [
      "\r",
      "Calibrating edits in editable positions...:  13%|▏| 447/3350 [00:07<00:46, 61.9"
     ]
    },
    {
     "name": "stderr",
     "output_type": "stream",
     "text": [
      "\r",
      "Calibrating edits in editable positions...:  14%|▏| 454/3350 [00:07<00:46, 61.7"
     ]
    },
    {
     "name": "stderr",
     "output_type": "stream",
     "text": [
      "\r",
      "Calibrating edits in editable positions...:  14%|▏| 461/3350 [00:07<00:46, 62.0"
     ]
    },
    {
     "name": "stderr",
     "output_type": "stream",
     "text": [
      "\r",
      "Calibrating edits in editable positions...:  14%|▏| 468/3350 [00:07<00:45, 62.7"
     ]
    },
    {
     "name": "stderr",
     "output_type": "stream",
     "text": [
      "\r",
      "Calibrating edits in editable positions...:  14%|▏| 475/3350 [00:07<00:45, 62.5"
     ]
    },
    {
     "name": "stderr",
     "output_type": "stream",
     "text": [
      "\r",
      "Calibrating edits in editable positions...:  14%|▏| 482/3350 [00:07<00:46, 62.1"
     ]
    },
    {
     "name": "stderr",
     "output_type": "stream",
     "text": [
      "\r",
      "Calibrating edits in editable positions...:  15%|▏| 489/3350 [00:07<00:45, 62.5"
     ]
    },
    {
     "name": "stderr",
     "output_type": "stream",
     "text": [
      "\r",
      "Calibrating edits in editable positions...:  15%|▏| 496/3350 [00:07<00:45, 62.5"
     ]
    },
    {
     "name": "stderr",
     "output_type": "stream",
     "text": [
      "\r",
      "Calibrating edits in editable positions...:  15%|▏| 503/3350 [00:08<00:45, 62.1"
     ]
    },
    {
     "name": "stderr",
     "output_type": "stream",
     "text": [
      "\r",
      "Calibrating edits in editable positions...:  15%|▏| 510/3350 [00:08<00:45, 62.1"
     ]
    },
    {
     "name": "stderr",
     "output_type": "stream",
     "text": [
      "\r",
      "Calibrating edits in editable positions...:  15%|▏| 517/3350 [00:08<00:45, 62.2"
     ]
    },
    {
     "name": "stderr",
     "output_type": "stream",
     "text": [
      "\r",
      "Calibrating edits in editable positions...:  16%|▏| 524/3350 [00:08<00:45, 61.9"
     ]
    },
    {
     "name": "stderr",
     "output_type": "stream",
     "text": [
      "\r",
      "Calibrating edits in editable positions...:  16%|▏| 531/3350 [00:08<00:45, 62.0"
     ]
    },
    {
     "name": "stderr",
     "output_type": "stream",
     "text": [
      "\r",
      "Calibrating edits in editable positions...:  16%|▏| 538/3350 [00:08<00:45, 62.2"
     ]
    },
    {
     "name": "stderr",
     "output_type": "stream",
     "text": [
      "\r",
      "Calibrating edits in editable positions...:  16%|▏| 545/3350 [00:08<00:45, 61.9"
     ]
    },
    {
     "name": "stderr",
     "output_type": "stream",
     "text": [
      "\r",
      "Calibrating edits in editable positions...:  16%|▏| 552/3350 [00:08<00:45, 61.5"
     ]
    },
    {
     "name": "stderr",
     "output_type": "stream",
     "text": [
      "\r",
      "Calibrating edits in editable positions...:  17%|▏| 559/3350 [00:09<00:45, 61.2"
     ]
    },
    {
     "name": "stderr",
     "output_type": "stream",
     "text": [
      "\r",
      "Calibrating edits in editable positions...:  17%|▏| 566/3350 [00:09<00:45, 61.1"
     ]
    },
    {
     "name": "stderr",
     "output_type": "stream",
     "text": [
      "\r",
      "Calibrating edits in editable positions...:  17%|▏| 573/3350 [00:09<00:45, 61.0"
     ]
    },
    {
     "name": "stderr",
     "output_type": "stream",
     "text": [
      "\r",
      "Calibrating edits in editable positions...:  17%|▏| 580/3350 [00:09<00:45, 61.3"
     ]
    },
    {
     "name": "stderr",
     "output_type": "stream",
     "text": [
      "\r",
      "Calibrating edits in editable positions...:  18%|▏| 587/3350 [00:09<00:44, 62.0"
     ]
    },
    {
     "name": "stderr",
     "output_type": "stream",
     "text": [
      "\r",
      "Calibrating edits in editable positions...:  18%|▏| 594/3350 [00:09<00:44, 62.1"
     ]
    },
    {
     "name": "stderr",
     "output_type": "stream",
     "text": [
      "\r",
      "Calibrating edits in editable positions...:  18%|▏| 601/3350 [00:09<00:44, 61.2"
     ]
    },
    {
     "name": "stderr",
     "output_type": "stream",
     "text": [
      "\r",
      "Calibrating edits in editable positions...:  18%|▏| 608/3350 [00:09<00:44, 61.1"
     ]
    },
    {
     "name": "stderr",
     "output_type": "stream",
     "text": [
      "\r",
      "Calibrating edits in editable positions...:  18%|▏| 615/3350 [00:09<00:44, 61.0"
     ]
    },
    {
     "name": "stderr",
     "output_type": "stream",
     "text": [
      "\r",
      "Calibrating edits in editable positions...:  19%|▏| 622/3350 [00:10<00:44, 61.0"
     ]
    },
    {
     "name": "stderr",
     "output_type": "stream",
     "text": [
      "\r",
      "Calibrating edits in editable positions...:  19%|▏| 629/3350 [00:10<00:44, 61.2"
     ]
    },
    {
     "name": "stderr",
     "output_type": "stream",
     "text": [
      "\r",
      "Calibrating edits in editable positions...:  19%|▏| 636/3350 [00:10<00:44, 61.3"
     ]
    },
    {
     "name": "stderr",
     "output_type": "stream",
     "text": [
      "\r",
      "Calibrating edits in editable positions...:  19%|▏| 643/3350 [00:10<00:44, 61.3"
     ]
    },
    {
     "name": "stderr",
     "output_type": "stream",
     "text": [
      "\r",
      "Calibrating edits in editable positions...:  19%|▏| 650/3350 [00:10<00:43, 61.6"
     ]
    },
    {
     "name": "stderr",
     "output_type": "stream",
     "text": [
      "\r",
      "Calibrating edits in editable positions...:  20%|▏| 657/3350 [00:10<00:43, 61.8"
     ]
    },
    {
     "name": "stderr",
     "output_type": "stream",
     "text": [
      "\r",
      "Calibrating edits in editable positions...:  20%|▏| 664/3350 [00:10<00:43, 61.2"
     ]
    },
    {
     "name": "stderr",
     "output_type": "stream",
     "text": [
      "\r",
      "Calibrating edits in editable positions...:  20%|▏| 671/3350 [00:10<00:43, 61.1"
     ]
    },
    {
     "name": "stderr",
     "output_type": "stream",
     "text": [
      "\r",
      "Calibrating edits in editable positions...:  20%|▏| 678/3350 [00:10<00:43, 60.8"
     ]
    },
    {
     "name": "stderr",
     "output_type": "stream",
     "text": [
      "\r",
      "Calibrating edits in editable positions...:  20%|▏| 685/3350 [00:11<00:43, 60.7"
     ]
    },
    {
     "name": "stderr",
     "output_type": "stream",
     "text": [
      "\r",
      "Calibrating edits in editable positions...:  21%|▏| 692/3350 [00:11<00:43, 60.7"
     ]
    },
    {
     "name": "stderr",
     "output_type": "stream",
     "text": [
      "\r",
      "Calibrating edits in editable positions...:  21%|▏| 699/3350 [00:11<00:44, 59.5"
     ]
    },
    {
     "name": "stderr",
     "output_type": "stream",
     "text": [
      "\r",
      "Calibrating edits in editable positions...:  21%|▏| 706/3350 [00:11<00:44, 59.9"
     ]
    },
    {
     "name": "stderr",
     "output_type": "stream",
     "text": [
      "\r",
      "Calibrating edits in editable positions...:  21%|▏| 713/3350 [00:11<00:44, 59.9"
     ]
    },
    {
     "name": "stderr",
     "output_type": "stream",
     "text": [
      "\r",
      "Calibrating edits in editable positions...:  21%|▏| 720/3350 [00:11<00:43, 60.0"
     ]
    },
    {
     "name": "stderr",
     "output_type": "stream",
     "text": [
      "\r",
      "Calibrating edits in editable positions...:  22%|▏| 727/3350 [00:11<00:43, 60.2"
     ]
    },
    {
     "name": "stderr",
     "output_type": "stream",
     "text": [
      "\r",
      "Calibrating edits in editable positions...:  22%|▏| 734/3350 [00:11<00:43, 60.3"
     ]
    },
    {
     "name": "stderr",
     "output_type": "stream",
     "text": [
      "\r",
      "Calibrating edits in editable positions...:  22%|▏| 741/3350 [00:12<00:43, 60.3"
     ]
    },
    {
     "name": "stderr",
     "output_type": "stream",
     "text": [
      "\r",
      "Calibrating edits in editable positions...:  22%|▏| 748/3350 [00:12<00:43, 60.3"
     ]
    },
    {
     "name": "stderr",
     "output_type": "stream",
     "text": [
      "\r",
      "Calibrating edits in editable positions...:  23%|▏| 755/3350 [00:12<00:42, 60.7"
     ]
    },
    {
     "name": "stderr",
     "output_type": "stream",
     "text": [
      "\r",
      "Calibrating edits in editable positions...:  23%|▏| 762/3350 [00:12<00:42, 60.5"
     ]
    },
    {
     "name": "stderr",
     "output_type": "stream",
     "text": [
      "\r",
      "Calibrating edits in editable positions...:  23%|▏| 769/3350 [00:12<00:42, 60.4"
     ]
    },
    {
     "name": "stderr",
     "output_type": "stream",
     "text": [
      "\r",
      "Calibrating edits in editable positions...:  23%|▏| 776/3350 [00:12<00:42, 60.2"
     ]
    },
    {
     "name": "stderr",
     "output_type": "stream",
     "text": [
      "\r",
      "Calibrating edits in editable positions...:  23%|▏| 783/3350 [00:12<00:42, 60.8"
     ]
    },
    {
     "name": "stderr",
     "output_type": "stream",
     "text": [
      "\r",
      "Calibrating edits in editable positions...:  24%|▏| 790/3350 [00:12<00:42, 60.6"
     ]
    },
    {
     "name": "stderr",
     "output_type": "stream",
     "text": [
      "\r",
      "Calibrating edits in editable positions...:  24%|▏| 797/3350 [00:12<00:42, 60.5"
     ]
    },
    {
     "name": "stderr",
     "output_type": "stream",
     "text": [
      "\r",
      "Calibrating edits in editable positions...:  24%|▏| 804/3350 [00:13<00:42, 60.2"
     ]
    },
    {
     "name": "stderr",
     "output_type": "stream",
     "text": [
      "\r",
      "Calibrating edits in editable positions...:  24%|▏| 811/3350 [00:13<00:42, 60.1"
     ]
    },
    {
     "name": "stderr",
     "output_type": "stream",
     "text": [
      "\r",
      "Calibrating edits in editable positions...:  24%|▏| 818/3350 [00:13<00:42, 60.2"
     ]
    },
    {
     "name": "stderr",
     "output_type": "stream",
     "text": [
      "\r",
      "Calibrating edits in editable positions...:  25%|▏| 825/3350 [00:13<00:41, 60.9"
     ]
    },
    {
     "name": "stderr",
     "output_type": "stream",
     "text": [
      "\r",
      "Calibrating edits in editable positions...:  25%|▏| 832/3350 [00:13<00:41, 60.7"
     ]
    },
    {
     "name": "stderr",
     "output_type": "stream",
     "text": [
      "\r",
      "Calibrating edits in editable positions...:  25%|▎| 839/3350 [00:13<00:41, 60.5"
     ]
    },
    {
     "name": "stderr",
     "output_type": "stream",
     "text": [
      "\r",
      "Calibrating edits in editable positions...:  25%|▎| 846/3350 [00:13<00:41, 60.5"
     ]
    },
    {
     "name": "stderr",
     "output_type": "stream",
     "text": [
      "\r",
      "Calibrating edits in editable positions...:  25%|▎| 853/3350 [00:13<00:41, 60.5"
     ]
    },
    {
     "name": "stderr",
     "output_type": "stream",
     "text": [
      "\r",
      "Calibrating edits in editable positions...:  26%|▎| 860/3350 [00:13<00:41, 60.5"
     ]
    },
    {
     "name": "stderr",
     "output_type": "stream",
     "text": [
      "\r",
      "Calibrating edits in editable positions...:  26%|▎| 867/3350 [00:14<00:41, 60.3"
     ]
    },
    {
     "name": "stderr",
     "output_type": "stream",
     "text": [
      "\r",
      "Calibrating edits in editable positions...:  26%|▎| 874/3350 [00:14<00:40, 60.7"
     ]
    },
    {
     "name": "stderr",
     "output_type": "stream",
     "text": [
      "\r",
      "Calibrating edits in editable positions...:  26%|▎| 881/3350 [00:14<00:40, 60.7"
     ]
    },
    {
     "name": "stderr",
     "output_type": "stream",
     "text": [
      "\r",
      "Calibrating edits in editable positions...:  27%|▎| 888/3350 [00:14<00:40, 60.7"
     ]
    },
    {
     "name": "stderr",
     "output_type": "stream",
     "text": [
      "\r",
      "Calibrating edits in editable positions...:  27%|▎| 895/3350 [00:14<00:40, 60.5"
     ]
    },
    {
     "name": "stderr",
     "output_type": "stream",
     "text": [
      "\r",
      "Calibrating edits in editable positions...:  27%|▎| 902/3350 [00:14<00:40, 60.7"
     ]
    },
    {
     "name": "stderr",
     "output_type": "stream",
     "text": [
      "\r",
      "Calibrating edits in editable positions...:  27%|▎| 909/3350 [00:14<00:39, 61.5"
     ]
    },
    {
     "name": "stderr",
     "output_type": "stream",
     "text": [
      "\r",
      "Calibrating edits in editable positions...:  27%|▎| 916/3350 [00:14<00:39, 60.9"
     ]
    },
    {
     "name": "stderr",
     "output_type": "stream",
     "text": [
      "\r",
      "Calibrating edits in editable positions...:  28%|▎| 923/3350 [00:15<00:39, 60.6"
     ]
    },
    {
     "name": "stderr",
     "output_type": "stream",
     "text": [
      "\r",
      "Calibrating edits in editable positions...:  28%|▎| 930/3350 [00:15<00:39, 60.9"
     ]
    },
    {
     "name": "stderr",
     "output_type": "stream",
     "text": [
      "\r",
      "Calibrating edits in editable positions...:  28%|▎| 937/3350 [00:15<00:39, 61.2"
     ]
    },
    {
     "name": "stderr",
     "output_type": "stream",
     "text": [
      "\r",
      "Calibrating edits in editable positions...:  28%|▎| 944/3350 [00:15<00:39, 60.8"
     ]
    },
    {
     "name": "stderr",
     "output_type": "stream",
     "text": [
      "\r",
      "Calibrating edits in editable positions...:  28%|▎| 951/3350 [00:15<00:39, 60.0"
     ]
    },
    {
     "name": "stderr",
     "output_type": "stream",
     "text": [
      "\r",
      "Calibrating edits in editable positions...:  29%|▎| 958/3350 [00:15<00:39, 60.4"
     ]
    },
    {
     "name": "stderr",
     "output_type": "stream",
     "text": [
      "\r",
      "Calibrating edits in editable positions...:  29%|▎| 965/3350 [00:15<00:39, 60.0"
     ]
    },
    {
     "name": "stderr",
     "output_type": "stream",
     "text": [
      "\r",
      "Calibrating edits in editable positions...:  29%|▎| 972/3350 [00:15<00:39, 60.0"
     ]
    },
    {
     "name": "stderr",
     "output_type": "stream",
     "text": [
      "\r",
      "Calibrating edits in editable positions...:  29%|▎| 979/3350 [00:15<00:39, 60.6"
     ]
    },
    {
     "name": "stderr",
     "output_type": "stream",
     "text": [
      "\r",
      "Calibrating edits in editable positions...:  29%|▎| 986/3350 [00:16<00:39, 60.4"
     ]
    },
    {
     "name": "stderr",
     "output_type": "stream",
     "text": [
      "\r",
      "Calibrating edits in editable positions...:  30%|▎| 993/3350 [00:16<00:39, 60.4"
     ]
    },
    {
     "name": "stderr",
     "output_type": "stream",
     "text": [
      "\r",
      "Calibrating edits in editable positions...:  30%|▎| 1000/3350 [00:16<00:38, 60."
     ]
    },
    {
     "name": "stderr",
     "output_type": "stream",
     "text": [
      "\r",
      "Calibrating edits in editable positions...:  30%|▎| 1007/3350 [00:16<00:38, 60."
     ]
    },
    {
     "name": "stderr",
     "output_type": "stream",
     "text": [
      "\r",
      "Calibrating edits in editable positions...:  30%|▎| 1014/3350 [00:16<00:38, 60."
     ]
    },
    {
     "name": "stderr",
     "output_type": "stream",
     "text": [
      "\r",
      "Calibrating edits in editable positions...:  30%|▎| 1021/3350 [00:16<00:38, 60."
     ]
    },
    {
     "name": "stderr",
     "output_type": "stream",
     "text": [
      "\r",
      "Calibrating edits in editable positions...:  31%|▎| 1028/3350 [00:16<00:38, 60."
     ]
    },
    {
     "name": "stderr",
     "output_type": "stream",
     "text": [
      "\r",
      "Calibrating edits in editable positions...:  31%|▎| 1035/3350 [00:16<00:38, 59."
     ]
    },
    {
     "name": "stderr",
     "output_type": "stream",
     "text": [
      "\r",
      "Calibrating edits in editable positions...:  31%|▎| 1042/3350 [00:16<00:38, 60."
     ]
    },
    {
     "name": "stderr",
     "output_type": "stream",
     "text": [
      "\r",
      "Calibrating edits in editable positions...:  31%|▎| 1049/3350 [00:17<00:37, 61."
     ]
    },
    {
     "name": "stderr",
     "output_type": "stream",
     "text": [
      "\r",
      "Calibrating edits in editable positions...:  32%|▎| 1056/3350 [00:17<00:37, 60."
     ]
    },
    {
     "name": "stderr",
     "output_type": "stream",
     "text": [
      "\r",
      "Calibrating edits in editable positions...:  32%|▎| 1063/3350 [00:17<00:37, 60."
     ]
    },
    {
     "name": "stderr",
     "output_type": "stream",
     "text": [
      "\r",
      "Calibrating edits in editable positions...:  32%|▎| 1070/3350 [00:17<00:37, 60."
     ]
    },
    {
     "name": "stderr",
     "output_type": "stream",
     "text": [
      "\r",
      "Calibrating edits in editable positions...:  32%|▎| 1077/3350 [00:17<00:37, 60."
     ]
    },
    {
     "name": "stderr",
     "output_type": "stream",
     "text": [
      "\r",
      "Calibrating edits in editable positions...:  32%|▎| 1084/3350 [00:17<00:37, 59."
     ]
    },
    {
     "name": "stderr",
     "output_type": "stream",
     "text": [
      "\r",
      "Calibrating edits in editable positions...:  33%|▎| 1091/3350 [00:17<00:37, 60."
     ]
    },
    {
     "name": "stderr",
     "output_type": "stream",
     "text": [
      "\r",
      "Calibrating edits in editable positions...:  33%|▎| 1098/3350 [00:17<00:37, 60."
     ]
    },
    {
     "name": "stderr",
     "output_type": "stream",
     "text": [
      "\r",
      "Calibrating edits in editable positions...:  33%|▎| 1105/3350 [00:18<00:37, 59."
     ]
    },
    {
     "name": "stderr",
     "output_type": "stream",
     "text": [
      "\r",
      "Calibrating edits in editable positions...:  33%|▎| 1111/3350 [00:18<00:38, 58."
     ]
    },
    {
     "name": "stderr",
     "output_type": "stream",
     "text": [
      "\r",
      "Calibrating edits in editable positions...:  33%|▎| 1118/3350 [00:18<00:37, 59."
     ]
    },
    {
     "name": "stderr",
     "output_type": "stream",
     "text": [
      "\r",
      "Calibrating edits in editable positions...:  34%|▎| 1125/3350 [00:18<00:37, 59."
     ]
    },
    {
     "name": "stderr",
     "output_type": "stream",
     "text": [
      "\r",
      "Calibrating edits in editable positions...:  34%|▎| 1132/3350 [00:18<00:36, 60."
     ]
    },
    {
     "name": "stderr",
     "output_type": "stream",
     "text": [
      "\r",
      "Calibrating edits in editable positions...:  34%|▎| 1139/3350 [00:18<00:36, 60."
     ]
    },
    {
     "name": "stderr",
     "output_type": "stream",
     "text": [
      "\r",
      "Calibrating edits in editable positions...:  34%|▎| 1146/3350 [00:18<00:36, 60."
     ]
    },
    {
     "name": "stderr",
     "output_type": "stream",
     "text": [
      "\r",
      "Calibrating edits in editable positions...:  34%|▎| 1153/3350 [00:18<00:36, 61."
     ]
    },
    {
     "name": "stderr",
     "output_type": "stream",
     "text": [
      "\r",
      "Calibrating edits in editable positions...:  35%|▎| 1160/3350 [00:18<00:36, 60."
     ]
    },
    {
     "name": "stderr",
     "output_type": "stream",
     "text": [
      "\r",
      "Calibrating edits in editable positions...:  35%|▎| 1167/3350 [00:19<00:36, 60."
     ]
    },
    {
     "name": "stderr",
     "output_type": "stream",
     "text": [
      "\r",
      "Calibrating edits in editable positions...:  35%|▎| 1174/3350 [00:19<00:36, 60."
     ]
    },
    {
     "name": "stderr",
     "output_type": "stream",
     "text": [
      "\r",
      "Calibrating edits in editable positions...:  35%|▎| 1181/3350 [00:19<00:35, 60."
     ]
    },
    {
     "name": "stderr",
     "output_type": "stream",
     "text": [
      "\r",
      "Calibrating edits in editable positions...:  35%|▎| 1188/3350 [00:19<00:35, 60."
     ]
    },
    {
     "name": "stderr",
     "output_type": "stream",
     "text": [
      "\r",
      "Calibrating edits in editable positions...:  36%|▎| 1195/3350 [00:19<00:35, 60."
     ]
    },
    {
     "name": "stderr",
     "output_type": "stream",
     "text": [
      "\r",
      "Calibrating edits in editable positions...:  36%|▎| 1202/3350 [00:19<00:35, 59."
     ]
    },
    {
     "name": "stderr",
     "output_type": "stream",
     "text": [
      "\r",
      "Calibrating edits in editable positions...:  36%|▎| 1209/3350 [00:19<00:35, 60."
     ]
    },
    {
     "name": "stderr",
     "output_type": "stream",
     "text": [
      "\r",
      "Calibrating edits in editable positions...:  36%|▎| 1216/3350 [00:19<00:35, 60."
     ]
    },
    {
     "name": "stderr",
     "output_type": "stream",
     "text": [
      "\r",
      "Calibrating edits in editable positions...:  37%|▎| 1223/3350 [00:19<00:35, 60."
     ]
    },
    {
     "name": "stderr",
     "output_type": "stream",
     "text": [
      "\r",
      "Calibrating edits in editable positions...:  37%|▎| 1230/3350 [00:20<00:35, 59."
     ]
    },
    {
     "name": "stderr",
     "output_type": "stream",
     "text": [
      "\r",
      "Calibrating edits in editable positions...:  37%|▎| 1236/3350 [00:20<00:35, 59."
     ]
    },
    {
     "name": "stderr",
     "output_type": "stream",
     "text": [
      "\r",
      "Calibrating edits in editable positions...:  37%|▎| 1243/3350 [00:20<00:34, 60."
     ]
    },
    {
     "name": "stderr",
     "output_type": "stream",
     "text": [
      "\r",
      "Calibrating edits in editable positions...:  37%|▎| 1250/3350 [00:20<00:34, 60."
     ]
    },
    {
     "name": "stderr",
     "output_type": "stream",
     "text": [
      "\r",
      "Calibrating edits in editable positions...:  38%|▍| 1257/3350 [00:20<00:35, 59."
     ]
    },
    {
     "name": "stderr",
     "output_type": "stream",
     "text": [
      "\r",
      "Calibrating edits in editable positions...:  38%|▍| 1263/3350 [00:20<00:35, 59."
     ]
    },
    {
     "name": "stderr",
     "output_type": "stream",
     "text": [
      "\r",
      "Calibrating edits in editable positions...:  38%|▍| 1270/3350 [00:20<00:34, 59."
     ]
    },
    {
     "name": "stderr",
     "output_type": "stream",
     "text": [
      "\r",
      "Calibrating edits in editable positions...:  38%|▍| 1277/3350 [00:20<00:34, 59."
     ]
    },
    {
     "name": "stderr",
     "output_type": "stream",
     "text": [
      "\r",
      "Calibrating edits in editable positions...:  38%|▍| 1284/3350 [00:21<00:34, 60."
     ]
    },
    {
     "name": "stderr",
     "output_type": "stream",
     "text": [
      "\r",
      "Calibrating edits in editable positions...:  39%|▍| 1291/3350 [00:21<00:34, 60."
     ]
    },
    {
     "name": "stderr",
     "output_type": "stream",
     "text": [
      "\r",
      "Calibrating edits in editable positions...:  39%|▍| 1298/3350 [00:21<00:34, 59."
     ]
    },
    {
     "name": "stderr",
     "output_type": "stream",
     "text": [
      "\r",
      "Calibrating edits in editable positions...:  39%|▍| 1304/3350 [00:21<00:34, 59."
     ]
    },
    {
     "name": "stderr",
     "output_type": "stream",
     "text": [
      "\r",
      "Calibrating edits in editable positions...:  39%|▍| 1311/3350 [00:21<00:34, 59."
     ]
    },
    {
     "name": "stderr",
     "output_type": "stream",
     "text": [
      "\r",
      "Calibrating edits in editable positions...:  39%|▍| 1317/3350 [00:21<00:34, 59."
     ]
    },
    {
     "name": "stderr",
     "output_type": "stream",
     "text": [
      "\r",
      "Calibrating edits in editable positions...:  39%|▍| 1323/3350 [00:21<00:34, 59."
     ]
    },
    {
     "name": "stderr",
     "output_type": "stream",
     "text": [
      "\r",
      "Calibrating edits in editable positions...:  40%|▍| 1330/3350 [00:21<00:33, 59."
     ]
    },
    {
     "name": "stderr",
     "output_type": "stream",
     "text": [
      "\r",
      "Calibrating edits in editable positions...:  40%|▍| 1336/3350 [00:21<00:33, 59."
     ]
    },
    {
     "name": "stderr",
     "output_type": "stream",
     "text": [
      "\r",
      "Calibrating edits in editable positions...:  40%|▍| 1342/3350 [00:21<00:33, 59."
     ]
    },
    {
     "name": "stderr",
     "output_type": "stream",
     "text": [
      "\r",
      "Calibrating edits in editable positions...:  40%|▍| 1348/3350 [00:22<00:33, 59."
     ]
    },
    {
     "name": "stderr",
     "output_type": "stream",
     "text": [
      "\r",
      "Calibrating edits in editable positions...:  40%|▍| 1354/3350 [00:22<00:33, 59."
     ]
    },
    {
     "name": "stderr",
     "output_type": "stream",
     "text": [
      "\r",
      "Calibrating edits in editable positions...:  41%|▍| 1361/3350 [00:22<00:33, 59."
     ]
    },
    {
     "name": "stderr",
     "output_type": "stream",
     "text": [
      "\r",
      "Calibrating edits in editable positions...:  41%|▍| 1367/3350 [00:22<00:33, 59."
     ]
    },
    {
     "name": "stderr",
     "output_type": "stream",
     "text": [
      "\r",
      "Calibrating edits in editable positions...:  41%|▍| 1374/3350 [00:22<00:33, 59."
     ]
    },
    {
     "name": "stderr",
     "output_type": "stream",
     "text": [
      "\r",
      "Calibrating edits in editable positions...:  41%|▍| 1380/3350 [00:22<00:32, 59."
     ]
    },
    {
     "name": "stderr",
     "output_type": "stream",
     "text": [
      "\r",
      "Calibrating edits in editable positions...:  41%|▍| 1386/3350 [00:22<00:32, 59."
     ]
    },
    {
     "name": "stderr",
     "output_type": "stream",
     "text": [
      "\r",
      "Calibrating edits in editable positions...:  42%|▍| 1392/3350 [00:22<00:32, 59."
     ]
    },
    {
     "name": "stderr",
     "output_type": "stream",
     "text": [
      "\r",
      "Calibrating edits in editable positions...:  42%|▍| 1399/3350 [00:22<00:32, 59."
     ]
    },
    {
     "name": "stderr",
     "output_type": "stream",
     "text": [
      "\r",
      "Calibrating edits in editable positions...:  42%|▍| 1405/3350 [00:23<00:32, 59."
     ]
    },
    {
     "name": "stderr",
     "output_type": "stream",
     "text": [
      "\r",
      "Calibrating edits in editable positions...:  42%|▍| 1411/3350 [00:23<00:32, 59."
     ]
    },
    {
     "name": "stderr",
     "output_type": "stream",
     "text": [
      "\r",
      "Calibrating edits in editable positions...:  42%|▍| 1417/3350 [00:23<00:33, 58."
     ]
    },
    {
     "name": "stderr",
     "output_type": "stream",
     "text": [
      "\r",
      "Calibrating edits in editable positions...:  42%|▍| 1423/3350 [00:23<00:32, 58."
     ]
    },
    {
     "name": "stderr",
     "output_type": "stream",
     "text": [
      "\r",
      "Calibrating edits in editable positions...:  43%|▍| 1429/3350 [00:23<00:32, 58."
     ]
    },
    {
     "name": "stderr",
     "output_type": "stream",
     "text": [
      "\r",
      "Calibrating edits in editable positions...:  43%|▍| 1435/3350 [00:23<00:32, 58."
     ]
    },
    {
     "name": "stderr",
     "output_type": "stream",
     "text": [
      "\r",
      "Calibrating edits in editable positions...:  43%|▍| 1442/3350 [00:23<00:32, 59."
     ]
    },
    {
     "name": "stderr",
     "output_type": "stream",
     "text": [
      "\r",
      "Calibrating edits in editable positions...:  43%|▍| 1448/3350 [00:23<00:32, 59."
     ]
    },
    {
     "name": "stderr",
     "output_type": "stream",
     "text": [
      "\r",
      "Calibrating edits in editable positions...:  43%|▍| 1455/3350 [00:23<00:31, 59."
     ]
    },
    {
     "name": "stderr",
     "output_type": "stream",
     "text": [
      "\r",
      "Calibrating edits in editable positions...:  44%|▍| 1461/3350 [00:23<00:31, 59."
     ]
    },
    {
     "name": "stderr",
     "output_type": "stream",
     "text": [
      "\r",
      "Calibrating edits in editable positions...:  44%|▍| 1468/3350 [00:24<00:31, 59."
     ]
    },
    {
     "name": "stderr",
     "output_type": "stream",
     "text": [
      "\r",
      "Calibrating edits in editable positions...:  44%|▍| 1475/3350 [00:24<00:30, 61."
     ]
    },
    {
     "name": "stderr",
     "output_type": "stream",
     "text": [
      "\r",
      "Calibrating edits in editable positions...:  44%|▍| 1482/3350 [00:24<00:30, 60."
     ]
    },
    {
     "name": "stderr",
     "output_type": "stream",
     "text": [
      "\r",
      "Calibrating edits in editable positions...:  44%|▍| 1489/3350 [00:24<00:30, 60."
     ]
    },
    {
     "name": "stderr",
     "output_type": "stream",
     "text": [
      "\r",
      "Calibrating edits in editable positions...:  45%|▍| 1496/3350 [00:24<00:30, 60."
     ]
    },
    {
     "name": "stderr",
     "output_type": "stream",
     "text": [
      "\r",
      "Calibrating edits in editable positions...:  45%|▍| 1503/3350 [00:24<00:30, 60."
     ]
    },
    {
     "name": "stderr",
     "output_type": "stream",
     "text": [
      "\r",
      "Calibrating edits in editable positions...:  45%|▍| 1510/3350 [00:24<00:30, 59."
     ]
    },
    {
     "name": "stderr",
     "output_type": "stream",
     "text": [
      "\r",
      "Calibrating edits in editable positions...:  45%|▍| 1516/3350 [00:24<00:30, 59."
     ]
    },
    {
     "name": "stderr",
     "output_type": "stream",
     "text": [
      "\r",
      "Calibrating edits in editable positions...:  45%|▍| 1522/3350 [00:25<00:30, 59."
     ]
    },
    {
     "name": "stderr",
     "output_type": "stream",
     "text": [
      "\r",
      "Calibrating edits in editable positions...:  46%|▍| 1528/3350 [00:25<00:30, 58."
     ]
    },
    {
     "name": "stderr",
     "output_type": "stream",
     "text": [
      "\r",
      "Calibrating edits in editable positions...:  46%|▍| 1534/3350 [00:25<00:31, 57."
     ]
    },
    {
     "name": "stderr",
     "output_type": "stream",
     "text": [
      "\r",
      "Calibrating edits in editable positions...:  46%|▍| 1540/3350 [00:25<00:32, 56."
     ]
    },
    {
     "name": "stderr",
     "output_type": "stream",
     "text": [
      "\r",
      "Calibrating edits in editable positions...:  46%|▍| 1546/3350 [00:25<00:32, 56."
     ]
    },
    {
     "name": "stderr",
     "output_type": "stream",
     "text": [
      "\r",
      "Calibrating edits in editable positions...:  46%|▍| 1552/3350 [00:25<00:32, 55."
     ]
    },
    {
     "name": "stderr",
     "output_type": "stream",
     "text": [
      "\r",
      "Calibrating edits in editable positions...:  47%|▍| 1558/3350 [00:25<00:32, 55."
     ]
    },
    {
     "name": "stderr",
     "output_type": "stream",
     "text": [
      "\r",
      "Calibrating edits in editable positions...:  47%|▍| 1564/3350 [00:25<00:31, 56."
     ]
    },
    {
     "name": "stderr",
     "output_type": "stream",
     "text": [
      "\r",
      "Calibrating edits in editable positions...:  47%|▍| 1570/3350 [00:25<00:31, 56."
     ]
    },
    {
     "name": "stderr",
     "output_type": "stream",
     "text": [
      "\r",
      "Calibrating edits in editable positions...:  47%|▍| 1576/3350 [00:25<00:31, 55."
     ]
    },
    {
     "name": "stderr",
     "output_type": "stream",
     "text": [
      "\r",
      "Calibrating edits in editable positions...:  47%|▍| 1582/3350 [00:26<00:31, 55."
     ]
    },
    {
     "name": "stderr",
     "output_type": "stream",
     "text": [
      "\r",
      "Calibrating edits in editable positions...:  47%|▍| 1588/3350 [00:26<00:31, 56."
     ]
    },
    {
     "name": "stderr",
     "output_type": "stream",
     "text": [
      "\r",
      "Calibrating edits in editable positions...:  48%|▍| 1594/3350 [00:26<00:31, 56."
     ]
    },
    {
     "name": "stderr",
     "output_type": "stream",
     "text": [
      "\r",
      "Calibrating edits in editable positions...:  48%|▍| 1600/3350 [00:26<00:30, 56."
     ]
    },
    {
     "name": "stderr",
     "output_type": "stream",
     "text": [
      "\r",
      "Calibrating edits in editable positions...:  48%|▍| 1606/3350 [00:26<00:30, 56."
     ]
    },
    {
     "name": "stderr",
     "output_type": "stream",
     "text": [
      "\r",
      "Calibrating edits in editable positions...:  48%|▍| 1612/3350 [00:26<00:30, 56."
     ]
    },
    {
     "name": "stderr",
     "output_type": "stream",
     "text": [
      "\r",
      "Calibrating edits in editable positions...:  48%|▍| 1618/3350 [00:26<00:30, 56."
     ]
    },
    {
     "name": "stderr",
     "output_type": "stream",
     "text": [
      "\r",
      "Calibrating edits in editable positions...:  48%|▍| 1624/3350 [00:26<00:30, 57."
     ]
    },
    {
     "name": "stderr",
     "output_type": "stream",
     "text": [
      "\r",
      "Calibrating edits in editable positions...:  49%|▍| 1630/3350 [00:26<00:30, 56."
     ]
    },
    {
     "name": "stderr",
     "output_type": "stream",
     "text": [
      "\r",
      "Calibrating edits in editable positions...:  49%|▍| 1636/3350 [00:27<00:30, 56."
     ]
    },
    {
     "name": "stderr",
     "output_type": "stream",
     "text": [
      "\r",
      "Calibrating edits in editable positions...:  49%|▍| 1642/3350 [00:27<00:30, 56."
     ]
    },
    {
     "name": "stderr",
     "output_type": "stream",
     "text": [
      "\r",
      "Calibrating edits in editable positions...:  49%|▍| 1648/3350 [00:27<00:30, 56."
     ]
    },
    {
     "name": "stderr",
     "output_type": "stream",
     "text": [
      "\r",
      "Calibrating edits in editable positions...:  49%|▍| 1654/3350 [00:27<00:29, 56."
     ]
    },
    {
     "name": "stderr",
     "output_type": "stream",
     "text": [
      "\r",
      "Calibrating edits in editable positions...:  50%|▍| 1660/3350 [00:27<00:29, 56."
     ]
    },
    {
     "name": "stderr",
     "output_type": "stream",
     "text": [
      "\r",
      "Calibrating edits in editable positions...:  50%|▍| 1666/3350 [00:27<00:29, 57."
     ]
    },
    {
     "name": "stderr",
     "output_type": "stream",
     "text": [
      "\r",
      "Calibrating edits in editable positions...:  50%|▍| 1672/3350 [00:27<00:29, 57."
     ]
    },
    {
     "name": "stderr",
     "output_type": "stream",
     "text": [
      "\r",
      "Calibrating edits in editable positions...:  50%|▌| 1678/3350 [00:27<00:29, 57."
     ]
    },
    {
     "name": "stderr",
     "output_type": "stream",
     "text": [
      "\r",
      "Calibrating edits in editable positions...:  50%|▌| 1684/3350 [00:27<00:28, 57."
     ]
    },
    {
     "name": "stderr",
     "output_type": "stream",
     "text": [
      "\r",
      "Calibrating edits in editable positions...:  50%|▌| 1690/3350 [00:27<00:28, 57."
     ]
    },
    {
     "name": "stderr",
     "output_type": "stream",
     "text": [
      "\r",
      "Calibrating edits in editable positions...:  51%|▌| 1696/3350 [00:28<00:28, 57."
     ]
    },
    {
     "name": "stderr",
     "output_type": "stream",
     "text": [
      "\r",
      "Calibrating edits in editable positions...:  51%|▌| 1702/3350 [00:28<00:28, 57."
     ]
    },
    {
     "name": "stderr",
     "output_type": "stream",
     "text": [
      "\r",
      "Calibrating edits in editable positions...:  51%|▌| 1708/3350 [00:28<00:28, 57."
     ]
    },
    {
     "name": "stderr",
     "output_type": "stream",
     "text": [
      "\r",
      "Calibrating edits in editable positions...:  51%|▌| 1714/3350 [00:28<00:28, 56."
     ]
    },
    {
     "name": "stderr",
     "output_type": "stream",
     "text": [
      "\r",
      "Calibrating edits in editable positions...:  51%|▌| 1720/3350 [00:28<00:28, 57."
     ]
    },
    {
     "name": "stderr",
     "output_type": "stream",
     "text": [
      "\r",
      "Calibrating edits in editable positions...:  52%|▌| 1726/3350 [00:28<00:28, 56."
     ]
    },
    {
     "name": "stderr",
     "output_type": "stream",
     "text": [
      "\r",
      "Calibrating edits in editable positions...:  52%|▌| 1732/3350 [00:28<00:28, 57."
     ]
    },
    {
     "name": "stderr",
     "output_type": "stream",
     "text": [
      "\r",
      "Calibrating edits in editable positions...:  52%|▌| 1738/3350 [00:28<00:28, 57."
     ]
    },
    {
     "name": "stderr",
     "output_type": "stream",
     "text": [
      "\r",
      "Calibrating edits in editable positions...:  52%|▌| 1744/3350 [00:28<00:28, 56."
     ]
    },
    {
     "name": "stderr",
     "output_type": "stream",
     "text": [
      "\r",
      "Calibrating edits in editable positions...:  52%|▌| 1750/3350 [00:29<00:28, 56."
     ]
    },
    {
     "name": "stderr",
     "output_type": "stream",
     "text": [
      "\r",
      "Calibrating edits in editable positions...:  52%|▌| 1756/3350 [00:29<00:28, 55."
     ]
    },
    {
     "name": "stderr",
     "output_type": "stream",
     "text": [
      "\r",
      "Calibrating edits in editable positions...:  53%|▌| 1762/3350 [00:29<00:28, 55."
     ]
    },
    {
     "name": "stderr",
     "output_type": "stream",
     "text": [
      "\r",
      "Calibrating edits in editable positions...:  53%|▌| 1768/3350 [00:29<00:28, 55."
     ]
    },
    {
     "name": "stderr",
     "output_type": "stream",
     "text": [
      "\r",
      "Calibrating edits in editable positions...:  53%|▌| 1774/3350 [00:29<00:28, 55."
     ]
    },
    {
     "name": "stderr",
     "output_type": "stream",
     "text": [
      "\r",
      "Calibrating edits in editable positions...:  53%|▌| 1780/3350 [00:29<00:28, 55."
     ]
    },
    {
     "name": "stderr",
     "output_type": "stream",
     "text": [
      "\r",
      "Calibrating edits in editable positions...:  53%|▌| 1786/3350 [00:29<00:27, 56."
     ]
    },
    {
     "name": "stderr",
     "output_type": "stream",
     "text": [
      "\r",
      "Calibrating edits in editable positions...:  53%|▌| 1792/3350 [00:29<00:27, 56."
     ]
    },
    {
     "name": "stderr",
     "output_type": "stream",
     "text": [
      "\r",
      "Calibrating edits in editable positions...:  54%|▌| 1798/3350 [00:29<00:27, 56."
     ]
    },
    {
     "name": "stderr",
     "output_type": "stream",
     "text": [
      "\r",
      "Calibrating edits in editable positions...:  54%|▌| 1804/3350 [00:29<00:27, 56."
     ]
    },
    {
     "name": "stderr",
     "output_type": "stream",
     "text": [
      "\r",
      "Calibrating edits in editable positions...:  54%|▌| 1810/3350 [00:30<00:28, 54."
     ]
    },
    {
     "name": "stderr",
     "output_type": "stream",
     "text": [
      "\r",
      "Calibrating edits in editable positions...:  54%|▌| 1816/3350 [00:30<00:27, 54."
     ]
    },
    {
     "name": "stderr",
     "output_type": "stream",
     "text": [
      "\r",
      "Calibrating edits in editable positions...:  54%|▌| 1822/3350 [00:30<00:27, 54."
     ]
    },
    {
     "name": "stderr",
     "output_type": "stream",
     "text": [
      "\r",
      "Calibrating edits in editable positions...:  55%|▌| 1828/3350 [00:30<00:27, 54."
     ]
    },
    {
     "name": "stderr",
     "output_type": "stream",
     "text": [
      "\r",
      "Calibrating edits in editable positions...:  55%|▌| 1834/3350 [00:30<00:27, 55."
     ]
    },
    {
     "name": "stderr",
     "output_type": "stream",
     "text": [
      "\r",
      "Calibrating edits in editable positions...:  55%|▌| 1840/3350 [00:30<00:27, 55."
     ]
    },
    {
     "name": "stderr",
     "output_type": "stream",
     "text": [
      "\r",
      "Calibrating edits in editable positions...:  55%|▌| 1846/3350 [00:30<00:27, 55."
     ]
    },
    {
     "name": "stderr",
     "output_type": "stream",
     "text": [
      "\r",
      "Calibrating edits in editable positions...:  55%|▌| 1852/3350 [00:30<00:26, 55."
     ]
    },
    {
     "name": "stderr",
     "output_type": "stream",
     "text": [
      "\r",
      "Calibrating edits in editable positions...:  55%|▌| 1858/3350 [00:30<00:26, 55."
     ]
    },
    {
     "name": "stderr",
     "output_type": "stream",
     "text": [
      "\r",
      "Calibrating edits in editable positions...:  56%|▌| 1864/3350 [00:31<00:26, 55."
     ]
    },
    {
     "name": "stderr",
     "output_type": "stream",
     "text": [
      "\r",
      "Calibrating edits in editable positions...:  56%|▌| 1870/3350 [00:31<00:26, 55."
     ]
    },
    {
     "name": "stderr",
     "output_type": "stream",
     "text": [
      "\r",
      "Calibrating edits in editable positions...:  56%|▌| 1876/3350 [00:31<00:26, 56."
     ]
    },
    {
     "name": "stderr",
     "output_type": "stream",
     "text": [
      "\r",
      "Calibrating edits in editable positions...:  56%|▌| 1882/3350 [00:31<00:26, 56."
     ]
    },
    {
     "name": "stderr",
     "output_type": "stream",
     "text": [
      "\r",
      "Calibrating edits in editable positions...:  56%|▌| 1888/3350 [00:31<00:25, 56."
     ]
    },
    {
     "name": "stderr",
     "output_type": "stream",
     "text": [
      "\r",
      "Calibrating edits in editable positions...:  57%|▌| 1894/3350 [00:31<00:25, 56."
     ]
    },
    {
     "name": "stderr",
     "output_type": "stream",
     "text": [
      "\r",
      "Calibrating edits in editable positions...:  57%|▌| 1900/3350 [00:31<00:25, 56."
     ]
    },
    {
     "name": "stderr",
     "output_type": "stream",
     "text": [
      "\r",
      "Calibrating edits in editable positions...:  57%|▌| 1906/3350 [00:31<00:25, 56."
     ]
    },
    {
     "name": "stderr",
     "output_type": "stream",
     "text": [
      "\r",
      "Calibrating edits in editable positions...:  57%|▌| 1912/3350 [00:31<00:25, 56."
     ]
    },
    {
     "name": "stderr",
     "output_type": "stream",
     "text": [
      "\r",
      "Calibrating edits in editable positions...:  57%|▌| 1918/3350 [00:32<00:25, 56."
     ]
    },
    {
     "name": "stderr",
     "output_type": "stream",
     "text": [
      "\r",
      "Calibrating edits in editable positions...:  57%|▌| 1924/3350 [00:32<00:25, 56."
     ]
    },
    {
     "name": "stderr",
     "output_type": "stream",
     "text": [
      "\r",
      "Calibrating edits in editable positions...:  58%|▌| 1930/3350 [00:32<00:25, 56."
     ]
    },
    {
     "name": "stderr",
     "output_type": "stream",
     "text": [
      "\r",
      "Calibrating edits in editable positions...:  58%|▌| 1936/3350 [00:32<00:24, 56."
     ]
    },
    {
     "name": "stderr",
     "output_type": "stream",
     "text": [
      "\r",
      "Calibrating edits in editable positions...:  58%|▌| 1942/3350 [00:32<00:24, 56."
     ]
    },
    {
     "name": "stderr",
     "output_type": "stream",
     "text": [
      "\r",
      "Calibrating edits in editable positions...:  58%|▌| 1948/3350 [00:32<00:24, 56."
     ]
    },
    {
     "name": "stderr",
     "output_type": "stream",
     "text": [
      "\r",
      "Calibrating edits in editable positions...:  58%|▌| 1954/3350 [00:32<00:24, 56."
     ]
    },
    {
     "name": "stderr",
     "output_type": "stream",
     "text": [
      "\r",
      "Calibrating edits in editable positions...:  59%|▌| 1960/3350 [00:32<00:24, 57."
     ]
    },
    {
     "name": "stderr",
     "output_type": "stream",
     "text": [
      "\r",
      "Calibrating edits in editable positions...:  59%|▌| 1966/3350 [00:32<00:24, 57."
     ]
    },
    {
     "name": "stderr",
     "output_type": "stream",
     "text": [
      "\r",
      "Calibrating edits in editable positions...:  59%|▌| 1972/3350 [00:32<00:23, 57."
     ]
    },
    {
     "name": "stderr",
     "output_type": "stream",
     "text": [
      "\r",
      "Calibrating edits in editable positions...:  59%|▌| 1978/3350 [00:33<00:24, 56."
     ]
    },
    {
     "name": "stderr",
     "output_type": "stream",
     "text": [
      "\r",
      "Calibrating edits in editable positions...:  59%|▌| 1984/3350 [00:33<00:24, 56."
     ]
    },
    {
     "name": "stderr",
     "output_type": "stream",
     "text": [
      "\r",
      "Calibrating edits in editable positions...:  59%|▌| 1990/3350 [00:33<00:24, 56."
     ]
    },
    {
     "name": "stderr",
     "output_type": "stream",
     "text": [
      "\r",
      "Calibrating edits in editable positions...:  60%|▌| 1996/3350 [00:33<00:24, 56."
     ]
    },
    {
     "name": "stderr",
     "output_type": "stream",
     "text": [
      "\r",
      "Calibrating edits in editable positions...:  60%|▌| 2002/3350 [00:33<00:23, 56."
     ]
    },
    {
     "name": "stderr",
     "output_type": "stream",
     "text": [
      "\r",
      "Calibrating edits in editable positions...:  60%|▌| 2008/3350 [00:33<00:23, 56."
     ]
    },
    {
     "name": "stderr",
     "output_type": "stream",
     "text": [
      "\r",
      "Calibrating edits in editable positions...:  60%|▌| 2014/3350 [00:33<00:23, 56."
     ]
    },
    {
     "name": "stderr",
     "output_type": "stream",
     "text": [
      "\r",
      "Calibrating edits in editable positions...:  60%|▌| 2020/3350 [00:33<00:23, 55."
     ]
    },
    {
     "name": "stderr",
     "output_type": "stream",
     "text": [
      "\r",
      "Calibrating edits in editable positions...:  60%|▌| 2026/3350 [00:33<00:23, 55."
     ]
    },
    {
     "name": "stderr",
     "output_type": "stream",
     "text": [
      "\r",
      "Calibrating edits in editable positions...:  61%|▌| 2032/3350 [00:34<00:23, 56."
     ]
    },
    {
     "name": "stderr",
     "output_type": "stream",
     "text": [
      "\r",
      "Calibrating edits in editable positions...:  61%|▌| 2038/3350 [00:34<00:23, 55."
     ]
    },
    {
     "name": "stderr",
     "output_type": "stream",
     "text": [
      "\r",
      "Calibrating edits in editable positions...:  61%|▌| 2044/3350 [00:34<00:23, 55."
     ]
    },
    {
     "name": "stderr",
     "output_type": "stream",
     "text": [
      "\r",
      "Calibrating edits in editable positions...:  61%|▌| 2050/3350 [00:34<00:23, 55."
     ]
    },
    {
     "name": "stderr",
     "output_type": "stream",
     "text": [
      "\r",
      "Calibrating edits in editable positions...:  61%|▌| 2056/3350 [00:34<00:22, 56."
     ]
    },
    {
     "name": "stderr",
     "output_type": "stream",
     "text": [
      "\r",
      "Calibrating edits in editable positions...:  62%|▌| 2062/3350 [00:34<00:22, 56."
     ]
    },
    {
     "name": "stderr",
     "output_type": "stream",
     "text": [
      "\r",
      "Calibrating edits in editable positions...:  62%|▌| 2068/3350 [00:34<00:22, 57."
     ]
    },
    {
     "name": "stderr",
     "output_type": "stream",
     "text": [
      "\r",
      "Calibrating edits in editable positions...:  62%|▌| 2074/3350 [00:34<00:22, 57."
     ]
    },
    {
     "name": "stderr",
     "output_type": "stream",
     "text": [
      "\r",
      "Calibrating edits in editable positions...:  62%|▌| 2080/3350 [00:34<00:22, 57."
     ]
    },
    {
     "name": "stderr",
     "output_type": "stream",
     "text": [
      "\r",
      "Calibrating edits in editable positions...:  62%|▌| 2086/3350 [00:35<00:21, 57."
     ]
    },
    {
     "name": "stderr",
     "output_type": "stream",
     "text": [
      "\r",
      "Calibrating edits in editable positions...:  62%|▌| 2092/3350 [00:35<00:21, 57."
     ]
    },
    {
     "name": "stderr",
     "output_type": "stream",
     "text": [
      "\r",
      "Calibrating edits in editable positions...:  63%|▋| 2098/3350 [00:35<00:21, 57."
     ]
    },
    {
     "name": "stderr",
     "output_type": "stream",
     "text": [
      "\r",
      "Calibrating edits in editable positions...:  63%|▋| 2104/3350 [00:35<00:21, 57."
     ]
    },
    {
     "name": "stderr",
     "output_type": "stream",
     "text": [
      "\r",
      "Calibrating edits in editable positions...:  63%|▋| 2110/3350 [00:35<00:21, 57."
     ]
    },
    {
     "name": "stderr",
     "output_type": "stream",
     "text": [
      "\r",
      "Calibrating edits in editable positions...:  63%|▋| 2116/3350 [00:35<00:21, 57."
     ]
    },
    {
     "name": "stderr",
     "output_type": "stream",
     "text": [
      "\r",
      "Calibrating edits in editable positions...:  63%|▋| 2122/3350 [00:35<00:21, 58."
     ]
    },
    {
     "name": "stderr",
     "output_type": "stream",
     "text": [
      "\r",
      "Calibrating edits in editable positions...:  64%|▋| 2128/3350 [00:35<00:21, 57."
     ]
    },
    {
     "name": "stderr",
     "output_type": "stream",
     "text": [
      "\r",
      "Calibrating edits in editable positions...:  64%|▋| 2134/3350 [00:35<00:20, 58."
     ]
    },
    {
     "name": "stderr",
     "output_type": "stream",
     "text": [
      "\r",
      "Calibrating edits in editable positions...:  64%|▋| 2140/3350 [00:35<00:20, 58."
     ]
    },
    {
     "name": "stderr",
     "output_type": "stream",
     "text": [
      "\r",
      "Calibrating edits in editable positions...:  64%|▋| 2146/3350 [00:36<00:20, 57."
     ]
    },
    {
     "name": "stderr",
     "output_type": "stream",
     "text": [
      "\r",
      "Calibrating edits in editable positions...:  64%|▋| 2152/3350 [00:36<00:20, 58."
     ]
    },
    {
     "name": "stderr",
     "output_type": "stream",
     "text": [
      "\r",
      "Calibrating edits in editable positions...:  64%|▋| 2158/3350 [00:36<00:20, 58."
     ]
    },
    {
     "name": "stderr",
     "output_type": "stream",
     "text": [
      "\r",
      "Calibrating edits in editable positions...:  65%|▋| 2164/3350 [00:36<00:20, 57."
     ]
    },
    {
     "name": "stderr",
     "output_type": "stream",
     "text": [
      "\r",
      "Calibrating edits in editable positions...:  65%|▋| 2170/3350 [00:36<00:20, 57."
     ]
    },
    {
     "name": "stderr",
     "output_type": "stream",
     "text": [
      "\r",
      "Calibrating edits in editable positions...:  65%|▋| 2176/3350 [00:36<00:20, 57."
     ]
    },
    {
     "name": "stderr",
     "output_type": "stream",
     "text": [
      "\r",
      "Calibrating edits in editable positions...:  65%|▋| 2182/3350 [00:36<00:20, 57."
     ]
    },
    {
     "name": "stderr",
     "output_type": "stream",
     "text": [
      "\r",
      "Calibrating edits in editable positions...:  65%|▋| 2188/3350 [00:36<00:20, 56."
     ]
    },
    {
     "name": "stderr",
     "output_type": "stream",
     "text": [
      "\r",
      "Calibrating edits in editable positions...:  65%|▋| 2194/3350 [00:36<00:20, 56."
     ]
    },
    {
     "name": "stderr",
     "output_type": "stream",
     "text": [
      "\r",
      "Calibrating edits in editable positions...:  66%|▋| 2200/3350 [00:36<00:20, 55."
     ]
    },
    {
     "name": "stderr",
     "output_type": "stream",
     "text": [
      "\r",
      "Calibrating edits in editable positions...:  66%|▋| 2206/3350 [00:37<00:20, 55."
     ]
    },
    {
     "name": "stderr",
     "output_type": "stream",
     "text": [
      "\r",
      "Calibrating edits in editable positions...:  66%|▋| 2212/3350 [00:37<00:20, 55."
     ]
    },
    {
     "name": "stderr",
     "output_type": "stream",
     "text": [
      "\r",
      "Calibrating edits in editable positions...:  66%|▋| 2218/3350 [00:37<00:20, 55."
     ]
    },
    {
     "name": "stderr",
     "output_type": "stream",
     "text": [
      "\r",
      "Calibrating edits in editable positions...:  66%|▋| 2224/3350 [00:37<00:20, 55."
     ]
    },
    {
     "name": "stderr",
     "output_type": "stream",
     "text": [
      "\r",
      "Calibrating edits in editable positions...:  67%|▋| 2230/3350 [00:37<00:20, 55."
     ]
    },
    {
     "name": "stderr",
     "output_type": "stream",
     "text": [
      "\r",
      "Calibrating edits in editable positions...:  67%|▋| 2236/3350 [00:37<00:19, 55."
     ]
    },
    {
     "name": "stderr",
     "output_type": "stream",
     "text": [
      "\r",
      "Calibrating edits in editable positions...:  67%|▋| 2242/3350 [00:37<00:19, 55."
     ]
    },
    {
     "name": "stderr",
     "output_type": "stream",
     "text": [
      "\r",
      "Calibrating edits in editable positions...:  67%|▋| 2248/3350 [00:37<00:19, 56."
     ]
    },
    {
     "name": "stderr",
     "output_type": "stream",
     "text": [
      "\r",
      "Calibrating edits in editable positions...:  67%|▋| 2254/3350 [00:37<00:19, 56."
     ]
    },
    {
     "name": "stderr",
     "output_type": "stream",
     "text": [
      "\r",
      "Calibrating edits in editable positions...:  67%|▋| 2260/3350 [00:38<00:19, 56."
     ]
    },
    {
     "name": "stderr",
     "output_type": "stream",
     "text": [
      "\r",
      "Calibrating edits in editable positions...:  68%|▋| 2266/3350 [00:38<00:19, 56."
     ]
    },
    {
     "name": "stderr",
     "output_type": "stream",
     "text": [
      "\r",
      "Calibrating edits in editable positions...:  68%|▋| 2272/3350 [00:38<00:19, 55."
     ]
    },
    {
     "name": "stderr",
     "output_type": "stream",
     "text": [
      "\r",
      "Calibrating edits in editable positions...:  68%|▋| 2278/3350 [00:38<00:19, 55."
     ]
    },
    {
     "name": "stderr",
     "output_type": "stream",
     "text": [
      "\r",
      "Calibrating edits in editable positions...:  68%|▋| 2284/3350 [00:38<00:18, 56."
     ]
    },
    {
     "name": "stderr",
     "output_type": "stream",
     "text": [
      "\r",
      "Calibrating edits in editable positions...:  68%|▋| 2290/3350 [00:38<00:18, 56."
     ]
    },
    {
     "name": "stderr",
     "output_type": "stream",
     "text": [
      "\r",
      "Calibrating edits in editable positions...:  69%|▋| 2296/3350 [00:38<00:18, 55."
     ]
    },
    {
     "name": "stderr",
     "output_type": "stream",
     "text": [
      "\r",
      "Calibrating edits in editable positions...:  69%|▋| 2302/3350 [00:38<00:18, 55."
     ]
    },
    {
     "name": "stderr",
     "output_type": "stream",
     "text": [
      "\r",
      "Calibrating edits in editable positions...:  69%|▋| 2308/3350 [00:38<00:18, 55."
     ]
    },
    {
     "name": "stderr",
     "output_type": "stream",
     "text": [
      "\r",
      "Calibrating edits in editable positions...:  69%|▋| 2314/3350 [00:39<00:18, 55."
     ]
    },
    {
     "name": "stderr",
     "output_type": "stream",
     "text": [
      "\r",
      "Calibrating edits in editable positions...:  69%|▋| 2320/3350 [00:39<00:18, 56."
     ]
    },
    {
     "name": "stderr",
     "output_type": "stream",
     "text": [
      "\r",
      "Calibrating edits in editable positions...:  69%|▋| 2326/3350 [00:39<00:18, 56."
     ]
    },
    {
     "name": "stderr",
     "output_type": "stream",
     "text": [
      "\r",
      "Calibrating edits in editable positions...:  70%|▋| 2332/3350 [00:39<00:18, 56."
     ]
    },
    {
     "name": "stderr",
     "output_type": "stream",
     "text": [
      "\r",
      "Calibrating edits in editable positions...:  70%|▋| 2338/3350 [00:39<00:17, 57."
     ]
    },
    {
     "name": "stderr",
     "output_type": "stream",
     "text": [
      "\r",
      "Calibrating edits in editable positions...:  70%|▋| 2344/3350 [00:39<00:17, 56."
     ]
    },
    {
     "name": "stderr",
     "output_type": "stream",
     "text": [
      "\r",
      "Calibrating edits in editable positions...:  70%|▋| 2350/3350 [00:39<00:17, 56."
     ]
    },
    {
     "name": "stderr",
     "output_type": "stream",
     "text": [
      "\r",
      "Calibrating edits in editable positions...:  70%|▋| 2356/3350 [00:39<00:17, 56."
     ]
    },
    {
     "name": "stderr",
     "output_type": "stream",
     "text": [
      "\r",
      "Calibrating edits in editable positions...:  71%|▋| 2362/3350 [00:39<00:17, 57."
     ]
    },
    {
     "name": "stderr",
     "output_type": "stream",
     "text": [
      "\r",
      "Calibrating edits in editable positions...:  71%|▋| 2368/3350 [00:39<00:17, 57."
     ]
    },
    {
     "name": "stderr",
     "output_type": "stream",
     "text": [
      "\r",
      "Calibrating edits in editable positions...:  71%|▋| 2374/3350 [00:40<00:17, 57."
     ]
    },
    {
     "name": "stderr",
     "output_type": "stream",
     "text": [
      "\r",
      "Calibrating edits in editable positions...:  71%|▋| 2380/3350 [00:40<00:16, 57."
     ]
    },
    {
     "name": "stderr",
     "output_type": "stream",
     "text": [
      "\r",
      "Calibrating edits in editable positions...:  71%|▋| 2386/3350 [00:40<00:16, 57."
     ]
    },
    {
     "name": "stderr",
     "output_type": "stream",
     "text": [
      "\r",
      "Calibrating edits in editable positions...:  71%|▋| 2392/3350 [00:40<00:16, 57."
     ]
    },
    {
     "name": "stderr",
     "output_type": "stream",
     "text": [
      "\r",
      "Calibrating edits in editable positions...:  72%|▋| 2398/3350 [00:40<00:16, 56."
     ]
    },
    {
     "name": "stderr",
     "output_type": "stream",
     "text": [
      "\r",
      "Calibrating edits in editable positions...:  72%|▋| 2404/3350 [00:40<00:16, 57."
     ]
    },
    {
     "name": "stderr",
     "output_type": "stream",
     "text": [
      "\r",
      "Calibrating edits in editable positions...:  72%|▋| 2410/3350 [00:40<00:16, 57."
     ]
    },
    {
     "name": "stderr",
     "output_type": "stream",
     "text": [
      "\r",
      "Calibrating edits in editable positions...:  72%|▋| 2416/3350 [00:40<00:16, 57."
     ]
    },
    {
     "name": "stderr",
     "output_type": "stream",
     "text": [
      "\r",
      "Calibrating edits in editable positions...:  72%|▋| 2422/3350 [00:40<00:16, 57."
     ]
    },
    {
     "name": "stderr",
     "output_type": "stream",
     "text": [
      "\r",
      "Calibrating edits in editable positions...:  72%|▋| 2428/3350 [00:41<00:16, 57."
     ]
    },
    {
     "name": "stderr",
     "output_type": "stream",
     "text": [
      "\r",
      "Calibrating edits in editable positions...:  73%|▋| 2434/3350 [00:41<00:16, 57."
     ]
    },
    {
     "name": "stderr",
     "output_type": "stream",
     "text": [
      "\r",
      "Calibrating edits in editable positions...:  73%|▋| 2440/3350 [00:41<00:16, 56."
     ]
    },
    {
     "name": "stderr",
     "output_type": "stream",
     "text": [
      "\r",
      "Calibrating edits in editable positions...:  73%|▋| 2446/3350 [00:41<00:15, 56."
     ]
    },
    {
     "name": "stderr",
     "output_type": "stream",
     "text": [
      "\r",
      "Calibrating edits in editable positions...:  73%|▋| 2452/3350 [00:41<00:15, 56."
     ]
    },
    {
     "name": "stderr",
     "output_type": "stream",
     "text": [
      "\r",
      "Calibrating edits in editable positions...:  73%|▋| 2458/3350 [00:41<00:15, 56."
     ]
    },
    {
     "name": "stderr",
     "output_type": "stream",
     "text": [
      "\r",
      "Calibrating edits in editable positions...:  74%|▋| 2464/3350 [00:41<00:15, 56."
     ]
    },
    {
     "name": "stderr",
     "output_type": "stream",
     "text": [
      "\r",
      "Calibrating edits in editable positions...:  74%|▋| 2470/3350 [00:41<00:15, 56."
     ]
    },
    {
     "name": "stderr",
     "output_type": "stream",
     "text": [
      "\r",
      "Calibrating edits in editable positions...:  74%|▋| 2476/3350 [00:41<00:15, 56."
     ]
    },
    {
     "name": "stderr",
     "output_type": "stream",
     "text": [
      "\r",
      "Calibrating edits in editable positions...:  74%|▋| 2482/3350 [00:41<00:15, 56."
     ]
    },
    {
     "name": "stderr",
     "output_type": "stream",
     "text": [
      "\r",
      "Calibrating edits in editable positions...:  74%|▋| 2488/3350 [00:42<00:15, 57."
     ]
    },
    {
     "name": "stderr",
     "output_type": "stream",
     "text": [
      "\r",
      "Calibrating edits in editable positions...:  74%|▋| 2494/3350 [00:42<00:14, 57."
     ]
    },
    {
     "name": "stderr",
     "output_type": "stream",
     "text": [
      "\r",
      "Calibrating edits in editable positions...:  75%|▋| 2500/3350 [00:42<00:14, 57."
     ]
    },
    {
     "name": "stderr",
     "output_type": "stream",
     "text": [
      "\r",
      "Calibrating edits in editable positions...:  75%|▋| 2506/3350 [00:42<00:15, 55."
     ]
    },
    {
     "name": "stderr",
     "output_type": "stream",
     "text": [
      "\r",
      "Calibrating edits in editable positions...:  75%|▋| 2512/3350 [00:42<00:14, 56."
     ]
    },
    {
     "name": "stderr",
     "output_type": "stream",
     "text": [
      "\r",
      "Calibrating edits in editable positions...:  75%|▊| 2518/3350 [00:42<00:14, 56."
     ]
    },
    {
     "name": "stderr",
     "output_type": "stream",
     "text": [
      "\r",
      "Calibrating edits in editable positions...:  75%|▊| 2524/3350 [00:42<00:14, 56."
     ]
    },
    {
     "name": "stderr",
     "output_type": "stream",
     "text": [
      "\r",
      "Calibrating edits in editable positions...:  76%|▊| 2530/3350 [00:42<00:14, 56."
     ]
    },
    {
     "name": "stderr",
     "output_type": "stream",
     "text": [
      "\r",
      "Calibrating edits in editable positions...:  76%|▊| 2536/3350 [00:42<00:14, 56."
     ]
    },
    {
     "name": "stderr",
     "output_type": "stream",
     "text": [
      "\r",
      "Calibrating edits in editable positions...:  76%|▊| 2542/3350 [00:43<00:14, 56."
     ]
    },
    {
     "name": "stderr",
     "output_type": "stream",
     "text": [
      "\r",
      "Calibrating edits in editable positions...:  76%|▊| 2548/3350 [00:43<00:14, 56."
     ]
    },
    {
     "name": "stderr",
     "output_type": "stream",
     "text": [
      "\r",
      "Calibrating edits in editable positions...:  76%|▊| 2554/3350 [00:43<00:14, 56."
     ]
    },
    {
     "name": "stderr",
     "output_type": "stream",
     "text": [
      "\r",
      "Calibrating edits in editable positions...:  76%|▊| 2560/3350 [00:43<00:13, 56."
     ]
    },
    {
     "name": "stderr",
     "output_type": "stream",
     "text": [
      "\r",
      "Calibrating edits in editable positions...:  77%|▊| 2566/3350 [00:43<00:13, 56."
     ]
    },
    {
     "name": "stderr",
     "output_type": "stream",
     "text": [
      "\r",
      "Calibrating edits in editable positions...:  77%|▊| 2572/3350 [00:43<00:13, 56."
     ]
    },
    {
     "name": "stderr",
     "output_type": "stream",
     "text": [
      "\r",
      "Calibrating edits in editable positions...:  77%|▊| 2578/3350 [00:43<00:13, 55."
     ]
    },
    {
     "name": "stderr",
     "output_type": "stream",
     "text": [
      "\r",
      "Calibrating edits in editable positions...:  77%|▊| 2584/3350 [00:43<00:13, 55."
     ]
    },
    {
     "name": "stderr",
     "output_type": "stream",
     "text": [
      "\r",
      "Calibrating edits in editable positions...:  77%|▊| 2590/3350 [00:43<00:13, 55."
     ]
    },
    {
     "name": "stderr",
     "output_type": "stream",
     "text": [
      "\r",
      "Calibrating edits in editable positions...:  77%|▊| 2596/3350 [00:44<00:13, 56."
     ]
    },
    {
     "name": "stderr",
     "output_type": "stream",
     "text": [
      "\r",
      "Calibrating edits in editable positions...:  78%|▊| 2602/3350 [00:44<00:13, 56."
     ]
    },
    {
     "name": "stderr",
     "output_type": "stream",
     "text": [
      "\r",
      "Calibrating edits in editable positions...:  78%|▊| 2608/3350 [00:44<00:13, 56."
     ]
    },
    {
     "name": "stderr",
     "output_type": "stream",
     "text": [
      "\r",
      "Calibrating edits in editable positions...:  78%|▊| 2614/3350 [00:44<00:12, 56."
     ]
    },
    {
     "name": "stderr",
     "output_type": "stream",
     "text": [
      "\r",
      "Calibrating edits in editable positions...:  78%|▊| 2620/3350 [00:44<00:12, 57."
     ]
    },
    {
     "name": "stderr",
     "output_type": "stream",
     "text": [
      "\r",
      "Calibrating edits in editable positions...:  78%|▊| 2626/3350 [00:44<00:12, 57."
     ]
    },
    {
     "name": "stderr",
     "output_type": "stream",
     "text": [
      "\r",
      "Calibrating edits in editable positions...:  79%|▊| 2632/3350 [00:44<00:12, 57."
     ]
    },
    {
     "name": "stderr",
     "output_type": "stream",
     "text": [
      "\r",
      "Calibrating edits in editable positions...:  79%|▊| 2638/3350 [00:44<00:12, 57."
     ]
    },
    {
     "name": "stderr",
     "output_type": "stream",
     "text": [
      "\r",
      "Calibrating edits in editable positions...:  79%|▊| 2644/3350 [00:44<00:12, 56."
     ]
    },
    {
     "name": "stderr",
     "output_type": "stream",
     "text": [
      "\r",
      "Calibrating edits in editable positions...:  79%|▊| 2650/3350 [00:44<00:12, 56."
     ]
    },
    {
     "name": "stderr",
     "output_type": "stream",
     "text": [
      "\r",
      "Calibrating edits in editable positions...:  79%|▊| 2656/3350 [00:45<00:12, 57."
     ]
    },
    {
     "name": "stderr",
     "output_type": "stream",
     "text": [
      "\r",
      "Calibrating edits in editable positions...:  79%|▊| 2662/3350 [00:45<00:12, 56."
     ]
    },
    {
     "name": "stderr",
     "output_type": "stream",
     "text": [
      "\r",
      "Calibrating edits in editable positions...:  80%|▊| 2668/3350 [00:45<00:12, 56."
     ]
    },
    {
     "name": "stderr",
     "output_type": "stream",
     "text": [
      "\r",
      "Calibrating edits in editable positions...:  80%|▊| 2674/3350 [00:45<00:11, 56."
     ]
    },
    {
     "name": "stderr",
     "output_type": "stream",
     "text": [
      "\r",
      "Calibrating edits in editable positions...:  80%|▊| 2680/3350 [00:45<00:11, 56."
     ]
    },
    {
     "name": "stderr",
     "output_type": "stream",
     "text": [
      "\r",
      "Calibrating edits in editable positions...:  80%|▊| 2686/3350 [00:45<00:11, 56."
     ]
    },
    {
     "name": "stderr",
     "output_type": "stream",
     "text": [
      "\r",
      "Calibrating edits in editable positions...:  80%|▊| 2692/3350 [00:45<00:11, 56."
     ]
    },
    {
     "name": "stderr",
     "output_type": "stream",
     "text": [
      "\r",
      "Calibrating edits in editable positions...:  81%|▊| 2698/3350 [00:45<00:11, 56."
     ]
    },
    {
     "name": "stderr",
     "output_type": "stream",
     "text": [
      "\r",
      "Calibrating edits in editable positions...:  81%|▊| 2704/3350 [00:45<00:11, 56."
     ]
    },
    {
     "name": "stderr",
     "output_type": "stream",
     "text": [
      "\r",
      "Calibrating edits in editable positions...:  81%|▊| 2710/3350 [00:46<00:11, 56."
     ]
    },
    {
     "name": "stderr",
     "output_type": "stream",
     "text": [
      "\r",
      "Calibrating edits in editable positions...:  81%|▊| 2716/3350 [00:46<00:11, 56."
     ]
    },
    {
     "name": "stderr",
     "output_type": "stream",
     "text": [
      "\r",
      "Calibrating edits in editable positions...:  81%|▊| 2722/3350 [00:46<00:11, 56."
     ]
    },
    {
     "name": "stderr",
     "output_type": "stream",
     "text": [
      "\r",
      "Calibrating edits in editable positions...:  81%|▊| 2728/3350 [00:46<00:11, 56."
     ]
    },
    {
     "name": "stderr",
     "output_type": "stream",
     "text": [
      "\r",
      "Calibrating edits in editable positions...:  82%|▊| 2734/3350 [00:46<00:10, 56."
     ]
    },
    {
     "name": "stderr",
     "output_type": "stream",
     "text": [
      "\r",
      "Calibrating edits in editable positions...:  82%|▊| 2740/3350 [00:46<00:11, 55."
     ]
    },
    {
     "name": "stderr",
     "output_type": "stream",
     "text": [
      "\r",
      "Calibrating edits in editable positions...:  82%|▊| 2746/3350 [00:46<00:10, 55."
     ]
    },
    {
     "name": "stderr",
     "output_type": "stream",
     "text": [
      "\r",
      "Calibrating edits in editable positions...:  82%|▊| 2752/3350 [00:46<00:10, 55."
     ]
    },
    {
     "name": "stderr",
     "output_type": "stream",
     "text": [
      "\r",
      "Calibrating edits in editable positions...:  82%|▊| 2758/3350 [00:46<00:10, 56."
     ]
    },
    {
     "name": "stderr",
     "output_type": "stream",
     "text": [
      "\r",
      "Calibrating edits in editable positions...:  83%|▊| 2764/3350 [00:46<00:10, 56."
     ]
    },
    {
     "name": "stderr",
     "output_type": "stream",
     "text": [
      "\r",
      "Calibrating edits in editable positions...:  83%|▊| 2770/3350 [00:47<00:10, 56."
     ]
    },
    {
     "name": "stderr",
     "output_type": "stream",
     "text": [
      "\r",
      "Calibrating edits in editable positions...:  83%|▊| 2776/3350 [00:47<00:10, 56."
     ]
    },
    {
     "name": "stderr",
     "output_type": "stream",
     "text": [
      "\r",
      "Calibrating edits in editable positions...:  83%|▊| 2782/3350 [00:47<00:10, 56."
     ]
    },
    {
     "name": "stderr",
     "output_type": "stream",
     "text": [
      "\r",
      "Calibrating edits in editable positions...:  83%|▊| 2788/3350 [00:47<00:10, 56."
     ]
    },
    {
     "name": "stderr",
     "output_type": "stream",
     "text": [
      "\r",
      "Calibrating edits in editable positions...:  83%|▊| 2794/3350 [00:47<00:09, 55."
     ]
    },
    {
     "name": "stderr",
     "output_type": "stream",
     "text": [
      "\r",
      "Calibrating edits in editable positions...:  84%|▊| 2800/3350 [00:47<00:09, 55."
     ]
    },
    {
     "name": "stderr",
     "output_type": "stream",
     "text": [
      "\r",
      "Calibrating edits in editable positions...:  84%|▊| 2806/3350 [00:47<00:09, 55."
     ]
    },
    {
     "name": "stderr",
     "output_type": "stream",
     "text": [
      "\r",
      "Calibrating edits in editable positions...:  84%|▊| 2812/3350 [00:47<00:09, 55."
     ]
    },
    {
     "name": "stderr",
     "output_type": "stream",
     "text": [
      "\r",
      "Calibrating edits in editable positions...:  84%|▊| 2818/3350 [00:47<00:09, 55."
     ]
    },
    {
     "name": "stderr",
     "output_type": "stream",
     "text": [
      "\r",
      "Calibrating edits in editable positions...:  84%|▊| 2824/3350 [00:48<00:09, 55."
     ]
    },
    {
     "name": "stderr",
     "output_type": "stream",
     "text": [
      "\r",
      "Calibrating edits in editable positions...:  84%|▊| 2830/3350 [00:48<00:09, 56."
     ]
    },
    {
     "name": "stderr",
     "output_type": "stream",
     "text": [
      "\r",
      "Calibrating edits in editable positions...:  85%|▊| 2836/3350 [00:48<00:09, 56."
     ]
    },
    {
     "name": "stderr",
     "output_type": "stream",
     "text": [
      "\r",
      "Calibrating edits in editable positions...:  85%|▊| 2842/3350 [00:48<00:08, 57."
     ]
    },
    {
     "name": "stderr",
     "output_type": "stream",
     "text": [
      "\r",
      "Calibrating edits in editable positions...:  85%|▊| 2848/3350 [00:48<00:08, 57."
     ]
    },
    {
     "name": "stderr",
     "output_type": "stream",
     "text": [
      "\r",
      "Calibrating edits in editable positions...:  85%|▊| 2854/3350 [00:48<00:08, 57."
     ]
    },
    {
     "name": "stderr",
     "output_type": "stream",
     "text": [
      "\r",
      "Calibrating edits in editable positions...:  85%|▊| 2860/3350 [00:48<00:08, 57."
     ]
    },
    {
     "name": "stderr",
     "output_type": "stream",
     "text": [
      "\r",
      "Calibrating edits in editable positions...:  86%|▊| 2866/3350 [00:48<00:08, 57."
     ]
    },
    {
     "name": "stderr",
     "output_type": "stream",
     "text": [
      "\r",
      "Calibrating edits in editable positions...:  86%|▊| 2872/3350 [00:48<00:08, 57."
     ]
    },
    {
     "name": "stderr",
     "output_type": "stream",
     "text": [
      "\r",
      "Calibrating edits in editable positions...:  86%|▊| 2878/3350 [00:49<00:08, 57."
     ]
    },
    {
     "name": "stderr",
     "output_type": "stream",
     "text": [
      "\r",
      "Calibrating edits in editable positions...:  86%|▊| 2884/3350 [00:49<00:08, 57."
     ]
    },
    {
     "name": "stderr",
     "output_type": "stream",
     "text": [
      "\r",
      "Calibrating edits in editable positions...:  86%|▊| 2890/3350 [00:49<00:07, 57."
     ]
    },
    {
     "name": "stderr",
     "output_type": "stream",
     "text": [
      "\r",
      "Calibrating edits in editable positions...:  86%|▊| 2896/3350 [00:49<00:07, 57."
     ]
    },
    {
     "name": "stderr",
     "output_type": "stream",
     "text": [
      "\r",
      "Calibrating edits in editable positions...:  87%|▊| 2902/3350 [00:49<00:07, 57."
     ]
    },
    {
     "name": "stderr",
     "output_type": "stream",
     "text": [
      "\r",
      "Calibrating edits in editable positions...:  87%|▊| 2908/3350 [00:49<00:07, 57."
     ]
    },
    {
     "name": "stderr",
     "output_type": "stream",
     "text": [
      "\r",
      "Calibrating edits in editable positions...:  87%|▊| 2914/3350 [00:49<00:07, 56."
     ]
    },
    {
     "name": "stderr",
     "output_type": "stream",
     "text": [
      "\r",
      "Calibrating edits in editable positions...:  87%|▊| 2920/3350 [00:49<00:07, 56."
     ]
    },
    {
     "name": "stderr",
     "output_type": "stream",
     "text": [
      "\r",
      "Calibrating edits in editable positions...:  87%|▊| 2926/3350 [00:49<00:07, 56."
     ]
    },
    {
     "name": "stderr",
     "output_type": "stream",
     "text": [
      "\r",
      "Calibrating edits in editable positions...:  88%|▉| 2932/3350 [00:49<00:07, 56."
     ]
    },
    {
     "name": "stderr",
     "output_type": "stream",
     "text": [
      "\r",
      "Calibrating edits in editable positions...:  88%|▉| 2938/3350 [00:50<00:07, 57."
     ]
    },
    {
     "name": "stderr",
     "output_type": "stream",
     "text": [
      "\r",
      "Calibrating edits in editable positions...:  88%|▉| 2944/3350 [00:50<00:07, 57."
     ]
    },
    {
     "name": "stderr",
     "output_type": "stream",
     "text": [
      "\r",
      "Calibrating edits in editable positions...:  88%|▉| 2950/3350 [00:50<00:06, 58."
     ]
    },
    {
     "name": "stderr",
     "output_type": "stream",
     "text": [
      "\r",
      "Calibrating edits in editable positions...:  88%|▉| 2956/3350 [00:50<00:06, 57."
     ]
    },
    {
     "name": "stderr",
     "output_type": "stream",
     "text": [
      "\r",
      "Calibrating edits in editable positions...:  88%|▉| 2962/3350 [00:50<00:06, 57."
     ]
    },
    {
     "name": "stderr",
     "output_type": "stream",
     "text": [
      "\r",
      "Calibrating edits in editable positions...:  89%|▉| 2968/3350 [00:50<00:06, 57."
     ]
    },
    {
     "name": "stderr",
     "output_type": "stream",
     "text": [
      "\r",
      "Calibrating edits in editable positions...:  89%|▉| 2974/3350 [00:50<00:06, 57."
     ]
    },
    {
     "name": "stderr",
     "output_type": "stream",
     "text": [
      "\r",
      "Calibrating edits in editable positions...:  89%|▉| 2980/3350 [00:50<00:06, 57."
     ]
    },
    {
     "name": "stderr",
     "output_type": "stream",
     "text": [
      "\r",
      "Calibrating edits in editable positions...:  89%|▉| 2986/3350 [00:50<00:06, 57."
     ]
    },
    {
     "name": "stderr",
     "output_type": "stream",
     "text": [
      "\r",
      "Calibrating edits in editable positions...:  89%|▉| 2992/3350 [00:50<00:06, 57."
     ]
    },
    {
     "name": "stderr",
     "output_type": "stream",
     "text": [
      "\r",
      "Calibrating edits in editable positions...:  89%|▉| 2998/3350 [00:51<00:06, 57."
     ]
    },
    {
     "name": "stderr",
     "output_type": "stream",
     "text": [
      "\r",
      "Calibrating edits in editable positions...:  90%|▉| 3004/3350 [00:51<00:06, 57."
     ]
    },
    {
     "name": "stderr",
     "output_type": "stream",
     "text": [
      "\r",
      "Calibrating edits in editable positions...:  90%|▉| 3010/3350 [00:51<00:05, 57."
     ]
    },
    {
     "name": "stderr",
     "output_type": "stream",
     "text": [
      "\r",
      "Calibrating edits in editable positions...:  90%|▉| 3016/3350 [00:51<00:05, 56."
     ]
    },
    {
     "name": "stderr",
     "output_type": "stream",
     "text": [
      "\r",
      "Calibrating edits in editable positions...:  90%|▉| 3022/3350 [00:51<00:05, 56."
     ]
    },
    {
     "name": "stderr",
     "output_type": "stream",
     "text": [
      "\r",
      "Calibrating edits in editable positions...:  90%|▉| 3028/3350 [00:51<00:05, 56."
     ]
    },
    {
     "name": "stderr",
     "output_type": "stream",
     "text": [
      "\r",
      "Calibrating edits in editable positions...:  91%|▉| 3034/3350 [00:51<00:05, 56."
     ]
    },
    {
     "name": "stderr",
     "output_type": "stream",
     "text": [
      "\r",
      "Calibrating edits in editable positions...:  91%|▉| 3040/3350 [00:51<00:05, 56."
     ]
    },
    {
     "name": "stderr",
     "output_type": "stream",
     "text": [
      "\r",
      "Calibrating edits in editable positions...:  91%|▉| 3046/3350 [00:51<00:05, 56."
     ]
    },
    {
     "name": "stderr",
     "output_type": "stream",
     "text": [
      "\r",
      "Calibrating edits in editable positions...:  91%|▉| 3052/3350 [00:52<00:05, 56."
     ]
    },
    {
     "name": "stderr",
     "output_type": "stream",
     "text": [
      "\r",
      "Calibrating edits in editable positions...:  91%|▉| 3058/3350 [00:52<00:05, 56."
     ]
    },
    {
     "name": "stderr",
     "output_type": "stream",
     "text": [
      "\r",
      "Calibrating edits in editable positions...:  91%|▉| 3064/3350 [00:52<00:05, 57."
     ]
    },
    {
     "name": "stderr",
     "output_type": "stream",
     "text": [
      "\r",
      "Calibrating edits in editable positions...:  92%|▉| 3070/3350 [00:52<00:04, 57."
     ]
    },
    {
     "name": "stderr",
     "output_type": "stream",
     "text": [
      "\r",
      "Calibrating edits in editable positions...:  92%|▉| 3076/3350 [00:52<00:04, 56."
     ]
    },
    {
     "name": "stderr",
     "output_type": "stream",
     "text": [
      "\r",
      "Calibrating edits in editable positions...:  92%|▉| 3082/3350 [00:52<00:04, 56."
     ]
    },
    {
     "name": "stderr",
     "output_type": "stream",
     "text": [
      "\r",
      "Calibrating edits in editable positions...:  92%|▉| 3088/3350 [00:52<00:04, 56."
     ]
    },
    {
     "name": "stderr",
     "output_type": "stream",
     "text": [
      "\r",
      "Calibrating edits in editable positions...:  92%|▉| 3094/3350 [00:52<00:04, 56."
     ]
    },
    {
     "name": "stderr",
     "output_type": "stream",
     "text": [
      "\r",
      "Calibrating edits in editable positions...:  93%|▉| 3100/3350 [00:52<00:04, 56."
     ]
    },
    {
     "name": "stderr",
     "output_type": "stream",
     "text": [
      "\r",
      "Calibrating edits in editable positions...:  93%|▉| 3106/3350 [00:52<00:04, 56."
     ]
    },
    {
     "name": "stderr",
     "output_type": "stream",
     "text": [
      "\r",
      "Calibrating edits in editable positions...:  93%|▉| 3112/3350 [00:53<00:04, 55."
     ]
    },
    {
     "name": "stderr",
     "output_type": "stream",
     "text": [
      "\r",
      "Calibrating edits in editable positions...:  93%|▉| 3118/3350 [00:53<00:04, 55."
     ]
    },
    {
     "name": "stderr",
     "output_type": "stream",
     "text": [
      "\r",
      "Calibrating edits in editable positions...:  93%|▉| 3124/3350 [00:53<00:04, 55."
     ]
    },
    {
     "name": "stderr",
     "output_type": "stream",
     "text": [
      "\r",
      "Calibrating edits in editable positions...:  93%|▉| 3130/3350 [00:53<00:03, 55."
     ]
    },
    {
     "name": "stderr",
     "output_type": "stream",
     "text": [
      "\r",
      "Calibrating edits in editable positions...:  94%|▉| 3136/3350 [00:53<00:03, 55."
     ]
    },
    {
     "name": "stderr",
     "output_type": "stream",
     "text": [
      "\r",
      "Calibrating edits in editable positions...:  94%|▉| 3142/3350 [00:53<00:03, 55."
     ]
    },
    {
     "name": "stderr",
     "output_type": "stream",
     "text": [
      "\r",
      "Calibrating edits in editable positions...:  94%|▉| 3148/3350 [00:53<00:03, 55."
     ]
    },
    {
     "name": "stderr",
     "output_type": "stream",
     "text": [
      "\r",
      "Calibrating edits in editable positions...:  94%|▉| 3154/3350 [00:53<00:03, 56."
     ]
    },
    {
     "name": "stderr",
     "output_type": "stream",
     "text": [
      "\r",
      "Calibrating edits in editable positions...:  94%|▉| 3160/3350 [00:53<00:03, 56."
     ]
    },
    {
     "name": "stderr",
     "output_type": "stream",
     "text": [
      "\r",
      "Calibrating edits in editable positions...:  95%|▉| 3166/3350 [00:54<00:03, 56."
     ]
    },
    {
     "name": "stderr",
     "output_type": "stream",
     "text": [
      "\r",
      "Calibrating edits in editable positions...:  95%|▉| 3172/3350 [00:54<00:03, 56."
     ]
    },
    {
     "name": "stderr",
     "output_type": "stream",
     "text": [
      "\r",
      "Calibrating edits in editable positions...:  95%|▉| 3178/3350 [00:54<00:03, 55."
     ]
    },
    {
     "name": "stderr",
     "output_type": "stream",
     "text": [
      "\r",
      "Calibrating edits in editable positions...:  95%|▉| 3184/3350 [00:54<00:02, 56."
     ]
    },
    {
     "name": "stderr",
     "output_type": "stream",
     "text": [
      "\r",
      "Calibrating edits in editable positions...:  95%|▉| 3190/3350 [00:54<00:02, 56."
     ]
    },
    {
     "name": "stderr",
     "output_type": "stream",
     "text": [
      "\r",
      "Calibrating edits in editable positions...:  95%|▉| 3196/3350 [00:54<00:02, 56."
     ]
    },
    {
     "name": "stderr",
     "output_type": "stream",
     "text": [
      "\r",
      "Calibrating edits in editable positions...:  96%|▉| 3202/3350 [00:54<00:02, 57."
     ]
    },
    {
     "name": "stderr",
     "output_type": "stream",
     "text": [
      "\r",
      "Calibrating edits in editable positions...:  96%|▉| 3208/3350 [00:54<00:02, 56."
     ]
    },
    {
     "name": "stderr",
     "output_type": "stream",
     "text": [
      "\r",
      "Calibrating edits in editable positions...:  96%|▉| 3214/3350 [00:54<00:02, 56."
     ]
    },
    {
     "name": "stderr",
     "output_type": "stream",
     "text": [
      "\r",
      "Calibrating edits in editable positions...:  96%|▉| 3220/3350 [00:55<00:02, 56."
     ]
    },
    {
     "name": "stderr",
     "output_type": "stream",
     "text": [
      "\r",
      "Calibrating edits in editable positions...:  96%|▉| 3226/3350 [00:55<00:02, 56."
     ]
    },
    {
     "name": "stderr",
     "output_type": "stream",
     "text": [
      "\r",
      "Calibrating edits in editable positions...:  96%|▉| 3232/3350 [00:55<00:02, 56."
     ]
    },
    {
     "name": "stderr",
     "output_type": "stream",
     "text": [
      "\r",
      "Calibrating edits in editable positions...:  97%|▉| 3238/3350 [00:55<00:01, 56."
     ]
    },
    {
     "name": "stderr",
     "output_type": "stream",
     "text": [
      "\r",
      "Calibrating edits in editable positions...:  97%|▉| 3244/3350 [00:55<00:01, 56."
     ]
    },
    {
     "name": "stderr",
     "output_type": "stream",
     "text": [
      "\r",
      "Calibrating edits in editable positions...:  97%|▉| 3250/3350 [00:55<00:01, 56."
     ]
    },
    {
     "name": "stderr",
     "output_type": "stream",
     "text": [
      "\r",
      "Calibrating edits in editable positions...:  97%|▉| 3256/3350 [00:55<00:01, 56."
     ]
    },
    {
     "name": "stderr",
     "output_type": "stream",
     "text": [
      "\r",
      "Calibrating edits in editable positions...:  97%|▉| 3262/3350 [00:55<00:01, 55."
     ]
    },
    {
     "name": "stderr",
     "output_type": "stream",
     "text": [
      "\r",
      "Calibrating edits in editable positions...:  98%|▉| 3268/3350 [00:55<00:01, 56."
     ]
    },
    {
     "name": "stderr",
     "output_type": "stream",
     "text": [
      "\r",
      "Calibrating edits in editable positions...:  98%|▉| 3274/3350 [00:55<00:01, 56."
     ]
    },
    {
     "name": "stderr",
     "output_type": "stream",
     "text": [
      "\r",
      "Calibrating edits in editable positions...:  98%|▉| 3280/3350 [00:56<00:01, 56."
     ]
    },
    {
     "name": "stderr",
     "output_type": "stream",
     "text": [
      "\r",
      "Calibrating edits in editable positions...:  98%|▉| 3286/3350 [00:56<00:01, 55."
     ]
    },
    {
     "name": "stderr",
     "output_type": "stream",
     "text": [
      "\r",
      "Calibrating edits in editable positions...:  98%|▉| 3292/3350 [00:56<00:01, 55."
     ]
    },
    {
     "name": "stderr",
     "output_type": "stream",
     "text": [
      "\r",
      "Calibrating edits in editable positions...:  98%|▉| 3298/3350 [00:56<00:00, 55."
     ]
    },
    {
     "name": "stderr",
     "output_type": "stream",
     "text": [
      "\r",
      "Calibrating edits in editable positions...:  99%|▉| 3304/3350 [00:56<00:00, 56."
     ]
    },
    {
     "name": "stderr",
     "output_type": "stream",
     "text": [
      "\r",
      "Calibrating edits in editable positions...:  99%|▉| 3310/3350 [00:56<00:00, 56."
     ]
    },
    {
     "name": "stderr",
     "output_type": "stream",
     "text": [
      "\r",
      "Calibrating edits in editable positions...:  99%|▉| 3316/3350 [00:56<00:00, 55."
     ]
    },
    {
     "name": "stderr",
     "output_type": "stream",
     "text": [
      "\r",
      "Calibrating edits in editable positions...:  99%|▉| 3322/3350 [00:56<00:00, 55."
     ]
    },
    {
     "name": "stderr",
     "output_type": "stream",
     "text": [
      "\r",
      "Calibrating edits in editable positions...:  99%|▉| 3328/3350 [00:56<00:00, 55."
     ]
    },
    {
     "name": "stderr",
     "output_type": "stream",
     "text": [
      "\r",
      "Calibrating edits in editable positions...: 100%|▉| 3334/3350 [00:57<00:00, 55."
     ]
    },
    {
     "name": "stderr",
     "output_type": "stream",
     "text": [
      "\r",
      "Calibrating edits in editable positions...: 100%|▉| 3340/3350 [00:57<00:00, 55."
     ]
    },
    {
     "name": "stderr",
     "output_type": "stream",
     "text": [
      "\r",
      "Calibrating edits in editable positions...: 100%|▉| 3346/3350 [00:57<00:00, 55."
     ]
    },
    {
     "name": "stderr",
     "output_type": "stream",
     "text": [
      "\r",
      "Calibrating edits in editable positions...: 100%|█| 3350/3350 [00:57<00:00, 58."
     ]
    },
    {
     "name": "stderr",
     "output_type": "stream",
     "text": [
      "\n"
     ]
    }
   ],
   "source": [
    "cedit_rates_df = bean.plotting.editing_patterns.get_edit_rates(cdata_bulk, reporter_length=reporter_length, reporter_right_flank_length=reporter_right_flank_length)"
   ]
  },
  {
   "cell_type": "code",
   "execution_count": 8,
   "id": "af98b81b",
   "metadata": {
    "execution": {
     "iopub.execute_input": "2024-06-07T19:40:13.011637Z",
     "iopub.status.busy": "2024-06-07T19:40:13.011221Z",
     "iopub.status.idle": "2024-06-07T19:40:13.025601Z",
     "shell.execute_reply": "2024-06-07T19:40:13.025140Z"
    },
    "papermill": {
     "duration": 0.045491,
     "end_time": "2024-06-07T19:40:13.026519",
     "exception": false,
     "start_time": "2024-06-07T19:40:12.981028",
     "status": "completed"
    },
    "tags": []
   },
   "outputs": [
    {
     "data": {
      "text/html": [
       "<div>\n",
       "<style scoped>\n",
       "    .dataframe tbody tr th:only-of-type {\n",
       "        vertical-align: middle;\n",
       "    }\n",
       "\n",
       "    .dataframe tbody tr th {\n",
       "        vertical-align: top;\n",
       "    }\n",
       "\n",
       "    .dataframe thead th {\n",
       "        text-align: right;\n",
       "    }\n",
       "</style>\n",
       "<table border=\"1\" class=\"dataframe\">\n",
       "  <thead>\n",
       "    <tr style=\"text-align: right;\">\n",
       "      <th></th>\n",
       "      <th>guide</th>\n",
       "      <th>edit</th>\n",
       "      <th>rep_median</th>\n",
       "      <th>rep_mean</th>\n",
       "      <th>rel_pos</th>\n",
       "      <th>spacer_pos</th>\n",
       "      <th>base_change</th>\n",
       "      <th>context</th>\n",
       "    </tr>\n",
       "  </thead>\n",
       "  <tbody>\n",
       "    <tr>\n",
       "      <th>0</th>\n",
       "      <td>12:51779544AGA_Maj_ABE_2_g1</td>\n",
       "      <td>-1:7:+:A&gt;G</td>\n",
       "      <td>0.162679</td>\n",
       "      <td>0.188650</td>\n",
       "      <td>7</td>\n",
       "      <td>1</td>\n",
       "      <td>A&gt;G</td>\n",
       "      <td>GA</td>\n",
       "    </tr>\n",
       "    <tr>\n",
       "      <th>1</th>\n",
       "      <td>12:51779544AGA_Maj_ABE_2_g1</td>\n",
       "      <td>-1:7:+:A&gt;T</td>\n",
       "      <td>0.000000</td>\n",
       "      <td>0.000340</td>\n",
       "      <td>7</td>\n",
       "      <td>1</td>\n",
       "      <td>A&gt;T</td>\n",
       "      <td>GA</td>\n",
       "    </tr>\n",
       "    <tr>\n",
       "      <th>2</th>\n",
       "      <td>12:51779544AGA_Maj_ABE_2_g1</td>\n",
       "      <td>0:8:+:G&gt;A</td>\n",
       "      <td>0.000000</td>\n",
       "      <td>0.000000</td>\n",
       "      <td>8</td>\n",
       "      <td>2</td>\n",
       "      <td>G&gt;A</td>\n",
       "      <td>AG</td>\n",
       "    </tr>\n",
       "    <tr>\n",
       "      <th>3</th>\n",
       "      <td>12:51779544AGA_Maj_ABE_2_g1</td>\n",
       "      <td>0:8:+:G&gt;T</td>\n",
       "      <td>0.000000</td>\n",
       "      <td>0.000000</td>\n",
       "      <td>8</td>\n",
       "      <td>2</td>\n",
       "      <td>G&gt;T</td>\n",
       "      <td>AG</td>\n",
       "    </tr>\n",
       "    <tr>\n",
       "      <th>4</th>\n",
       "      <td>12:51779544AGA_Maj_ABE_2_g1</td>\n",
       "      <td>10:18:+:C&gt;A</td>\n",
       "      <td>0.000000</td>\n",
       "      <td>0.000758</td>\n",
       "      <td>18</td>\n",
       "      <td>12</td>\n",
       "      <td>C&gt;A</td>\n",
       "      <td>CC</td>\n",
       "    </tr>\n",
       "    <tr>\n",
       "      <th>...</th>\n",
       "      <td>...</td>\n",
       "      <td>...</td>\n",
       "      <td>...</td>\n",
       "      <td>...</td>\n",
       "      <td>...</td>\n",
       "      <td>...</td>\n",
       "      <td>...</td>\n",
       "      <td>...</td>\n",
       "    </tr>\n",
       "    <tr>\n",
       "      <th>117488</th>\n",
       "      <td>rs9297994_Min_ABE_576_g2</td>\n",
       "      <td>19:19:+:A&gt;G</td>\n",
       "      <td>0.000000</td>\n",
       "      <td>0.000000</td>\n",
       "      <td>19</td>\n",
       "      <td>13</td>\n",
       "      <td>A&gt;G</td>\n",
       "      <td>GA</td>\n",
       "    </tr>\n",
       "    <tr>\n",
       "      <th>117489</th>\n",
       "      <td>rs9297994_Min_ABE_576_g5</td>\n",
       "      <td>23:23:+:A&gt;G</td>\n",
       "      <td>0.000000</td>\n",
       "      <td>0.000000</td>\n",
       "      <td>23</td>\n",
       "      <td>18</td>\n",
       "      <td>A&gt;G</td>\n",
       "      <td>AA</td>\n",
       "    </tr>\n",
       "    <tr>\n",
       "      <th>117490</th>\n",
       "      <td>rs9297994_Min_ABE_576_g5</td>\n",
       "      <td>25:25:+:A&gt;G</td>\n",
       "      <td>0.000000</td>\n",
       "      <td>0.000000</td>\n",
       "      <td>25</td>\n",
       "      <td>20</td>\n",
       "      <td>A&gt;G</td>\n",
       "      <td>AA</td>\n",
       "    </tr>\n",
       "    <tr>\n",
       "      <th>117491</th>\n",
       "      <td>rs9884390_Maj_ABE_345_g5</td>\n",
       "      <td>18:18:+:A&gt;G</td>\n",
       "      <td>0.000000</td>\n",
       "      <td>0.000000</td>\n",
       "      <td>18</td>\n",
       "      <td>13</td>\n",
       "      <td>A&gt;G</td>\n",
       "      <td>AA</td>\n",
       "    </tr>\n",
       "    <tr>\n",
       "      <th>117492</th>\n",
       "      <td>rs9884390_Maj_ABE_345_g5</td>\n",
       "      <td>20:20:+:A&gt;G</td>\n",
       "      <td>0.000000</td>\n",
       "      <td>0.000000</td>\n",
       "      <td>20</td>\n",
       "      <td>15</td>\n",
       "      <td>A&gt;G</td>\n",
       "      <td>AA</td>\n",
       "    </tr>\n",
       "  </tbody>\n",
       "</table>\n",
       "<p>117493 rows × 8 columns</p>\n",
       "</div>"
      ],
      "text/plain": [
       "                              guide         edit  rep_median  rep_mean  \\\n",
       "0       12:51779544AGA_Maj_ABE_2_g1   -1:7:+:A>G    0.162679  0.188650   \n",
       "1       12:51779544AGA_Maj_ABE_2_g1   -1:7:+:A>T    0.000000  0.000340   \n",
       "2       12:51779544AGA_Maj_ABE_2_g1    0:8:+:G>A    0.000000  0.000000   \n",
       "3       12:51779544AGA_Maj_ABE_2_g1    0:8:+:G>T    0.000000  0.000000   \n",
       "4       12:51779544AGA_Maj_ABE_2_g1  10:18:+:C>A    0.000000  0.000758   \n",
       "...                             ...          ...         ...       ...   \n",
       "117488     rs9297994_Min_ABE_576_g2  19:19:+:A>G    0.000000  0.000000   \n",
       "117489     rs9297994_Min_ABE_576_g5  23:23:+:A>G    0.000000  0.000000   \n",
       "117490     rs9297994_Min_ABE_576_g5  25:25:+:A>G    0.000000  0.000000   \n",
       "117491     rs9884390_Maj_ABE_345_g5  18:18:+:A>G    0.000000  0.000000   \n",
       "117492     rs9884390_Maj_ABE_345_g5  20:20:+:A>G    0.000000  0.000000   \n",
       "\n",
       "        rel_pos  spacer_pos base_change context  \n",
       "0             7           1         A>G      GA  \n",
       "1             7           1         A>T      GA  \n",
       "2             8           2         G>A      AG  \n",
       "3             8           2         G>T      AG  \n",
       "4            18          12         C>A      CC  \n",
       "...         ...         ...         ...     ...  \n",
       "117488       19          13         A>G      GA  \n",
       "117489       23          18         A>G      AA  \n",
       "117490       25          20         A>G      AA  \n",
       "117491       18          13         A>G      AA  \n",
       "117492       20          15         A>G      AA  \n",
       "\n",
       "[117493 rows x 8 columns]"
      ]
     },
     "execution_count": 8,
     "metadata": {},
     "output_type": "execute_result"
    }
   ],
   "source": [
    "cedit_rates_df"
   ]
  },
  {
   "cell_type": "code",
   "execution_count": 9,
   "id": "b6a6203e",
   "metadata": {
    "execution": {
     "iopub.execute_input": "2024-06-07T19:40:13.087596Z",
     "iopub.status.busy": "2024-06-07T19:40:13.087171Z",
     "iopub.status.idle": "2024-06-07T19:40:13.654664Z",
     "shell.execute_reply": "2024-06-07T19:40:13.654103Z"
    },
    "papermill": {
     "duration": 0.600551,
     "end_time": "2024-06-07T19:40:13.655673",
     "exception": false,
     "start_time": "2024-06-07T19:40:13.055122",
     "status": "completed"
    },
    "tags": []
   },
   "outputs": [
    {
     "data": {
      "image/png": "[encoded data removed]",
      "text/plain": [
       "<Figure size 600x300 with 1 Axes>"
      ]
     },
     "metadata": {},
     "output_type": "display_data"
    }
   ],
   "source": [
    "be.pl.editing_patterns.plot_by_pos_context(cedit_rates_df, target_bases=list(cdata_bulk.target_base_changes.keys()), save_fig = save_fig, save_path = f\"{output_prefix}_pos_context.pdf\")"
   ]
  },
  {
   "cell_type": "markdown",
   "id": "79c9cd07",
   "metadata": {
    "papermill": {
     "duration": 0.030129,
     "end_time": "2024-06-07T19:40:13.717968",
     "exception": false,
     "start_time": "2024-06-07T19:40:13.687839",
     "status": "completed"
    },
    "tags": []
   },
   "source": [
    "### BE-Hive like plotting\n"
   ]
  },
  {
   "cell_type": "code",
   "execution_count": 10,
   "id": "03ad02c6",
   "metadata": {
    "execution": {
     "iopub.execute_input": "2024-06-07T19:40:13.787694Z",
     "iopub.status.busy": "2024-06-07T19:40:13.787226Z",
     "iopub.status.idle": "2024-06-07T19:40:13.790570Z",
     "shell.execute_reply": "2024-06-07T19:40:13.790117Z"
    },
    "papermill": {
     "duration": 0.034706,
     "end_time": "2024-06-07T19:40:13.791459",
     "exception": false,
     "start_time": "2024-06-07T19:40:13.756753",
     "status": "completed"
    },
    "tags": []
   },
   "outputs": [],
   "source": [
    "cedit_rates_df.spacer_pos = cedit_rates_df.spacer_pos.astype(int)"
   ]
  },
  {
   "cell_type": "code",
   "execution_count": 11,
   "id": "a20aefb5",
   "metadata": {
    "execution": {
     "iopub.execute_input": "2024-06-07T19:40:13.857182Z",
     "iopub.status.busy": "2024-06-07T19:40:13.856861Z",
     "iopub.status.idle": "2024-06-07T19:40:13.866486Z",
     "shell.execute_reply": "2024-06-07T19:40:13.866041Z"
    },
    "papermill": {
     "duration": 0.045581,
     "end_time": "2024-06-07T19:40:13.867387",
     "exception": false,
     "start_time": "2024-06-07T19:40:13.821806",
     "status": "completed"
    },
    "tags": []
   },
   "outputs": [
    {
     "data": {
      "text/html": [
       "<div>\n",
       "<style scoped>\n",
       "    .dataframe tbody tr th:only-of-type {\n",
       "        vertical-align: middle;\n",
       "    }\n",
       "\n",
       "    .dataframe tbody tr th {\n",
       "        vertical-align: top;\n",
       "    }\n",
       "\n",
       "    .dataframe thead th {\n",
       "        text-align: right;\n",
       "    }\n",
       "</style>\n",
       "<table border=\"1\" class=\"dataframe\">\n",
       "  <thead>\n",
       "    <tr style=\"text-align: right;\">\n",
       "      <th></th>\n",
       "      <th>guide</th>\n",
       "      <th>edit</th>\n",
       "      <th>rep_median</th>\n",
       "      <th>rep_mean</th>\n",
       "      <th>rel_pos</th>\n",
       "      <th>spacer_pos</th>\n",
       "      <th>base_change</th>\n",
       "      <th>context</th>\n",
       "      <th>spacer_pos_ctxt</th>\n",
       "    </tr>\n",
       "  </thead>\n",
       "  <tbody>\n",
       "    <tr>\n",
       "      <th>0</th>\n",
       "      <td>12:51779544AGA_Maj_ABE_2_g1</td>\n",
       "      <td>-1:7:+:A&gt;G</td>\n",
       "      <td>0.162679</td>\n",
       "      <td>0.188650</td>\n",
       "      <td>7</td>\n",
       "      <td>1</td>\n",
       "      <td>A&gt;G</td>\n",
       "      <td>GA</td>\n",
       "      <td>0.8</td>\n",
       "    </tr>\n",
       "    <tr>\n",
       "      <th>1</th>\n",
       "      <td>12:51779544AGA_Maj_ABE_2_g1</td>\n",
       "      <td>-1:7:+:A&gt;T</td>\n",
       "      <td>0.000000</td>\n",
       "      <td>0.000340</td>\n",
       "      <td>7</td>\n",
       "      <td>1</td>\n",
       "      <td>A&gt;T</td>\n",
       "      <td>GA</td>\n",
       "      <td>0.8</td>\n",
       "    </tr>\n",
       "    <tr>\n",
       "      <th>2</th>\n",
       "      <td>12:51779544AGA_Maj_ABE_2_g1</td>\n",
       "      <td>0:8:+:G&gt;A</td>\n",
       "      <td>0.000000</td>\n",
       "      <td>0.000000</td>\n",
       "      <td>8</td>\n",
       "      <td>2</td>\n",
       "      <td>G&gt;A</td>\n",
       "      <td>AG</td>\n",
       "      <td>NaN</td>\n",
       "    </tr>\n",
       "    <tr>\n",
       "      <th>3</th>\n",
       "      <td>12:51779544AGA_Maj_ABE_2_g1</td>\n",
       "      <td>0:8:+:G&gt;T</td>\n",
       "      <td>0.000000</td>\n",
       "      <td>0.000000</td>\n",
       "      <td>8</td>\n",
       "      <td>2</td>\n",
       "      <td>G&gt;T</td>\n",
       "      <td>AG</td>\n",
       "      <td>NaN</td>\n",
       "    </tr>\n",
       "    <tr>\n",
       "      <th>4</th>\n",
       "      <td>12:51779544AGA_Maj_ABE_2_g1</td>\n",
       "      <td>10:18:+:C&gt;A</td>\n",
       "      <td>0.000000</td>\n",
       "      <td>0.000758</td>\n",
       "      <td>18</td>\n",
       "      <td>12</td>\n",
       "      <td>C&gt;A</td>\n",
       "      <td>CC</td>\n",
       "      <td>NaN</td>\n",
       "    </tr>\n",
       "    <tr>\n",
       "      <th>...</th>\n",
       "      <td>...</td>\n",
       "      <td>...</td>\n",
       "      <td>...</td>\n",
       "      <td>...</td>\n",
       "      <td>...</td>\n",
       "      <td>...</td>\n",
       "      <td>...</td>\n",
       "      <td>...</td>\n",
       "      <td>...</td>\n",
       "    </tr>\n",
       "    <tr>\n",
       "      <th>117488</th>\n",
       "      <td>rs9297994_Min_ABE_576_g2</td>\n",
       "      <td>19:19:+:A&gt;G</td>\n",
       "      <td>0.000000</td>\n",
       "      <td>0.000000</td>\n",
       "      <td>19</td>\n",
       "      <td>13</td>\n",
       "      <td>A&gt;G</td>\n",
       "      <td>GA</td>\n",
       "      <td>12.8</td>\n",
       "    </tr>\n",
       "    <tr>\n",
       "      <th>117489</th>\n",
       "      <td>rs9297994_Min_ABE_576_g5</td>\n",
       "      <td>23:23:+:A&gt;G</td>\n",
       "      <td>0.000000</td>\n",
       "      <td>0.000000</td>\n",
       "      <td>23</td>\n",
       "      <td>18</td>\n",
       "      <td>A&gt;G</td>\n",
       "      <td>AA</td>\n",
       "      <td>17.6</td>\n",
       "    </tr>\n",
       "    <tr>\n",
       "      <th>117490</th>\n",
       "      <td>rs9297994_Min_ABE_576_g5</td>\n",
       "      <td>25:25:+:A&gt;G</td>\n",
       "      <td>0.000000</td>\n",
       "      <td>0.000000</td>\n",
       "      <td>25</td>\n",
       "      <td>20</td>\n",
       "      <td>A&gt;G</td>\n",
       "      <td>AA</td>\n",
       "      <td>19.6</td>\n",
       "    </tr>\n",
       "    <tr>\n",
       "      <th>117491</th>\n",
       "      <td>rs9884390_Maj_ABE_345_g5</td>\n",
       "      <td>18:18:+:A&gt;G</td>\n",
       "      <td>0.000000</td>\n",
       "      <td>0.000000</td>\n",
       "      <td>18</td>\n",
       "      <td>13</td>\n",
       "      <td>A&gt;G</td>\n",
       "      <td>AA</td>\n",
       "      <td>12.6</td>\n",
       "    </tr>\n",
       "    <tr>\n",
       "      <th>117492</th>\n",
       "      <td>rs9884390_Maj_ABE_345_g5</td>\n",
       "      <td>20:20:+:A&gt;G</td>\n",
       "      <td>0.000000</td>\n",
       "      <td>0.000000</td>\n",
       "      <td>20</td>\n",
       "      <td>15</td>\n",
       "      <td>A&gt;G</td>\n",
       "      <td>AA</td>\n",
       "      <td>14.6</td>\n",
       "    </tr>\n",
       "  </tbody>\n",
       "</table>\n",
       "<p>117493 rows × 9 columns</p>\n",
       "</div>"
      ],
      "text/plain": [
       "                              guide         edit  rep_median  rep_mean  \\\n",
       "0       12:51779544AGA_Maj_ABE_2_g1   -1:7:+:A>G    0.162679  0.188650   \n",
       "1       12:51779544AGA_Maj_ABE_2_g1   -1:7:+:A>T    0.000000  0.000340   \n",
       "2       12:51779544AGA_Maj_ABE_2_g1    0:8:+:G>A    0.000000  0.000000   \n",
       "3       12:51779544AGA_Maj_ABE_2_g1    0:8:+:G>T    0.000000  0.000000   \n",
       "4       12:51779544AGA_Maj_ABE_2_g1  10:18:+:C>A    0.000000  0.000758   \n",
       "...                             ...          ...         ...       ...   \n",
       "117488     rs9297994_Min_ABE_576_g2  19:19:+:A>G    0.000000  0.000000   \n",
       "117489     rs9297994_Min_ABE_576_g5  23:23:+:A>G    0.000000  0.000000   \n",
       "117490     rs9297994_Min_ABE_576_g5  25:25:+:A>G    0.000000  0.000000   \n",
       "117491     rs9884390_Maj_ABE_345_g5  18:18:+:A>G    0.000000  0.000000   \n",
       "117492     rs9884390_Maj_ABE_345_g5  20:20:+:A>G    0.000000  0.000000   \n",
       "\n",
       "        rel_pos  spacer_pos base_change context  spacer_pos_ctxt  \n",
       "0             7           1         A>G      GA              0.8  \n",
       "1             7           1         A>T      GA              0.8  \n",
       "2             8           2         G>A      AG              NaN  \n",
       "3             8           2         G>T      AG              NaN  \n",
       "4            18          12         C>A      CC              NaN  \n",
       "...         ...         ...         ...     ...              ...  \n",
       "117488       19          13         A>G      GA             12.8  \n",
       "117489       23          18         A>G      AA             17.6  \n",
       "117490       25          20         A>G      AA             19.6  \n",
       "117491       18          13         A>G      AA             12.6  \n",
       "117492       20          15         A>G      AA             14.6  \n",
       "\n",
       "[117493 rows x 9 columns]"
      ]
     },
     "execution_count": 11,
     "metadata": {},
     "output_type": "execute_result"
    }
   ],
   "source": [
    "cedit_rates_df"
   ]
  },
  {
   "cell_type": "code",
   "execution_count": 12,
   "id": "26b806fb",
   "metadata": {
    "execution": {
     "iopub.execute_input": "2024-06-07T19:40:13.955010Z",
     "iopub.status.busy": "2024-06-07T19:40:13.954690Z",
     "iopub.status.idle": "2024-06-07T19:40:14.420018Z",
     "shell.execute_reply": "2024-06-07T19:40:14.419459Z"
    },
    "papermill": {
     "duration": 0.497248,
     "end_time": "2024-06-07T19:40:14.421029",
     "exception": false,
     "start_time": "2024-06-07T19:40:13.923781",
     "status": "completed"
    },
    "tags": []
   },
   "outputs": [
    {
     "name": "stdout",
     "output_type": "stream",
     "text": [
      "A>G\n"
     ]
    },
    {
     "data": {
      "image/png": "[encoded data removed]",
      "text/plain": [
       "<Figure size 300x700 with 1 Axes>"
      ]
     },
     "metadata": {},
     "output_type": "display_data"
    }
   ],
   "source": [
    "_, profile_df = be.pl.editing_patterns.plot_by_pos_behive(\n",
    "    cedit_rates_df,\n",
    "    cdata_bulk,\n",
    "    target_basechanges=cdata_bulk.target_base_changes, \n",
    ")\n",
    "profile_df.to_csv(f\"{output_prefix}_behive_like_profile.csv\")\n",
    "if save_fig: plt.savefig(f\"{output_prefix}_behive_like_profile.pdf\", bbox_inches = 'tight')"
   ]
  },
  {
   "cell_type": "code",
   "execution_count": 13,
   "id": "1c4a4b8c",
   "metadata": {
    "execution": {
     "iopub.execute_input": "2024-06-07T19:40:14.514375Z",
     "iopub.status.busy": "2024-06-07T19:40:14.513905Z",
     "iopub.status.idle": "2024-06-07T19:40:14.964075Z",
     "shell.execute_reply": "2024-06-07T19:40:14.963519Z"
    },
    "papermill": {
     "duration": 0.509649,
     "end_time": "2024-06-07T19:40:14.965178",
     "exception": false,
     "start_time": "2024-06-07T19:40:14.455529",
     "status": "completed"
    },
    "tags": []
   },
   "outputs": [
    {
     "name": "stdout",
     "output_type": "stream",
     "text": [
      "A>G\n"
     ]
    },
    {
     "data": {
      "image/png": "[encoded data removed]",
      "text/plain": [
       "<Figure size 300x700 with 1 Axes>"
      ]
     },
     "metadata": {},
     "output_type": "display_data"
    }
   ],
   "source": [
    "ax, _ = be.pl.editing_patterns.plot_by_pos_behive(\n",
    "    cedit_rates_df,\n",
    "    cdata_bulk,\n",
    "    target_basechanges=cdata_bulk.target_base_changes, \n",
    "    normalize=True\n",
    ")\n",
    "\n",
    "for i, _ax in enumerate(ax):\n",
    "    ag_rates = profile_df[cdata_bulk.uns['target_base_changes'].split(\",\")[i]]\n",
    "    window_sum_maxpos = ag_rates.rolling(max_editing_window_length).sum().argmax()\n",
    "    window_end = ag_rates.index[window_sum_maxpos]\n",
    "    window_start = window_end - max_editing_window_length + 1\n",
    "    _ax.add_patch(\n",
    "        patches.Rectangle(\n",
    "            (2, window_start-1),\n",
    "            1,\n",
    "            max_editing_window_length,\n",
    "            edgecolor=\"black\",\n",
    "            fill=False,\n",
    "            lw=2\n",
    "        )\n",
    "    )\n",
    "\n",
    "if save_fig: plt.savefig(f\"{output_prefix}_behive_like_profile_normed.pdf\", bbox_inches = 'tight')"
   ]
  },
  {
   "cell_type": "markdown",
   "id": "e6e321cc",
   "metadata": {
    "papermill": {
     "duration": 0.038987,
     "end_time": "2024-06-07T19:40:15.040103",
     "exception": false,
     "start_time": "2024-06-07T19:40:15.001116",
     "status": "completed"
    },
    "tags": []
   },
   "source": [
    "Box shows the window of the same length with maximal editing rates."
   ]
  },
  {
   "cell_type": "markdown",
   "id": "2af2fb74",
   "metadata": {
    "papermill": {
     "duration": 0.050168,
     "end_time": "2024-06-07T19:40:15.129805",
     "exception": false,
     "start_time": "2024-06-07T19:40:15.079637",
     "status": "completed"
    },
    "tags": []
   },
   "source": [
    "## Combination with PAM\n"
   ]
  },
  {
   "cell_type": "code",
   "execution_count": 14,
   "id": "875428cb",
   "metadata": {
    "execution": {
     "iopub.execute_input": "2024-06-07T19:40:15.196969Z",
     "iopub.status.busy": "2024-06-07T19:40:15.196487Z",
     "iopub.status.idle": "2024-06-07T19:40:15.200808Z",
     "shell.execute_reply": "2024-06-07T19:40:15.200301Z"
    },
    "papermill": {
     "duration": 0.039302,
     "end_time": "2024-06-07T19:40:15.201806",
     "exception": false,
     "start_time": "2024-06-07T19:40:15.162504",
     "status": "completed"
    },
    "tags": []
   },
   "outputs": [
    {
     "name": "stdout",
     "output_type": "stream",
     "text": [
      "--pam-col not provided to `bean profile` so skipping the PAM by position output.\n"
     ]
    }
   ],
   "source": [
    "target_base_changes = cdata_bulk.uns['target_base_changes'].split(',')\n",
    "if pam_col is not None:\n",
    "    be.pl.editing_patterns.plot_by_pos_pam(cdata_bulk, cedit_rates_df, target_base_changes, pam_col, save_fig=save_fig, save_path=\"{output_prefix}_pos_by_pam.pdf\")\n",
    "else:\n",
    "    print(\"--pam-col not provided to `bean profile` so skipping the PAM by position output.\")"
   ]
  },
  {
   "cell_type": "markdown",
   "id": "7de05180",
   "metadata": {
    "papermill": {
     "duration": 0.032501,
     "end_time": "2024-06-07T19:40:15.266194",
     "exception": false,
     "start_time": "2024-06-07T19:40:15.233693",
     "status": "completed"
    },
    "tags": []
   },
   "source": [
    "## Context preference logo\n"
   ]
  },
  {
   "cell_type": "markdown",
   "id": "88b5a1ff",
   "metadata": {
    "papermill": {
     "duration": 0.032264,
     "end_time": "2024-06-07T19:40:15.330871",
     "exception": false,
     "start_time": "2024-06-07T19:40:15.298607",
     "status": "completed"
    },
    "tags": []
   },
   "source": [
    "Draw relative editing efficiency +1 and -1 the positions. Note that the confidence of the result may depend on how diverse your libray is in terms of sequence context around edits."
   ]
  },
  {
   "cell_type": "code",
   "execution_count": 15,
   "id": "bdfa27d0",
   "metadata": {
    "execution": {
     "iopub.execute_input": "2024-06-07T19:40:15.396827Z",
     "iopub.status.busy": "2024-06-07T19:40:15.396417Z",
     "iopub.status.idle": "2024-06-07T19:40:17.009569Z",
     "shell.execute_reply": "2024-06-07T19:40:17.008960Z"
    },
    "papermill": {
     "duration": 1.647167,
     "end_time": "2024-06-07T19:40:17.010609",
     "exception": false,
     "start_time": "2024-06-07T19:40:15.363442",
     "status": "completed"
    },
    "tags": []
   },
   "outputs": [
    {
     "name": "stderr",
     "output_type": "stream",
     "text": [
      "/data/pinello/SHARED_SOFTWARE/anaconda_latest/envs/jy_18loci/lib/python3.10/site-packages/logomaker/src/Logo.py:1131: FutureWarning: Setting an item of incompatible dtype is deprecated and will raise in a future error of pandas. Value '<logomaker.src.Glyph.Glyph object at 0x7f4b989b2f80>' has dtype incompatible with float64, please explicitly cast to a compatible dtype first.\n",
      "  glyph_df.loc[p, c] = glyph\n",
      "/data/pinello/SHARED_SOFTWARE/anaconda_latest/envs/jy_18loci/lib/python3.10/site-packages/logomaker/src/Logo.py:1131: FutureWarning: Setting an item of incompatible dtype is deprecated and will raise in a future error of pandas. Value '<logomaker.src.Glyph.Glyph object at 0x7f4b989b2ef0>' has dtype incompatible with float64, please explicitly cast to a compatible dtype first.\n",
      "  glyph_df.loc[p, c] = glyph\n",
      "/data/pinello/SHARED_SOFTWARE/anaconda_latest/envs/jy_18loci/lib/python3.10/site-packages/logomaker/src/Logo.py:1131: FutureWarning: Setting an item of incompatible dtype is deprecated and will raise in a future error of pandas. Value '<logomaker.src.Glyph.Glyph object at 0x7f4b989b2b00>' has dtype incompatible with float64, please explicitly cast to a compatible dtype first.\n",
      "  glyph_df.loc[p, c] = glyph\n",
      "/data/pinello/SHARED_SOFTWARE/anaconda_latest/envs/jy_18loci/lib/python3.10/site-packages/logomaker/src/Logo.py:1131: FutureWarning: Setting an item of incompatible dtype is deprecated and will raise in a future error of pandas. Value '<logomaker.src.Glyph.Glyph object at 0x7f4b989b34c0>' has dtype incompatible with float64, please explicitly cast to a compatible dtype first.\n",
      "  glyph_df.loc[p, c] = glyph\n"
     ]
    },
    {
     "data": {
      "image/png": "[encoded data removed]",
      "text/plain": [
       "<Figure size 300x500 with 1 Axes>"
      ]
     },
     "metadata": {},
     "output_type": "display_data"
    }
   ],
   "source": [
    "context_tbl = be.pl.editing_patterns.plot_context_specificity(cdata_bulk, cedit_rates_df, target_base_changes=target_base_changes, window=(window_start, window_end), save_fig = save_fig, save_path = f\"{output_prefix}_context_preference_{window_start}_{window_end}.pdf\")\n",
    "context_tbl.to_csv(f\"{output_prefix}_context.csv\")"
   ]
  }
 ],
 "metadata": {
  "kernelspec": {
   "display_name": "Python 3",
   "language": "python",
   "name": "python3"
  },
  "language_info": {
   "codemirror_mode": {
    "name": "ipython",
    "version": 3
   },
   "file_extension": ".py",
   "mimetype": "text/x-python",
   "name": "python",
   "nbconvert_exporter": "python",
   "pygments_lexer": "ipython3",
   "version": "3.10.12"
  },
  "papermill": {
   "default_parameters": {},
   "duration": 114.932655,
   "end_time": "2024-06-07T19:40:19.365184",
   "environment_variables": {},
   "exception": null,
   "input_path": "/data/pinello/PROJECTS/2021_08_ANBE/software/crispr-bean/bean/notebooks/profile_editing_preference.ipynb",
   "output_path": "./bean_profile.bean_count_LDLvar_combined.copy2/bean_profile.ipynb",
   "parameters": {
    "bdata_path": "bean_count_LDLvar_combined.copy2.h5ad",
    "condition_col": "bin",
    "control_condition": "bulk",
    "max_editing_window_length": 6,
    "output_prefix": "./bean_profile.bean_count_LDLvar_combined.copy2/bean_profile",
    "pam_col": null,
    "replicate_col": "rep",
    "reporter_length": 32,
    "reporter_right_flank_length": 6,
    "save_fig": false
   },
   "start_time": "2024-06-07T19:38:24.432529",
   "version": "2.4.0"
  }
 },
 "nbformat": 4,
 "nbformat_minor": 5
}