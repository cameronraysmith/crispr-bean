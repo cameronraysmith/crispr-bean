{
 "cells": [
  {
   "attachments": {},
   "cell_type": "markdown",
   "metadata": {},
   "source": [
    "# ReporterScreen sample / guide quality report"
   ]
  },
  {
   "attachments": {},
   "cell_type": "markdown",
   "metadata": {},
   "source": [
    "Examine the quality of the guide and samples and masks the low-quality guides and samples."
   ]
  },
  {
   "cell_type": "code",
   "execution_count": null,
   "metadata": {},
   "outputs": [],
   "source": [
    "import perturb_tools as pt\n",
    "import bean as be\n",
    "from bean.qc.utils import fill_in_missing_samples\n",
    "import matplotlib.pyplot as plt\n",
    "plt.style.use('default')"
   ]
  },
  {
   "cell_type": "code",
   "execution_count": null,
   "metadata": {
    "tags": [
     "parameters"
    ]
   },
   "outputs": [],
   "source": [
    "exp_id = \"LDLRCDS\"\n",
    "save_format = \"png\"\n",
    "bdata_path = \"../results/mapped/LDLRCDS/bean_count_LDLRCDS_combined.h5ad\"\n",
    "out_bdata_path = \"../results/mapped/LDLRCDS/bean_count_LDLRCDS_masked.h5ad\"\n",
    "rel_pos_is_reporter=False\n",
    "edit_quantification_start_pos = 2\n",
    "edit_quantification_end_pos = 7\n",
    "target_pos_col = \"target_pos\"\n",
    "corr_X_thres = 0.7\n",
    "edit_rate_thres = 0.1\n",
    "posctrl_col = \"group\"\n",
    "posctrl_val = \"PosCtrl\"\n",
    "lfc_thres = -0.1\n",
    "replicate_label = \"rep\"\n",
    "condition_label = \"bin\"\n",
    "comp_cond1 = \"top\"\n",
    "comp_cond2 = \"bot\"\n",
    "recalculate_edits = False\n",
    "tiling = None"
   ]
  },
  {
   "cell_type": "code",
   "execution_count": null,
   "metadata": {},
   "outputs": [],
   "source": [
    "bdata = be.read_h5ad(bdata_path)"
   ]
  },
  {
   "cell_type": "code",
   "execution_count": null,
   "metadata": {},
   "outputs": [],
   "source": [
    "if tiling is not None:\n",
    "    bdata.uns['tiling'] = tiling"
   ]
  },
  {
   "cell_type": "markdown",
   "metadata": {},
   "source": [
    "Add dummy samples if not paired"
   ]
  },
  {
   "cell_type": "code",
   "execution_count": null,
   "metadata": {},
   "outputs": [],
   "source": [
    "bdata = fill_in_missing_samples(bdata, condition_label, replicate_label)"
   ]
  },
  {
   "cell_type": "code",
   "execution_count": null,
   "metadata": {},
   "outputs": [],
   "source": [
    "bdata.samples"
   ]
  },
  {
   "cell_type": "code",
   "execution_count": null,
   "metadata": {},
   "outputs": [],
   "source": [
    "bdata.X"
   ]
  },
  {
   "attachments": {},
   "cell_type": "markdown",
   "metadata": {},
   "source": [
    "Annotate unannotated samples & log-normalize guides"
   ]
  },
  {
   "cell_type": "code",
   "execution_count": null,
   "metadata": {},
   "outputs": [],
   "source": [
    "#bdata.samples[[replicate_label, condition_label]] = bdata.samples.index.to_series().str.split(\"_\", expand=True)"
   ]
  },
  {
   "cell_type": "code",
   "execution_count": null,
   "metadata": {},
   "outputs": [],
   "source": [
    "bdata.log_norm()"
   ]
  },
  {
   "attachments": {},
   "cell_type": "markdown",
   "metadata": {},
   "source": [
    "## Sample quality"
   ]
  },
  {
   "attachments": {},
   "cell_type": "markdown",
   "metadata": {},
   "source": [
    "### Visualize quality metrics"
   ]
  },
  {
   "attachments": {},
   "cell_type": "markdown",
   "metadata": {},
   "source": [
    "#### 1. Guide coverage"
   ]
  },
  {
   "cell_type": "code",
   "execution_count": null,
   "metadata": {},
   "outputs": [],
   "source": [
    "pt.qc.plot_guide_coverage(bdata, figsize=(6,4))\n"
   ]
  },
  {
   "cell_type": "code",
   "execution_count": null,
   "metadata": {},
   "outputs": [],
   "source": [
    "plt.style.use('default')\n",
    "pt.qc.plot_X_gini(bdata)\n",
    "plt.savefig(f\"{exp_id}_gini.{save_format}\")"
   ]
  },
  {
   "attachments": {},
   "cell_type": "markdown",
   "metadata": {},
   "source": [
    "#### 2. Guide abundance correlation"
   ]
  },
  {
   "cell_type": "code",
   "execution_count": null,
   "metadata": {},
   "outputs": [],
   "source": [
    "pt.qc.plot_correlation(bdata, \"Spearman\")"
   ]
  },
  {
   "attachments": {},
   "cell_type": "markdown",
   "metadata": {},
   "source": [
    "#### 3. LFC correlation of positive controls"
   ]
  },
  {
   "cell_type": "code",
   "execution_count": null,
   "metadata": {},
   "outputs": [],
   "source": [
    "selected_guides = bdata.guides[posctrl_col] == posctrl_val if posctrl_col else ~bdata.guides.index.isnull()\n",
    "ax=pt.qc.plot_lfc_correlation(bdata, selected_guides, method=\"Spearman\", cond1=comp_cond1, cond2=comp_cond2, rep_col=replicate_label, compare_col=condition_label, figsize=(10,10))\n",
    "\n",
    "ax.set_title(\"top/bot LFC correlation, Spearman\")\n",
    "plt.yticks(rotation=0) \n",
    "plt.xticks(rotation=90) \n",
    "plt.show()"
   ]
  },
  {
   "cell_type": "code",
   "execution_count": null,
   "metadata": {},
   "outputs": [],
   "source": []
  },
  {
   "cell_type": "code",
   "execution_count": null,
   "metadata": {},
   "outputs": [],
   "source": []
  },
  {
   "attachments": {},
   "cell_type": "markdown",
   "metadata": {},
   "source": [
    "#### 4. Guide editing rates"
   ]
  },
  {
   "cell_type": "code",
   "execution_count": null,
   "metadata": {},
   "outputs": [],
   "source": [
    "if recalculate_edits or \"edits\" not in bdata.layers.keys() or bdata.layers['edits'].max() == 0:\n",
    "    if 'allele_counts' in bdata.uns.keys():\n",
    "        bdata.uns['allele_counts'] = bdata.uns['allele_counts'].loc[bdata.uns['allele_counts'].allele.map(str) != \"\"]\n",
    "        bdata.get_edit_from_allele()\n",
    "        bdata.get_edit_mat_from_uns(\n",
    "            rel_pos_start=edit_quantification_start_pos, \n",
    "            target_pos_col=target_pos_col,\n",
    "            rel_pos_end=edit_quantification_end_pos, \n",
    "            rel_pos_is_reporter=rel_pos_is_reporter\n",
    "        )"
   ]
  },
  {
   "cell_type": "code",
   "execution_count": null,
   "metadata": {},
   "outputs": [],
   "source": [
    "if \"edits\" in bdata.layers.keys():\n",
    "    bdata.get_guide_edit_rate(\n",
    "        editable_base_start = edit_quantification_start_pos, \n",
    "        editable_base_end=edit_quantification_end_pos)\n",
    "    be.qc.plot_guide_edit_rates(bdata)"
   ]
  },
  {
   "cell_type": "code",
   "execution_count": null,
   "metadata": {},
   "outputs": [],
   "source": [
    "if \"edits\" in bdata.layers.keys():\n",
    "    bdata.get_edit_rate(\n",
    "        editable_base_start = edit_quantification_start_pos, \n",
    "        editable_base_end=edit_quantification_end_pos\n",
    "    )\n",
    "    be.qc.plot_sample_edit_rates(bdata)"
   ]
  },
  {
   "attachments": {},
   "cell_type": "markdown",
   "metadata": {},
   "source": [
    "### Mask low-quality samples"
   ]
  },
  {
   "cell_type": "code",
   "execution_count": null,
   "metadata": {
    "scrolled": true
   },
   "outputs": [],
   "source": [
    "bdata.samples.style.background_gradient(cmap=\"coolwarm_r\")"
   ]
  },
  {
   "attachments": {},
   "cell_type": "markdown",
   "metadata": {},
   "source": [
    "Assign sample mask to mask low-quality samples."
   ]
  },
  {
   "cell_type": "code",
   "execution_count": null,
   "metadata": {},
   "outputs": [],
   "source": [
    "bdata.samples['mask'] = 1\n",
    "bdata.samples.loc[bdata.samples.median_corr_X < corr_X_thres, 'mask'] = 0\n",
    "if \"median_editing_rate\" in bdata.samples.columns.tolist():\n",
    "    bdata.samples.loc[bdata.samples.median_editing_rate < edit_rate_thres, 'mask'] = 0\n",
    "bdata_filtered = bdata[:, bdata.samples[\"median_lfc_corr.top_bot\"] > lfc_thres]"
   ]
  },
  {
   "cell_type": "code",
   "execution_count": null,
   "metadata": {},
   "outputs": [],
   "source": [
    "# leave replicate with more than 1 sorting bin data\n",
    "rep_n_samples = bdata_filtered.samples.groupby(replicate_label)['mask'].sum()\n",
    "print(rep_n_samples)\n",
    "rep_has_too_small_sample = rep_n_samples.loc[rep_n_samples < 2].index.tolist()\n",
    "rep_has_too_small_sample\n",
    "print(f\"Excluding reps {rep_has_too_small_sample} that has less than 2 samples per replicate.\")\n",
    "bdata_filtered = bdata_filtered[:, ~bdata_filtered.samples[replicate_label].isin(rep_has_too_small_sample)]"
   ]
  },
  {
   "cell_type": "code",
   "execution_count": null,
   "metadata": {
    "scrolled": true
   },
   "outputs": [],
   "source": [
    "bdata_filtered.samples.style.background_gradient(cmap=\"coolwarm_r\")"
   ]
  },
  {
   "cell_type": "code",
   "execution_count": null,
   "metadata": {},
   "outputs": [],
   "source": []
  },
  {
   "attachments": {},
   "cell_type": "markdown",
   "metadata": {},
   "source": [
    "## Identify outlier guides"
   ]
  },
  {
   "cell_type": "code",
   "execution_count": null,
   "metadata": {},
   "outputs": [],
   "source": [
    "outlier_guides, mask = be.qc.get_outlier_guides_and_mask(bdata_filtered, condit_col = condition_label, replicate_col = replicate_label)"
   ]
  },
  {
   "cell_type": "code",
   "execution_count": null,
   "metadata": {},
   "outputs": [],
   "source": [
    "outlier_guides\n"
   ]
  },
  {
   "cell_type": "code",
   "execution_count": null,
   "metadata": {},
   "outputs": [],
   "source": [
    "outlier_guides_n_samples = outlier_guides['name'].value_counts()\n",
    "guides_to_exclude = outlier_guides_n_samples.loc[outlier_guides_n_samples > 2].index\n",
    "guides_to_exclude"
   ]
  },
  {
   "cell_type": "code",
   "execution_count": null,
   "metadata": {},
   "outputs": [],
   "source": [
    "bdata_filtered.uns['repguide_mask'] = mask"
   ]
  },
  {
   "cell_type": "code",
   "execution_count": null,
   "metadata": {},
   "outputs": [],
   "source": [
    "bdata_filtered = bdata_filtered[~bdata_filtered.guides.index.isin(guides_to_exclude),:]"
   ]
  },
  {
   "cell_type": "code",
   "execution_count": null,
   "metadata": {},
   "outputs": [],
   "source": [
    "bdata_filtered"
   ]
  },
  {
   "cell_type": "code",
   "execution_count": null,
   "metadata": {},
   "outputs": [],
   "source": [
    "bdata_filtered.uns['repguide_mask'].shape"
   ]
  },
  {
   "cell_type": "code",
   "execution_count": null,
   "metadata": {},
   "outputs": [],
   "source": [
    "bdata_filtered.write(out_bdata_path)"
   ]
  },
  {
   "cell_type": "code",
   "execution_count": null,
   "metadata": {},
   "outputs": [],
   "source": []
  }
 ],
 "metadata": {
  "kernelspec": {
   "display_name": "Python (anbe_py38)",
   "language": "python",
   "name": "myenv"
  },
  "language_info": {
   "codemirror_mode": {
    "name": "ipython",
    "version": 3
   },
   "file_extension": ".py",
   "mimetype": "text/x-python",
   "name": "python",
   "nbconvert_exporter": "python",
   "pygments_lexer": "ipython3",
   "version": "3.8.6"
  },
  "vscode": {
   "interpreter": {
    "hash": "f896b923b6c52da1e67f7b045b4079be8e0e80c01063f180eed3663f6a063892"
   }
  }
 },
 "nbformat": 4,
 "nbformat_minor": 2
}
